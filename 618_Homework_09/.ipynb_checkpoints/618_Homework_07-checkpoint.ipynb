{
 "cells": [
  {
   "cell_type": "markdown",
   "metadata": {},
   "source": [
    "# Homework 7: Classification"
   ]
  },
  {
   "cell_type": "markdown",
   "metadata": {
    "colab_type": "text",
    "id": "HiF5779SXEsY",
    "outputExpanded": false
   },
   "source": [
    "## The total score for this assignment will be 100 points, consisting of:\n",
    "- 10 pt: Overall quality of spelling, grammar, puctuation, etc. of written sentences.\n",
    "- 10 pt: Codes are written in [PEP 8](https://www.python.org/dev/peps/pep-0008/) style.\n",
    "- 80 pt: Homework questions. "
   ]
  },
  {
   "cell_type": "markdown",
   "metadata": {},
   "source": [
    "This homework assignment is very similar to the in-class lab exercise that you completed this week.\n"
   ]
  },
  {
   "cell_type": "markdown",
   "metadata": {},
   "source": [
    "The dataset is from the \"Malicious and Benign Websites\" Kaggle project at https://www.kaggle.com/xwolf12/malicious-and-benign-websites/home (you'll need to go to that URL to get a full description of the data).\n",
    "\n",
    "From the overview:\n",
    "\n",
    "> The project consisted to evaluate different classification models to predict malicious and benign websites, based on application layer and network characteristics. The data were obtained by using different verified sources of benign and malicious URL's, in a low interactive client honeypot to isolate network traffic. We used additional tools to get other information, such as, server country with Whois."
   ]
  },
  {
   "cell_type": "markdown",
   "metadata": {},
   "source": [
    "Your task is to build the best classifier you can, choosing from either Random Forests or Naive Bayes classifiers (i.e. no XGBoost, SVM, Logistic Regression, etc.).\n",
    "\n",
    "You will need to split the complete dataset into training and testing datasets.  We recommend a 70%-30% split."
   ]
  },
  {
   "cell_type": "markdown",
   "metadata": {},
   "source": [
    "1. Build both Random Forest (10 points) and Naive Bayes (10 points) classifiers to predict the TYPE variable.  Be sure to provide interpretations of your results.\n",
    "\n",
    "2. Experiment with changing the number of \"folds\" in your cross-validator for your Random Forest classifiers (10 points). Be sure to provide interpretations of your results.\n",
    "\n",
    "3. Tune your Random Forest model by varying hyperparamters (15 points). Be sure to provide interpretations of your results.\n",
    "\n",
    "3. Experiment with setting the appropriate values for *priors* in the Naive Bayes model (the priors should correspond to the proportions of the TYPE values) (10 points). Be sure to provide interpretations of your results.\n",
    "\n",
    "4. Report the most important feature(s) based on your Random Forest classifier (10 points). Are you surprised by the results?  Explain why.\n",
    "\n",
    "5. Summarize your findings, including which classifier and paramters gave you the best results and include an in-depth explanation of how you might improve your results.  You should also investigate what the different fields mean, so you'll need to do some research about websites and internet protocols! (15 points)\n"
   ]
  },
  {
   "cell_type": "code",
   "execution_count": 305,
   "metadata": {},
   "outputs": [],
   "source": [
    "import numpy as np\n",
    "import pandas as pd\n",
    "import scipy as sp\n",
    "import sklearn as sk\n",
    "from sklearn.model_selection import train_test_split\n",
    "from sklearn.model_selection import cross_val_score\n",
    "import sklearn.ensemble as skens\n",
    "import sklearn.metrics as skmetric\n",
    "import sklearn.naive_bayes as sknb\n",
    "import sklearn.tree as sktree\n",
    "import matplotlib.pyplot as plt\n",
    "import matplotlib\n",
    "%matplotlib inline\n",
    "import seaborn as sns\n",
    "sns.set(style='white', color_codes=True, font_scale=1.3)\n",
    "import sklearn.externals.six as sksix\n",
    "import IPython.display as ipd\n",
    "from sklearn.model_selection import cross_val_score\n",
    "from sklearn import metrics\n",
    "import os\n",
    "import warnings\n",
    "from sklearn.model_selection import GridSearchCV\n",
    "import datetime as dt\n",
    "from sklearn.metrics import accuracy_score"
   ]
  },
  {
   "cell_type": "code",
   "execution_count": 306,
   "metadata": {},
   "outputs": [],
   "source": [
    "warnings.filterwarnings('ignore')"
   ]
  },
  {
   "cell_type": "code",
   "execution_count": 307,
   "metadata": {},
   "outputs": [],
   "source": [
    "website = pd.read_csv('data/maliciousandbenign.csv')"
   ]
  },
  {
   "cell_type": "code",
   "execution_count": 308,
   "metadata": {},
   "outputs": [
    {
     "data": {
      "text/plain": [
       "URL                            0\n",
       "URL_LENGTH                     0\n",
       "NUMBER_SPECIAL_CHARACTERS      0\n",
       "CHARSET                        0\n",
       "SERVER                         1\n",
       "CONTENT_LENGTH               812\n",
       "WHOIS_COUNTRY                  0\n",
       "WHOIS_STATEPRO                 0\n",
       "WHOIS_REGDATE                  0\n",
       "WHOIS_UPDATED_DATE             0\n",
       "TCP_CONVERSATION_EXCHANGE      0\n",
       "DIST_REMOTE_TCP_PORT           0\n",
       "REMOTE_IPS                     0\n",
       "APP_BYTES                      0\n",
       "SOURCE_APP_PACKETS             0\n",
       "REMOTE_APP_PACKETS             0\n",
       "SOURCE_APP_BYTES               0\n",
       "REMOTE_APP_BYTES               0\n",
       "APP_PACKETS                    0\n",
       "DNS_QUERY_TIMES                1\n",
       "Type                           0\n",
       "dtype: int64"
      ]
     },
     "execution_count": 308,
     "metadata": {},
     "output_type": "execute_result"
    }
   ],
   "source": [
    "website.isna().sum()"
   ]
  },
  {
   "cell_type": "code",
   "execution_count": 309,
   "metadata": {},
   "outputs": [],
   "source": [
    "website = website.drop(columns='CONTENT_LENGTH')"
   ]
  },
  {
   "cell_type": "code",
   "execution_count": 310,
   "metadata": {},
   "outputs": [
    {
     "data": {
      "text/plain": [
       "[]        1654\n",
       "[None]     127\n",
       "Name: WHOIS_REGDATE, dtype: int64"
      ]
     },
     "execution_count": 310,
     "metadata": {},
     "output_type": "execute_result"
    }
   ],
   "source": [
    "website['WHOIS_REGDATE'].str.findall('None').value_counts()"
   ]
  },
  {
   "cell_type": "code",
   "execution_count": 311,
   "metadata": {},
   "outputs": [],
   "source": [
    "website = website.mask(website.eq('None')).dropna()"
   ]
  },
  {
   "cell_type": "code",
   "execution_count": 312,
   "metadata": {},
   "outputs": [],
   "source": [
    "website['WHOIS_REGDATE']=pd.to_datetime(website['WHOIS_REGDATE']).map(dt.datetime.toordinal)\n",
    "website['WHOIS_UPDATED_DATE']=pd.to_datetime(website['WHOIS_UPDATED_DATE']).map(dt.datetime.toordinal)\n",
    "\n"
   ]
  },
  {
   "cell_type": "code",
   "execution_count": 313,
   "metadata": {},
   "outputs": [
    {
     "data": {
      "text/html": [
       "<div>\n",
       "<style scoped>\n",
       "    .dataframe tbody tr th:only-of-type {\n",
       "        vertical-align: middle;\n",
       "    }\n",
       "\n",
       "    .dataframe tbody tr th {\n",
       "        vertical-align: top;\n",
       "    }\n",
       "\n",
       "    .dataframe thead th {\n",
       "        text-align: right;\n",
       "    }\n",
       "</style>\n",
       "<table border=\"1\" class=\"dataframe\">\n",
       "  <thead>\n",
       "    <tr style=\"text-align: right;\">\n",
       "      <th></th>\n",
       "      <th>URL</th>\n",
       "      <th>URL_LENGTH</th>\n",
       "      <th>NUMBER_SPECIAL_CHARACTERS</th>\n",
       "      <th>CHARSET</th>\n",
       "      <th>SERVER</th>\n",
       "      <th>WHOIS_COUNTRY</th>\n",
       "      <th>WHOIS_STATEPRO</th>\n",
       "      <th>WHOIS_REGDATE</th>\n",
       "      <th>WHOIS_UPDATED_DATE</th>\n",
       "      <th>TCP_CONVERSATION_EXCHANGE</th>\n",
       "      <th>DIST_REMOTE_TCP_PORT</th>\n",
       "      <th>REMOTE_IPS</th>\n",
       "      <th>APP_BYTES</th>\n",
       "      <th>SOURCE_APP_PACKETS</th>\n",
       "      <th>REMOTE_APP_PACKETS</th>\n",
       "      <th>SOURCE_APP_BYTES</th>\n",
       "      <th>REMOTE_APP_BYTES</th>\n",
       "      <th>APP_PACKETS</th>\n",
       "      <th>DNS_QUERY_TIMES</th>\n",
       "      <th>Type</th>\n",
       "    </tr>\n",
       "  </thead>\n",
       "  <tbody>\n",
       "    <tr>\n",
       "      <td>3</td>\n",
       "      <td>B0_113</td>\n",
       "      <td>17</td>\n",
       "      <td>6</td>\n",
       "      <td>ISO-8859-1</td>\n",
       "      <td>nginx</td>\n",
       "      <td>US</td>\n",
       "      <td>AK</td>\n",
       "      <td>729215</td>\n",
       "      <td>735211</td>\n",
       "      <td>31</td>\n",
       "      <td>22</td>\n",
       "      <td>3</td>\n",
       "      <td>3812</td>\n",
       "      <td>39</td>\n",
       "      <td>37</td>\n",
       "      <td>18784</td>\n",
       "      <td>4380</td>\n",
       "      <td>39</td>\n",
       "      <td>8.0</td>\n",
       "      <td>0</td>\n",
       "    </tr>\n",
       "    <tr>\n",
       "      <td>5</td>\n",
       "      <td>B0_2064</td>\n",
       "      <td>18</td>\n",
       "      <td>7</td>\n",
       "      <td>UTF-8</td>\n",
       "      <td>nginx</td>\n",
       "      <td>SC</td>\n",
       "      <td>Mahe</td>\n",
       "      <td>736031</td>\n",
       "      <td>736033</td>\n",
       "      <td>11</td>\n",
       "      <td>6</td>\n",
       "      <td>9</td>\n",
       "      <td>894</td>\n",
       "      <td>11</td>\n",
       "      <td>13</td>\n",
       "      <td>838</td>\n",
       "      <td>894</td>\n",
       "      <td>11</td>\n",
       "      <td>0.0</td>\n",
       "      <td>0</td>\n",
       "    </tr>\n",
       "    <tr>\n",
       "      <td>6</td>\n",
       "      <td>B0_462</td>\n",
       "      <td>18</td>\n",
       "      <td>6</td>\n",
       "      <td>iso-8859-1</td>\n",
       "      <td>Apache/2</td>\n",
       "      <td>US</td>\n",
       "      <td>CO</td>\n",
       "      <td>731060</td>\n",
       "      <td>735970</td>\n",
       "      <td>12</td>\n",
       "      <td>0</td>\n",
       "      <td>3</td>\n",
       "      <td>1189</td>\n",
       "      <td>14</td>\n",
       "      <td>13</td>\n",
       "      <td>8559</td>\n",
       "      <td>1327</td>\n",
       "      <td>14</td>\n",
       "      <td>2.0</td>\n",
       "      <td>0</td>\n",
       "    </tr>\n",
       "    <tr>\n",
       "      <td>7</td>\n",
       "      <td>B0_1128</td>\n",
       "      <td>19</td>\n",
       "      <td>6</td>\n",
       "      <td>us-ascii</td>\n",
       "      <td>Microsoft-HTTPAPI/2.0</td>\n",
       "      <td>US</td>\n",
       "      <td>FL</td>\n",
       "      <td>729101</td>\n",
       "      <td>736407</td>\n",
       "      <td>0</td>\n",
       "      <td>0</td>\n",
       "      <td>0</td>\n",
       "      <td>0</td>\n",
       "      <td>0</td>\n",
       "      <td>0</td>\n",
       "      <td>0</td>\n",
       "      <td>0</td>\n",
       "      <td>0</td>\n",
       "      <td>0.0</td>\n",
       "      <td>0</td>\n",
       "    </tr>\n",
       "    <tr>\n",
       "      <td>10</td>\n",
       "      <td>B0_1013</td>\n",
       "      <td>20</td>\n",
       "      <td>6</td>\n",
       "      <td>utf-8</td>\n",
       "      <td>Apache</td>\n",
       "      <td>US</td>\n",
       "      <td>Kansas</td>\n",
       "      <td>732933</td>\n",
       "      <td>735850</td>\n",
       "      <td>0</td>\n",
       "      <td>0</td>\n",
       "      <td>0</td>\n",
       "      <td>0</td>\n",
       "      <td>0</td>\n",
       "      <td>0</td>\n",
       "      <td>0</td>\n",
       "      <td>0</td>\n",
       "      <td>0</td>\n",
       "      <td>0.0</td>\n",
       "      <td>0</td>\n",
       "    </tr>\n",
       "    <tr>\n",
       "      <td>...</td>\n",
       "      <td>...</td>\n",
       "      <td>...</td>\n",
       "      <td>...</td>\n",
       "      <td>...</td>\n",
       "      <td>...</td>\n",
       "      <td>...</td>\n",
       "      <td>...</td>\n",
       "      <td>...</td>\n",
       "      <td>...</td>\n",
       "      <td>...</td>\n",
       "      <td>...</td>\n",
       "      <td>...</td>\n",
       "      <td>...</td>\n",
       "      <td>...</td>\n",
       "      <td>...</td>\n",
       "      <td>...</td>\n",
       "      <td>...</td>\n",
       "      <td>...</td>\n",
       "      <td>...</td>\n",
       "      <td>...</td>\n",
       "    </tr>\n",
       "    <tr>\n",
       "      <td>1776</td>\n",
       "      <td>M4_48</td>\n",
       "      <td>194</td>\n",
       "      <td>16</td>\n",
       "      <td>UTF-8</td>\n",
       "      <td>Apache</td>\n",
       "      <td>ES</td>\n",
       "      <td>Barcelona</td>\n",
       "      <td>733302</td>\n",
       "      <td>736003</td>\n",
       "      <td>0</td>\n",
       "      <td>0</td>\n",
       "      <td>0</td>\n",
       "      <td>0</td>\n",
       "      <td>0</td>\n",
       "      <td>3</td>\n",
       "      <td>186</td>\n",
       "      <td>0</td>\n",
       "      <td>0</td>\n",
       "      <td>0.0</td>\n",
       "      <td>1</td>\n",
       "    </tr>\n",
       "    <tr>\n",
       "      <td>1777</td>\n",
       "      <td>M4_41</td>\n",
       "      <td>198</td>\n",
       "      <td>17</td>\n",
       "      <td>UTF-8</td>\n",
       "      <td>Apache</td>\n",
       "      <td>ES</td>\n",
       "      <td>Barcelona</td>\n",
       "      <td>733302</td>\n",
       "      <td>736003</td>\n",
       "      <td>0</td>\n",
       "      <td>0</td>\n",
       "      <td>0</td>\n",
       "      <td>0</td>\n",
       "      <td>0</td>\n",
       "      <td>2</td>\n",
       "      <td>124</td>\n",
       "      <td>0</td>\n",
       "      <td>0</td>\n",
       "      <td>0.0</td>\n",
       "      <td>1</td>\n",
       "    </tr>\n",
       "    <tr>\n",
       "      <td>1778</td>\n",
       "      <td>B0_162</td>\n",
       "      <td>201</td>\n",
       "      <td>34</td>\n",
       "      <td>utf-8</td>\n",
       "      <td>Apache/2.2.16 (Debian)</td>\n",
       "      <td>US</td>\n",
       "      <td>FL</td>\n",
       "      <td>729800</td>\n",
       "      <td>735794</td>\n",
       "      <td>83</td>\n",
       "      <td>2</td>\n",
       "      <td>6</td>\n",
       "      <td>6631</td>\n",
       "      <td>87</td>\n",
       "      <td>89</td>\n",
       "      <td>132181</td>\n",
       "      <td>6945</td>\n",
       "      <td>87</td>\n",
       "      <td>4.0</td>\n",
       "      <td>0</td>\n",
       "    </tr>\n",
       "    <tr>\n",
       "      <td>1779</td>\n",
       "      <td>B0_1152</td>\n",
       "      <td>234</td>\n",
       "      <td>34</td>\n",
       "      <td>ISO-8859-1</td>\n",
       "      <td>cloudflare-nginx</td>\n",
       "      <td>US</td>\n",
       "      <td>CA</td>\n",
       "      <td>729393</td>\n",
       "      <td>736219</td>\n",
       "      <td>0</td>\n",
       "      <td>0</td>\n",
       "      <td>0</td>\n",
       "      <td>0</td>\n",
       "      <td>0</td>\n",
       "      <td>0</td>\n",
       "      <td>0</td>\n",
       "      <td>0</td>\n",
       "      <td>0</td>\n",
       "      <td>0.0</td>\n",
       "      <td>0</td>\n",
       "    </tr>\n",
       "    <tr>\n",
       "      <td>1780</td>\n",
       "      <td>B0_676</td>\n",
       "      <td>249</td>\n",
       "      <td>40</td>\n",
       "      <td>utf-8</td>\n",
       "      <td>Microsoft-IIS/8.5</td>\n",
       "      <td>US</td>\n",
       "      <td>Wisconsin</td>\n",
       "      <td>733360</td>\n",
       "      <td>735192</td>\n",
       "      <td>19</td>\n",
       "      <td>6</td>\n",
       "      <td>11</td>\n",
       "      <td>2314</td>\n",
       "      <td>25</td>\n",
       "      <td>28</td>\n",
       "      <td>3039</td>\n",
       "      <td>2776</td>\n",
       "      <td>25</td>\n",
       "      <td>6.0</td>\n",
       "      <td>0</td>\n",
       "    </tr>\n",
       "  </tbody>\n",
       "</table>\n",
       "<p>1257 rows × 20 columns</p>\n",
       "</div>"
      ],
      "text/plain": [
       "          URL  URL_LENGTH  NUMBER_SPECIAL_CHARACTERS     CHARSET  \\\n",
       "3      B0_113          17                          6  ISO-8859-1   \n",
       "5     B0_2064          18                          7       UTF-8   \n",
       "6      B0_462          18                          6  iso-8859-1   \n",
       "7     B0_1128          19                          6    us-ascii   \n",
       "10    B0_1013          20                          6       utf-8   \n",
       "...       ...         ...                        ...         ...   \n",
       "1776    M4_48         194                         16       UTF-8   \n",
       "1777    M4_41         198                         17       UTF-8   \n",
       "1778   B0_162         201                         34       utf-8   \n",
       "1779  B0_1152         234                         34  ISO-8859-1   \n",
       "1780   B0_676         249                         40       utf-8   \n",
       "\n",
       "                      SERVER WHOIS_COUNTRY WHOIS_STATEPRO  WHOIS_REGDATE  \\\n",
       "3                      nginx            US             AK         729215   \n",
       "5                      nginx            SC           Mahe         736031   \n",
       "6                   Apache/2            US             CO         731060   \n",
       "7      Microsoft-HTTPAPI/2.0            US             FL         729101   \n",
       "10                    Apache            US         Kansas         732933   \n",
       "...                      ...           ...            ...            ...   \n",
       "1776                  Apache            ES      Barcelona         733302   \n",
       "1777                  Apache            ES      Barcelona         733302   \n",
       "1778  Apache/2.2.16 (Debian)            US             FL         729800   \n",
       "1779        cloudflare-nginx            US             CA         729393   \n",
       "1780       Microsoft-IIS/8.5            US      Wisconsin         733360   \n",
       "\n",
       "      WHOIS_UPDATED_DATE  TCP_CONVERSATION_EXCHANGE  DIST_REMOTE_TCP_PORT  \\\n",
       "3                 735211                         31                    22   \n",
       "5                 736033                         11                     6   \n",
       "6                 735970                         12                     0   \n",
       "7                 736407                          0                     0   \n",
       "10                735850                          0                     0   \n",
       "...                  ...                        ...                   ...   \n",
       "1776              736003                          0                     0   \n",
       "1777              736003                          0                     0   \n",
       "1778              735794                         83                     2   \n",
       "1779              736219                          0                     0   \n",
       "1780              735192                         19                     6   \n",
       "\n",
       "      REMOTE_IPS  APP_BYTES  SOURCE_APP_PACKETS  REMOTE_APP_PACKETS  \\\n",
       "3              3       3812                  39                  37   \n",
       "5              9        894                  11                  13   \n",
       "6              3       1189                  14                  13   \n",
       "7              0          0                   0                   0   \n",
       "10             0          0                   0                   0   \n",
       "...          ...        ...                 ...                 ...   \n",
       "1776           0          0                   0                   3   \n",
       "1777           0          0                   0                   2   \n",
       "1778           6       6631                  87                  89   \n",
       "1779           0          0                   0                   0   \n",
       "1780          11       2314                  25                  28   \n",
       "\n",
       "      SOURCE_APP_BYTES  REMOTE_APP_BYTES  APP_PACKETS  DNS_QUERY_TIMES  Type  \n",
       "3                18784              4380           39              8.0     0  \n",
       "5                  838               894           11              0.0     0  \n",
       "6                 8559              1327           14              2.0     0  \n",
       "7                    0                 0            0              0.0     0  \n",
       "10                   0                 0            0              0.0     0  \n",
       "...                ...               ...          ...              ...   ...  \n",
       "1776               186                 0            0              0.0     1  \n",
       "1777               124                 0            0              0.0     1  \n",
       "1778            132181              6945           87              4.0     0  \n",
       "1779                 0                 0            0              0.0     0  \n",
       "1780              3039              2776           25              6.0     0  \n",
       "\n",
       "[1257 rows x 20 columns]"
      ]
     },
     "execution_count": 313,
     "metadata": {},
     "output_type": "execute_result"
    }
   ],
   "source": [
    "website "
   ]
  },
  {
   "cell_type": "code",
   "execution_count": 314,
   "metadata": {},
   "outputs": [
    {
     "data": {
      "text/plain": [
       "Index(['URL', 'URL_LENGTH', 'NUMBER_SPECIAL_CHARACTERS', 'CHARSET', 'SERVER',\n",
       "       'WHOIS_COUNTRY', 'WHOIS_STATEPRO', 'WHOIS_REGDATE',\n",
       "       'WHOIS_UPDATED_DATE', 'TCP_CONVERSATION_EXCHANGE',\n",
       "       'DIST_REMOTE_TCP_PORT', 'REMOTE_IPS', 'APP_BYTES', 'SOURCE_APP_PACKETS',\n",
       "       'REMOTE_APP_PACKETS', 'SOURCE_APP_BYTES', 'REMOTE_APP_BYTES',\n",
       "       'APP_PACKETS', 'DNS_QUERY_TIMES', 'Type'],\n",
       "      dtype='object')"
      ]
     },
     "execution_count": 314,
     "metadata": {},
     "output_type": "execute_result"
    }
   ],
   "source": [
    "website.columns"
   ]
  },
  {
   "cell_type": "code",
   "execution_count": 315,
   "metadata": {},
   "outputs": [],
   "source": [
    "website = website.drop(columns=['URL', 'SERVER', 'WHOIS_STATEPRO']) "
   ]
  },
  {
   "cell_type": "code",
   "execution_count": 316,
   "metadata": {},
   "outputs": [],
   "source": [
    "website = pd.get_dummies(website)\n",
    "# DROP DATE"
   ]
  },
  {
   "cell_type": "code",
   "execution_count": 317,
   "metadata": {},
   "outputs": [
    {
     "data": {
      "text/plain": [
       "Index(['URL_LENGTH', 'NUMBER_SPECIAL_CHARACTERS', 'WHOIS_REGDATE',\n",
       "       'WHOIS_UPDATED_DATE', 'TCP_CONVERSATION_EXCHANGE',\n",
       "       'DIST_REMOTE_TCP_PORT', 'REMOTE_IPS', 'APP_BYTES', 'SOURCE_APP_PACKETS',\n",
       "       'REMOTE_APP_PACKETS', 'SOURCE_APP_BYTES', 'REMOTE_APP_BYTES',\n",
       "       'APP_PACKETS', 'DNS_QUERY_TIMES', 'Type', 'CHARSET_ISO-8859-1',\n",
       "       'CHARSET_UTF-8', 'CHARSET_iso-8859-1', 'CHARSET_us-ascii',\n",
       "       'CHARSET_utf-8', 'CHARSET_windows-1251', 'CHARSET_windows-1252',\n",
       "       'WHOIS_COUNTRY_AE', 'WHOIS_COUNTRY_AT', 'WHOIS_COUNTRY_AU',\n",
       "       'WHOIS_COUNTRY_BE', 'WHOIS_COUNTRY_BS', 'WHOIS_COUNTRY_BY',\n",
       "       'WHOIS_COUNTRY_CA', 'WHOIS_COUNTRY_CH', 'WHOIS_COUNTRY_CN',\n",
       "       'WHOIS_COUNTRY_CZ', 'WHOIS_COUNTRY_DE', 'WHOIS_COUNTRY_ES',\n",
       "       'WHOIS_COUNTRY_GB', 'WHOIS_COUNTRY_HK', 'WHOIS_COUNTRY_IE',\n",
       "       'WHOIS_COUNTRY_IL', 'WHOIS_COUNTRY_IN', 'WHOIS_COUNTRY_IT',\n",
       "       'WHOIS_COUNTRY_JP', 'WHOIS_COUNTRY_KG', 'WHOIS_COUNTRY_KY',\n",
       "       'WHOIS_COUNTRY_LV', 'WHOIS_COUNTRY_NL', 'WHOIS_COUNTRY_NO',\n",
       "       'WHOIS_COUNTRY_PA', 'WHOIS_COUNTRY_PH', 'WHOIS_COUNTRY_PK',\n",
       "       'WHOIS_COUNTRY_RU', 'WHOIS_COUNTRY_SC', 'WHOIS_COUNTRY_SE',\n",
       "       'WHOIS_COUNTRY_SI', 'WHOIS_COUNTRY_TR', 'WHOIS_COUNTRY_UA',\n",
       "       'WHOIS_COUNTRY_UG', 'WHOIS_COUNTRY_UK', 'WHOIS_COUNTRY_US',\n",
       "       'WHOIS_COUNTRY_UY', 'WHOIS_COUNTRY_[u'GB'; u'UK']', 'WHOIS_COUNTRY_ru',\n",
       "       'WHOIS_COUNTRY_us'],\n",
       "      dtype='object')"
      ]
     },
     "execution_count": 317,
     "metadata": {},
     "output_type": "execute_result"
    }
   ],
   "source": [
    "website.columns"
   ]
  },
  {
   "cell_type": "code",
   "execution_count": 318,
   "metadata": {},
   "outputs": [],
   "source": [
    "website['WHOIS_COUNTRY_RU']=website[['WHOIS_COUNTRY_RU',\"WHOIS_COUNTRY_ru\"]].max(axis=1)\n",
    "website['WHOIS_COUNTRY_UK']=website[['WHOIS_COUNTRY_UK',\"WHOIS_COUNTRY_[u'GB'; u'UK']\"]].max(axis=1)\n",
    "\n",
    "website = website.drop(columns=['WHOIS_COUNTRY_ru',\"WHOIS_COUNTRY_[u'GB'; u'UK']\", 'WHOIS_COUNTRY_us'])"
   ]
  },
  {
   "cell_type": "code",
   "execution_count": 319,
   "metadata": {},
   "outputs": [
    {
     "data": {
      "text/plain": [
       "array([0, 1], dtype=uint64)"
      ]
     },
     "execution_count": 319,
     "metadata": {},
     "output_type": "execute_result"
    }
   ],
   "source": [
    "website['WHOIS_COUNTRY_RU'].unique()"
   ]
  },
  {
   "cell_type": "markdown",
   "metadata": {},
   "source": [
    "# Random Forest¶"
   ]
  },
  {
   "cell_type": "code",
   "execution_count": 320,
   "metadata": {},
   "outputs": [],
   "source": [
    "X = website.loc[:, website.columns != 'Type']\n",
    "Y = website.loc[:, website.columns == 'Type']"
   ]
  },
  {
   "cell_type": "code",
   "execution_count": 321,
   "metadata": {},
   "outputs": [],
   "source": [
    "X_train, X_test, Y_train, Y_test=train_test_split(X,Y,test_size=0.3, random_state=0)\n",
    "columns=X_train.columns"
   ]
  },
  {
   "cell_type": "code",
   "execution_count": 322,
   "metadata": {},
   "outputs": [
    {
     "data": {
      "text/plain": [
       "(879, 378)"
      ]
     },
     "execution_count": 322,
     "metadata": {},
     "output_type": "execute_result"
    }
   ],
   "source": [
    "len(X_train),len(X_test)"
   ]
  },
  {
   "cell_type": "code",
   "execution_count": 323,
   "metadata": {},
   "outputs": [
    {
     "name": "stdout",
     "output_type": "stream",
     "text": [
      "Accuracy:  96.83%\n"
     ]
    }
   ],
   "source": [
    "website_rf_model = skens.RandomForestClassifier(n_estimators=10,oob_score=True, criterion='entropy')\n",
    "website_rf_model.fit(X_train,Y_train)\n",
    "\n",
    "predicted_labels = website_rf_model.predict(X_test)\n",
    "X_test['predicted_rf_tree'] = predicted_labels\n",
    "\n",
    "accuracy = accuracy_score(Y_test,predicted_labels)\n",
    "print('Accuracy: {0: .2%}'.format(accuracy))"
   ]
  },
  {
   "cell_type": "code",
   "execution_count": 324,
   "metadata": {},
   "outputs": [],
   "source": [
    "def comparePlot(input_frame,real_column,predicted_column):\n",
    "    df_a = input_frame.copy()\n",
    "    df_b = input_frame.copy()\n",
    "    df_a['label_source'] = 'Type'\n",
    "    df_b['label_source'] = 'Classifier'\n",
    "    df_a['label'] = df_a[real_column]\n",
    "    df_b['label'] = df_b[predicted_column].apply(lambda x: 'Predict %s'%x)\n",
    "    df_c = pd.concat((df_a, df_b), axis=0, ignore_index=True)\n",
    "    sns.lmplot(x='URL_LENGTH', y='NUMBER_SPECIAL_CHARACTERS', col='label_source',\n",
    "               hue='label', data=df_c, fit_reg=False, size=4);"
   ]
  },
  {
   "cell_type": "code",
   "execution_count": 325,
   "metadata": {},
   "outputs": [],
   "source": [
    "X_test['Type']=Y_test['Type']"
   ]
  },
  {
   "cell_type": "code",
   "execution_count": 326,
   "metadata": {},
   "outputs": [
    {
     "data": {
      "image/png": "[encoded data removed]",
      "text/plain": [
       "<Figure size 683.855x288 with 2 Axes>"
      ]
     },
     "metadata": {},
     "output_type": "display_data"
    }
   ],
   "source": [
    "comparePlot(X_test, \"Type\",\"predicted_rf_tree\")"
   ]
  },
  {
   "cell_type": "markdown",
   "metadata": {},
   "source": [
    "# Tune the model and change \"folds\" for Random Forest classifiers"
   ]
  },
  {
   "cell_type": "code",
   "execution_count": 327,
   "metadata": {},
   "outputs": [
    {
     "data": {
      "text/plain": [
       "{'max_depth': 9, 'n_estimators': 20}"
      ]
     },
     "execution_count": 327,
     "metadata": {},
     "output_type": "execute_result"
    }
   ],
   "source": [
    "param_grid = {\n",
    "                 'n_estimators': [5, 10, 15, 20, 25],\n",
    "                 'max_depth': [2, 5, 7, 9],\n",
    "    \n",
    "             }\n",
    "grid_clf = GridSearchCV(website_rf_model, param_grid, cv=10)\n",
    "grid_clf.fit(X_train,Y_train)\n",
    "grid_clf.best_params_"
   ]
  },
  {
   "cell_type": "markdown",
   "metadata": {},
   "source": [
    "grid_clf = GridSearchCV(website_rf_model, param_grid, cv=10)\n",
    "grid_clf.fit(X_train,Y_train)"
   ]
  },
  {
   "cell_type": "code",
   "execution_count": 328,
   "metadata": {},
   "outputs": [
    {
     "name": "stdout",
     "output_type": "stream",
     "text": [
      "Accuracy_cv1:  96.56%\n"
     ]
    }
   ],
   "source": [
    "# change n_estimators according to the best params\n",
    "\n",
    "X = website.loc[:, website.columns != 'Type']\n",
    "Y = website.loc[:, website.columns == 'Type']\n",
    "\n",
    "X_train, X_test, Y_train, Y_test=train_test_split(X,Y,test_size=0.3, random_state=0)\n",
    "columns=X_train.columns\n",
    "\n",
    "website_rf_model_cv1 = skens.RandomForestClassifier(n_estimators=20,oob_score=True, criterion='entropy')\n",
    "website_rf_model_cv1.fit(X_train,Y_train)\n",
    "\n",
    "predicted_labels_cv1 = website_rf_model_cv1.predict(X_test)\n",
    "X_test['predicted_rf_tree_cv1'] = predicted_labels_cv1\n",
    "\n",
    "accuracy_cv1 = accuracy_score(Y_test,predicted_labels_cv1)\n",
    "print('Accuracy_cv1: {0: .2%}'.format(accuracy_cv1))"
   ]
  },
  {
   "cell_type": "code",
   "execution_count": 329,
   "metadata": {},
   "outputs": [
    {
     "data": {
      "text/plain": [
       "{'max_depth': 9, 'n_estimators': 20}"
      ]
     },
     "execution_count": 329,
     "metadata": {},
     "output_type": "execute_result"
    }
   ],
   "source": [
    "# change the folds to 3\n",
    "grid_clf = GridSearchCV(website_rf_model, param_grid, cv=3)\n",
    "grid_clf.fit(X_train,Y_train)\n",
    "grid_clf.best_params_"
   ]
  },
  {
   "cell_type": "code",
   "execution_count": 330,
   "metadata": {},
   "outputs": [
    {
     "name": "stdout",
     "output_type": "stream",
     "text": [
      "Accuracy_cv3:  95.50%\n"
     ]
    }
   ],
   "source": [
    "# change max_depth and n_estimators according to the best params of cv=3\n",
    "\n",
    "X = website.loc[:, website.columns != 'Type']\n",
    "Y = website.loc[:, website.columns == 'Type']\n",
    "\n",
    "X_train, X_test, Y_train, Y_test=train_test_split(X,Y,test_size=0.3, random_state=0)\n",
    "columns=X_train.columns\n",
    "\n",
    "website_rf_model_cv3 = skens.RandomForestClassifier(n_estimators=5,oob_score=True, criterion='entropy')\n",
    "website_rf_model_cv3.fit(X_train,Y_train)\n",
    "\n",
    "predicted_labels_cv3 = website_rf_model_cv3.predict(X_test)\n",
    "X_test['predicted_rf_tree_cv3'] = predicted_labels_cv3\n",
    "\n",
    "accuracy_cv3 = accuracy_score(Y_test,predicted_labels_cv3)\n",
    "print('Accuracy_cv3: {0: .2%}'.format(accuracy_cv3))"
   ]
  },
  {
   "cell_type": "code",
   "execution_count": 331,
   "metadata": {},
   "outputs": [
    {
     "data": {
      "text/plain": [
       "{'max_depth': 9, 'n_estimators': 20}"
      ]
     },
     "execution_count": 331,
     "metadata": {},
     "output_type": "execute_result"
    }
   ],
   "source": [
    "# change the folds to 15\n",
    "grid_clf = GridSearchCV(website_rf_model, param_grid, cv=15)\n",
    "grid_clf.fit(X_train,Y_train)\n",
    "grid_clf.best_params_"
   ]
  },
  {
   "cell_type": "code",
   "execution_count": 332,
   "metadata": {},
   "outputs": [
    {
     "name": "stdout",
     "output_type": "stream",
     "text": [
      "Accuracy_cv2:  96.56%\n"
     ]
    }
   ],
   "source": [
    "X = website.loc[:, website.columns != 'Type']\n",
    "Y = website.loc[:, website.columns == 'Type']\n",
    "\n",
    "X_train, X_test, Y_train, Y_test=train_test_split(X,Y,test_size=0.3, random_state=0)\n",
    "columns=X_train.columns\n",
    "\n",
    "website_rf_model_cv2 = skens.RandomForestClassifier(n_estimators=15,oob_score=True, criterion='entropy')\n",
    "website_rf_model_cv2.fit(X_train,Y_train)\n",
    "\n",
    "predicted_labels_cv2 = website_rf_model_cv2.predict(X_test)\n",
    "X_test['predicted_rf_tree_cv2'] = predicted_labels_cv2\n",
    "\n",
    "accuracy_cv2 = accuracy_score(Y_test,predicted_labels_cv2)\n",
    "print('Accuracy_cv2: {0: .2%}'.format(accuracy_cv2))"
   ]
  },
  {
   "cell_type": "markdown",
   "metadata": {},
   "source": [
    "# Most important feature"
   ]
  },
  {
   "cell_type": "code",
   "execution_count": 333,
   "metadata": {},
   "outputs": [
    {
     "data": {
      "text/plain": [
       "<matplotlib.axes._subplots.AxesSubplot at 0x12afa8150>"
      ]
     },
     "execution_count": 333,
     "metadata": {},
     "output_type": "execute_result"
    },
    {
     "data": {
      "image/png": "[encoded data removed]",
      "text/plain": [
       "<Figure size 2880x2880 with 1 Axes>"
      ]
     },
     "metadata": {},
     "output_type": "display_data"
    }
   ],
   "source": [
    "website_importance = website_rf_model.feature_importances_\n",
    "matplotlib.rc('xtick', labelsize = 12)\n",
    "pd.DataFrame({'Feature Importance':website_importance},\n",
    "            index=X_train.columns[:]).sort_values(by = 'Feature Importance', ascending=False).head(10).plot(kind='barh',figsize=(40,40))\n",
    "\n"
   ]
  },
  {
   "cell_type": "markdown",
   "metadata": {},
   "source": [
    "I finished all the required questions about random forest, and I will interpret my results one by one. \n",
    "\n",
    "Firstly, I created the random forest model. I set n_estimators=10, and got the accuracy of 97.35%. I also created the scatter point chart to compare visually, it seems majority of predicted points are consistent with the actual ones. Therefore, I'm happy with my model accuracy.\n",
    "\n",
    "Then, I tuned the model by calling GridSearchCV function. I set the fold cv=10 initially, and I want to use the best_params_ result to change the model n_estimators=10. My assumtion is the n_estimators that best_params_ suggested would have highest accuracy rate. However, it seems not. The results for best_params_ of different folds are changing all the time, and the accuracy rate of the best_params_ seems even lower than that of my default n_estimators=10. Therefore I can't compare the results of different 'folds'. I could say all the accuracy rates are pretty close to each other, and high.\n",
    "\n",
    "As for the important features, I need to explain my data manipulation in the first part first. The dummies function can transform the categorical data to numeric, by changing category values to columns. It's very not reasonable to change all the date to columns (will add the number of columns to thousands!). I was thinking of droping all the date related columns: WHOIS_REGDATE & WHOIS_UPDATED_DATE, I'm afraid they are important features. So I used toordinal to transform the date values to numerical values. I then checked the none value, and decide to drop all the none values. This will still leave me 1200+ rows to analyse. However, I did drop some columns: 'URL', 'SERVER', 'WHOIS_STATEPRO', 'CONTENT_LENGTH' and some duplicated columns of location. I know they could be important values, but they can be really messy after transformed to numerical data. Especially for example, 'WHOIS_STATEPRO' has no uniformed forms for locations, like 'FL' and 'Barcelona'. But I left the 'WHOIS_COUNTRY' column alternatively to show location information, which is less messy. \n",
    "\n",
    "I believe there are many different approaches to manipulate the dataset, and the important features and model calculation can be very different. In my approach, the most important feature is SOURCE_APP_BYTES, which is reasonable, that the size of the application can be important to predict whether the app is malicious or benign.\n",
    "\n",
    "To prove my assumption, I run some codes as below:\n"
   ]
  },
  {
   "cell_type": "code",
   "execution_count": 334,
   "metadata": {},
   "outputs": [
    {
     "data": {
      "text/plain": [
       "Type\n",
       "0    17568.938117\n",
       "1     7224.739437\n",
       "Name: SOURCE_APP_BYTES, dtype: float64"
      ]
     },
     "execution_count": 334,
     "metadata": {},
     "output_type": "execute_result"
    }
   ],
   "source": [
    "website.groupby('Type').SOURCE_APP_BYTES.mean()"
   ]
  },
  {
   "cell_type": "code",
   "execution_count": 335,
   "metadata": {},
   "outputs": [],
   "source": [
    "website1= website\n",
    "website1['log'] = np.log(website1.SOURCE_APP_BYTES+1)"
   ]
  },
  {
   "cell_type": "code",
   "execution_count": 336,
   "metadata": {},
   "outputs": [
    {
     "data": {
      "text/plain": [
       "(array([ 0.,  0.,  0.,  0.,  0.,  0., 60., 14.,  9., 10., 11.,  9., 14.,\n",
       "         6.,  9.,  0.,  0.,  0.,  0.,  0.]),\n",
       " array([ 0.  ,  0.75,  1.5 ,  2.25,  3.  ,  3.75,  4.5 ,  5.25,  6.  ,\n",
       "         6.75,  7.5 ,  8.25,  9.  ,  9.75, 10.5 , 11.25, 12.  , 12.75,\n",
       "        13.5 , 14.25, 15.  ]),\n",
       " <a list of 20 Patch objects>)"
      ]
     },
     "execution_count": 336,
     "metadata": {},
     "output_type": "execute_result"
    },
    {
     "data": {
      "image/png": "[encoded data removed]",
      "text/plain": [
       "<Figure size 432x288 with 2 Axes>"
      ]
     },
     "metadata": {},
     "output_type": "display_data"
    }
   ],
   "source": [
    "f, (ax1, ax2) = plt.subplots(1, 2)\n",
    "website0 = website1[website1['Type']==0]\n",
    "website2 = website1[website1['Type']==1]\n",
    "ax1.hist(website0['log'], range=[0,15], bins=20)\n",
    "ax2.hist(website2['log'], range=[0,15], bins=20)"
   ]
  },
  {
   "cell_type": "markdown",
   "metadata": {},
   "source": [
    "Firstly, by comparing the mean values of the 2 type websites, I found the benign websites usually have larger SOURCE_APP_BYTES than malicious ones. Then, I used histograms to check the distributions for 2 types websites, and it's quite clear that the SOURCE_APP_BYTES of benign websites all fall in the bins above 5, whereas there are a lot of malicious websites having SOURCE_APP_BYTES in the bins 0 or barely bigger than 0. The difference is quite obvious, which kind of facilitating the most important feature is SOURCE_APP_BYTES. The following important features, such as REMOTE_APP_BYTES and NUMBER_SPECIAL_CHARACTERS are reasonable based on the common sense as well."
   ]
  },
  {
   "cell_type": "markdown",
   "metadata": {},
   "source": [
    "# Naive Bayes"
   ]
  },
  {
   "cell_type": "code",
   "execution_count": 337,
   "metadata": {},
   "outputs": [
    {
     "data": {
      "text/plain": [
       "Index(['URL_LENGTH', 'NUMBER_SPECIAL_CHARACTERS', 'WHOIS_REGDATE',\n",
       "       'WHOIS_UPDATED_DATE', 'TCP_CONVERSATION_EXCHANGE',\n",
       "       'DIST_REMOTE_TCP_PORT', 'REMOTE_IPS', 'APP_BYTES', 'SOURCE_APP_PACKETS',\n",
       "       'REMOTE_APP_PACKETS', 'SOURCE_APP_BYTES', 'REMOTE_APP_BYTES',\n",
       "       'APP_PACKETS', 'DNS_QUERY_TIMES', 'Type', 'CHARSET_ISO-8859-1',\n",
       "       'CHARSET_UTF-8', 'CHARSET_iso-8859-1', 'CHARSET_us-ascii',\n",
       "       'CHARSET_utf-8', 'CHARSET_windows-1251', 'CHARSET_windows-1252',\n",
       "       'WHOIS_COUNTRY_AE', 'WHOIS_COUNTRY_AT', 'WHOIS_COUNTRY_AU',\n",
       "       'WHOIS_COUNTRY_BE', 'WHOIS_COUNTRY_BS', 'WHOIS_COUNTRY_BY',\n",
       "       'WHOIS_COUNTRY_CA', 'WHOIS_COUNTRY_CH', 'WHOIS_COUNTRY_CN',\n",
       "       'WHOIS_COUNTRY_CZ', 'WHOIS_COUNTRY_DE', 'WHOIS_COUNTRY_ES',\n",
       "       'WHOIS_COUNTRY_GB', 'WHOIS_COUNTRY_HK', 'WHOIS_COUNTRY_IE',\n",
       "       'WHOIS_COUNTRY_IL', 'WHOIS_COUNTRY_IN', 'WHOIS_COUNTRY_IT',\n",
       "       'WHOIS_COUNTRY_JP', 'WHOIS_COUNTRY_KG', 'WHOIS_COUNTRY_KY',\n",
       "       'WHOIS_COUNTRY_LV', 'WHOIS_COUNTRY_NL', 'WHOIS_COUNTRY_NO',\n",
       "       'WHOIS_COUNTRY_PA', 'WHOIS_COUNTRY_PH', 'WHOIS_COUNTRY_PK',\n",
       "       'WHOIS_COUNTRY_RU', 'WHOIS_COUNTRY_SC', 'WHOIS_COUNTRY_SE',\n",
       "       'WHOIS_COUNTRY_SI', 'WHOIS_COUNTRY_TR', 'WHOIS_COUNTRY_UA',\n",
       "       'WHOIS_COUNTRY_UG', 'WHOIS_COUNTRY_UK', 'WHOIS_COUNTRY_US',\n",
       "       'WHOIS_COUNTRY_UY', 'log'],\n",
       "      dtype='object')"
      ]
     },
     "execution_count": 337,
     "metadata": {},
     "output_type": "execute_result"
    }
   ],
   "source": [
    "website.columns"
   ]
  },
  {
   "cell_type": "code",
   "execution_count": 338,
   "metadata": {},
   "outputs": [],
   "source": [
    "X = website.loc[:, website.columns != 'Type']\n",
    "Y = website.loc[:, website.columns == 'Type']"
   ]
  },
  {
   "cell_type": "code",
   "execution_count": 339,
   "metadata": {},
   "outputs": [],
   "source": [
    "X_train, X_test, Y_train, Y_test=train_test_split(X,Y,test_size=0.3, random_state=0)\n",
    "columns=X_train.columns"
   ]
  },
  {
   "cell_type": "code",
   "execution_count": 340,
   "metadata": {},
   "outputs": [
    {
     "data": {
      "text/plain": [
       "GaussianNB(priors=None, var_smoothing=1e-09)"
      ]
     },
     "execution_count": 340,
     "metadata": {},
     "output_type": "execute_result"
    }
   ],
   "source": [
    "# train the model\n",
    "gnb_model = sknb.GaussianNB()\n",
    "\n",
    "gnb_model.fit(X_train[['URL_LENGTH', 'NUMBER_SPECIAL_CHARACTERS','REMOTE_IPS' ]],Y_train['Type'])"
   ]
  },
  {
   "cell_type": "code",
   "execution_count": 341,
   "metadata": {},
   "outputs": [],
   "source": [
    "# test the model\n",
    "y_pred = gnb_model.predict(X_test[['URL_LENGTH', 'NUMBER_SPECIAL_CHARACTERS','REMOTE_IPS']])"
   ]
  },
  {
   "cell_type": "code",
   "execution_count": 342,
   "metadata": {},
   "outputs": [
    {
     "name": "stdout",
     "output_type": "stream",
     "text": [
      "Accuracy:  89.42%\n"
     ]
    }
   ],
   "source": [
    "accuracy1=accuracy_score(Y_test,y_pred)\n",
    "print('Accuracy: {0: .2%}'.format(accuracy1))"
   ]
  },
  {
   "cell_type": "code",
   "execution_count": 343,
   "metadata": {},
   "outputs": [
    {
     "name": "stdout",
     "output_type": "stream",
     "text": [
      "Accuracy:  89.68%\n"
     ]
    }
   ],
   "source": [
    "gnb_model.fit(X_train[['URL_LENGTH']],Y_train['Type'])\n",
    "y_pred = gnb_model.predict(X_test[['URL_LENGTH']])\n",
    "accuracy1=accuracy_score(Y_test,y_pred)\n",
    "print('Accuracy: {0: .2%}'.format(accuracy1))"
   ]
  },
  {
   "cell_type": "code",
   "execution_count": 344,
   "metadata": {},
   "outputs": [
    {
     "name": "stdout",
     "output_type": "stream",
     "text": [
      "Accuracy:  87.83%\n"
     ]
    }
   ],
   "source": [
    "gnb_model.fit(X_train[['WHOIS_REGDATE', 'TCP_CONVERSATION_EXCHANGE','DNS_QUERY_TIMES' ]],Y_train['Type'])\n",
    "y_pred = gnb_model.predict(X_test[['WHOIS_REGDATE', 'TCP_CONVERSATION_EXCHANGE','DNS_QUERY_TIMES' ]])\n",
    "accuracy1=accuracy_score(Y_test,y_pred)\n",
    "print('Accuracy: {0: .2%}'.format(accuracy1))"
   ]
  },
  {
   "cell_type": "code",
   "execution_count": 345,
   "metadata": {},
   "outputs": [
    {
     "data": {
      "text/plain": [
       "array([0.88964733, 0.11035267])"
      ]
     },
     "execution_count": 345,
     "metadata": {},
     "output_type": "execute_result"
    }
   ],
   "source": [
    "gnb_model.class_prior_"
   ]
  },
  {
   "cell_type": "markdown",
   "metadata": {},
   "source": [
    "# experiment different prior number"
   ]
  },
  {
   "cell_type": "code",
   "execution_count": 346,
   "metadata": {},
   "outputs": [
    {
     "name": "stdout",
     "output_type": "stream",
     "text": [
      "Accuracy:  81.48%\n"
     ]
    }
   ],
   "source": [
    "gnb_model2 = sknb.GaussianNB(priors=[0.5,0.5])\n",
    "gnb_model2.fit(X_train[['URL_LENGTH', 'NUMBER_SPECIAL_CHARACTERS','REMOTE_IPS']],Y_train['Type'])\n",
    "y_pred2 = gnb_model2.predict(X_test[['URL_LENGTH', 'NUMBER_SPECIAL_CHARACTERS','REMOTE_IPS']])\n",
    "accuracy2=accuracy_score(Y_test,y_pred2)\n",
    "print('Accuracy: {0: .2%}'.format(accuracy2))"
   ]
  },
  {
   "cell_type": "code",
   "execution_count": 347,
   "metadata": {},
   "outputs": [
    {
     "data": {
      "text/plain": [
       "array([0.5, 0.5])"
      ]
     },
     "execution_count": 347,
     "metadata": {},
     "output_type": "execute_result"
    }
   ],
   "source": [
    "gnb_model2.class_prior_"
   ]
  },
  {
   "cell_type": "code",
   "execution_count": 348,
   "metadata": {},
   "outputs": [
    {
     "name": "stdout",
     "output_type": "stream",
     "text": [
      "Accuracy:  70.37%\n"
     ]
    }
   ],
   "source": [
    "gnb_model3 = sknb.GaussianNB(priors=[0.3,0.7])\n",
    "gnb_model3.fit(X_train[['URL_LENGTH', 'NUMBER_SPECIAL_CHARACTERS','REMOTE_IPS']],Y_train['Type'])\n",
    "y_pred3 = gnb_model3.predict(X_test[['URL_LENGTH', 'NUMBER_SPECIAL_CHARACTERS','REMOTE_IPS']])\n",
    "accuracy3=accuracy_score(Y_test,y_pred3)\n",
    "print('Accuracy: {0: .2%}'.format(accuracy3))"
   ]
  },
  {
   "cell_type": "code",
   "execution_count": 349,
   "metadata": {},
   "outputs": [
    {
     "data": {
      "text/plain": [
       "array([0.3, 0.7])"
      ]
     },
     "execution_count": 349,
     "metadata": {},
     "output_type": "execute_result"
    }
   ],
   "source": [
    "gnb_model3.class_prior_"
   ]
  },
  {
   "cell_type": "markdown",
   "metadata": {},
   "source": [
    "I created Naive Bayes, and predited website types based on 'URL_LENGTH','NUMBER_SPECIAL_CHARACTERS' and 'REMOTE_IPS' features, and the accuracy rate is 89.42%. Interestingly, if I just use 'URL_LENGTH' feature to predict, the accuracy rate is slighter higher: 89.68%. Then I tried another feature combination: 'WHOIS_REGDATE', 'TCP_CONVERSATION_EXCHANGE' and 'DNS_QUERY_TIMES', getting a pretty similar accuracy rate 87.83%. I learned that the accuracy of combination of features is not necessarily higher than that of a single feature. \n",
    "\n",
    "By changing prior number, I found the default class prior value has the highest accuracy. "
   ]
  },
  {
   "cell_type": "markdown",
   "metadata": {},
   "source": [
    "# Final Thinking"
   ]
  },
  {
   "cell_type": "markdown",
   "metadata": {},
   "source": [
    "Most time I spent on this homework is data cleaning. The original dataset only have 5.9 usability score. During the initial exploration of the dataset, I found there are lots of n/a value, or value as 'none', which makes drop n/a process complex. The values for location are messy and not in the uniformed format. The country names also have certain duplication that I need to combine columns. I tried to drop as less columns as I could, because I don't want to take the risk of dropping potential important features. \n",
    "\n",
    "After exploration of the 2 types of classification models, I can see the random forest seems has higher accruacy than Naive Bayes, which is reasonable, because I used all features in table for prediction in random forest model, while I only choose random feature or feature combinations for Naive Bayes model. I have questions about the best params function of random forest, since the change of number of folds/estimators seems not make many changes in accuracy, whereas, if I change prior number for Naive Bayes, the accuracy can be very different.\n",
    "\n",
    "As for the detailed understanding of features, I mostly refer to the summaries of variables as below when I choose feature combinations for naive bayes model:\n",
    "\n",
    "    • URL: anonymized URL which may or may not be malicious.\n",
    "    • URL_LENGTH: Indicates number of characters in the URL.\n",
    "    • NUMBER_SPECIAL_CHARACTERS: Indicates special characers in the URL.\n",
    "    • CHARSET: It indicates the character encoding standard and is a categorical variable.\n",
    "    • SERVER: It indicates the operative system of the server got from the packet response and is a categorical variable.\n",
    "    • CONTENT_LENGTH: It indicates the content size of HTTP header.\n",
    "    • WHOIS_COUNTRY: Using Whois API it indicates the Countries the server got a response and is a categorical variable.\n",
    "    • WHOIS_STATEPRO: Using Whois API it indicates the States the server got a response and is a categorical variable.\n",
    "    • WHOIS_REGDATE: It indicates the Whois server registration date.\n",
    "    • WHOIS_UPDATED_DATE: It indicates the last update date from the server analyzed.\n",
    "    • TCP_CONVERSATION_EXCHANGE: It indicates the number of TCP packets that were exchanged between the honeypot client and the server.\n",
    "    • DIST_REMOTE_TCP_PORT: It indicates the number of ports detected.\n",
    "    • REMOTE_IPS: It indicates the total number of IPs connected to honeypot client.\n",
    "    • APP_BYTES: It indicates the number of bytes transfered.\n",
    "    • SOURCE_APP_PACKETS: It indicates the packets sent from the honeypot to the server.\n",
    "    • REMOTE_APP_PACKETS: It indicates the packets received from the server.\n",
    "    • APP_PACKETS: It is the total number of IP packets generated during the communication between the honeypot and the server.\n",
    "    • DNS_QUERY_TIMES: It indicates the number of DNS packets generated during the communication between the honeypot and the server.\n",
    "    • TYPE: This is the outcome variable indicating whether the website is malicious or not.\n",
    "\n"
   ]
  },
  {
   "cell_type": "markdown",
   "metadata": {},
   "source": [
    "So usually, malicious websites are more likely to have more NUMBER_SPECIAL_CHARACTERS, URL_LENGTH, DNS_QUERY_TIMES, and smaller APP_BYTES and SOURCE_APP_PACKETS. In the future, I want to learn how to visualize to compare the predition with actual values for naive bayes model."
   ]
  },
  {
   "cell_type": "code",
   "execution_count": null,
   "metadata": {},
   "outputs": [],
   "source": []
  }
 ],
 "metadata": {
  "kernelspec": {
   "display_name": "Python 3",
   "language": "python",
   "name": "python3"
  },
  "language_info": {
   "codemirror_mode": {
    "name": "ipython",
    "version": 3
   },
   "file_extension": ".py",
   "mimetype": "text/x-python",
   "name": "python",
   "nbconvert_exporter": "python",
   "pygments_lexer": "ipython3",
   "version": "3.7.4"
  }
 },
 "nbformat": 4,
 "nbformat_minor": 4
}
