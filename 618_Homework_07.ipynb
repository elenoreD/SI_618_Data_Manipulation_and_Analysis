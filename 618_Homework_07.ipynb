{
 "cells": [
  {
   "cell_type": "markdown",
   "metadata": {
    "colab_type": "text",
    "id": "UGqk3SzXsMR3"
   },
   "source": [
    "# Homework 5: Natural Language Processing"
   ]
  },
  {
   "cell_type": "markdown",
   "metadata": {
    "colab_type": "text",
    "id": "pbqbtPreaCjs"
   },
   "source": [
    "### The total score for this assignment will be 100 points, consisting of:\n",
    "- 10 pt: Overall quality of spelling, grammar, punctuation, etc. of written sentences.\n",
    "- 10 pt: Codes are written in [PEP 8](https://www.python.org/dev/peps/pep-0008/) style.\n",
    "- 80 pt: Homework questions. "
   ]
  },
  {
   "cell_type": "code",
   "execution_count": 295,
   "metadata": {
    "colab": {},
    "colab_type": "code",
    "id": "Ry_Zzg_nk6tm"
   },
   "outputs": [],
   "source": [
    "MY_UNIQNAME = 'elenore'"
   ]
  },
  {
   "cell_type": "markdown",
   "metadata": {},
   "source": [
    "## Scenario\n",
    "\n",
    "As a newly hired member of the United Nation's (UN) Archives and Records Management Section (ARMS), your manager has asked you to analyze forty years of statements presented by hundreds of heads of state and senior officials at the UN General Debates. Your initial report should clearly document the steps you have taken to manipulate the data as well as insights from trends and patterns you identify which your manager may want to share with her peers within the UN. "
   ]
  },
  {
   "cell_type": "markdown",
   "metadata": {
    "colab_type": "text",
    "id": "Pr9WBUQyZY4V"
   },
   "source": [
    "## 0. Download the data from: \n",
    "\n",
    "* [https://www.kaggle.com/unitednations/un-general-debates](https://www.kaggle.com/unitednations/un-general-debates)"
   ]
  },
  {
   "cell_type": "markdown",
   "metadata": {
    "colab_type": "text",
    "id": "lwumWcqTcMCs"
   },
   "source": [
    "### <span style=\"color:magenta\"> Q1. [10 pts] Initial clean up and EDA\n",
    "1. Load the UN General Debates data.\n",
    "1. Merge in the ISO 3166 country names available here: https://en.wikipedia.org/wiki/List_of_ISO_3166_country_codes.\n",
    "1. Clean and simplify the country names by removing any values between parentheses () or brackets [].\n",
    "1. Report the mean number of statements delivered by a country.\n",
    "1. Report the five countries that have delivered the fewest statements in total."
   ]
  },
  {
   "cell_type": "code",
   "execution_count": 296,
   "metadata": {},
   "outputs": [],
   "source": [
    "import pandas as pd\n",
    "import numpy as np\n",
    "import re\n",
    "import seaborn as sns\n",
    "import matplotlib.pyplot as plt\n",
    "%matplotlib inline"
   ]
  },
  {
   "cell_type": "code",
   "execution_count": 297,
   "metadata": {},
   "outputs": [],
   "source": [
    "# 1. Load the UN General Debates data.\n",
    "un_dataset = pd.read_csv('un-general-debates.csv')"
   ]
  },
  {
   "cell_type": "code",
   "execution_count": 298,
   "metadata": {},
   "outputs": [
    {
     "data": {
      "text/html": [
       "<div>\n",
       "<style scoped>\n",
       "    .dataframe tbody tr th:only-of-type {\n",
       "        vertical-align: middle;\n",
       "    }\n",
       "\n",
       "    .dataframe tbody tr th {\n",
       "        vertical-align: top;\n",
       "    }\n",
       "\n",
       "    .dataframe thead th {\n",
       "        text-align: right;\n",
       "    }\n",
       "</style>\n",
       "<table border=\"1\" class=\"dataframe\">\n",
       "  <thead>\n",
       "    <tr style=\"text-align: right;\">\n",
       "      <th></th>\n",
       "      <th>session</th>\n",
       "      <th>year</th>\n",
       "      <th>country</th>\n",
       "      <th>text</th>\n",
       "    </tr>\n",
       "  </thead>\n",
       "  <tbody>\n",
       "    <tr>\n",
       "      <td>0</td>\n",
       "      <td>44</td>\n",
       "      <td>1989</td>\n",
       "      <td>MDV</td>\n",
       "      <td>﻿It is indeed a pleasure for me and the members of my delegation to extend to Ambassador Garba our sincere congratulations on his election to the ...</td>\n",
       "    </tr>\n",
       "    <tr>\n",
       "      <td>1</td>\n",
       "      <td>44</td>\n",
       "      <td>1989</td>\n",
       "      <td>FIN</td>\n",
       "      <td>﻿\\nMay I begin by congratulating you. Sir, on your election to the presidency of the General Assembly at its forty-fourth session. Your wide exper...</td>\n",
       "    </tr>\n",
       "    <tr>\n",
       "      <td>2</td>\n",
       "      <td>44</td>\n",
       "      <td>1989</td>\n",
       "      <td>NER</td>\n",
       "      <td>﻿\\nMr. President, it is a particular pleasure for me, on behalf of the delegation of Niger, to congratulate you moat warmly on your brilliant elec...</td>\n",
       "    </tr>\n",
       "    <tr>\n",
       "      <td>3</td>\n",
       "      <td>44</td>\n",
       "      <td>1989</td>\n",
       "      <td>URY</td>\n",
       "      <td>﻿\\nDuring the debate at the fortieth session of the General Assembly four years ago, President Sanguinetti announced to the world community from t...</td>\n",
       "    </tr>\n",
       "    <tr>\n",
       "      <td>4</td>\n",
       "      <td>44</td>\n",
       "      <td>1989</td>\n",
       "      <td>ZWE</td>\n",
       "      <td>﻿I should like at the outset to express my delegation's satisfaction and pleasure at your election, Sir, to the presidency of the General Assembly...</td>\n",
       "    </tr>\n",
       "  </tbody>\n",
       "</table>\n",
       "</div>"
      ],
      "text/plain": [
       "   session  year country  \\\n",
       "0       44  1989     MDV   \n",
       "1       44  1989     FIN   \n",
       "2       44  1989     NER   \n",
       "3       44  1989     URY   \n",
       "4       44  1989     ZWE   \n",
       "\n",
       "                                                                                                                                                    text  \n",
       "0  ﻿It is indeed a pleasure for me and the members of my delegation to extend to Ambassador Garba our sincere congratulations on his election to the ...  \n",
       "1  ﻿\\nMay I begin by congratulating you. Sir, on your election to the presidency of the General Assembly at its forty-fourth session. Your wide exper...  \n",
       "2  ﻿\\nMr. President, it is a particular pleasure for me, on behalf of the delegation of Niger, to congratulate you moat warmly on your brilliant elec...  \n",
       "3  ﻿\\nDuring the debate at the fortieth session of the General Assembly four years ago, President Sanguinetti announced to the world community from t...  \n",
       "4  ﻿I should like at the outset to express my delegation's satisfaction and pleasure at your election, Sir, to the presidency of the General Assembly...  "
      ]
     },
     "execution_count": 298,
     "metadata": {},
     "output_type": "execute_result"
    }
   ],
   "source": [
    "un_dataset.head()"
   ]
  },
  {
   "cell_type": "code",
   "execution_count": 299,
   "metadata": {},
   "outputs": [],
   "source": [
    "# 2. Merge in the ISO 3166 country names\n",
    "country_url = 'https://en.wikipedia.org/wiki/List_of_ISO_3166_country_codes'\n",
    "country_table = pd.read_html(country_url)[0]\n",
    "country_table\n",
    "country_table['country']=country_table['ISO 3166-1[2]']['Alpha-3 code[9]']"
   ]
  },
  {
   "cell_type": "code",
   "execution_count": 300,
   "metadata": {},
   "outputs": [
    {
     "name": "stderr",
     "output_type": "stream",
     "text": [
      "/opt/anaconda3/lib/python3.7/site-packages/pandas/core/reshape/merge.py:617: UserWarning: merging between different levels can give an unintended result (1 levels on the left, 2 on the right)\n",
      "  warnings.warn(msg, UserWarning)\n",
      "/opt/anaconda3/lib/python3.7/site-packages/pandas/core/generic.py:3946: PerformanceWarning: dropping on a non-lexsorted multi-index without a level parameter may impact performance.\n",
      "  new_axis = axis.drop(labels, errors=errors)\n"
     ]
    },
    {
     "data": {
      "text/plain": [
       "Index(['session', 'year', 'country', 'text',\n",
       "       ('ISO 3166[1]', 'Country name[9]')],\n",
       "      dtype='object')"
      ]
     },
     "execution_count": 300,
     "metadata": {},
     "output_type": "execute_result"
    }
   ],
   "source": [
    "un_data_merge = un_dataset.merge(country_table,on='country', how='left')\n",
    "un_data_merge.columns[0:5]"
   ]
  },
  {
   "cell_type": "code",
   "execution_count": 301,
   "metadata": {},
   "outputs": [
    {
     "name": "stderr",
     "output_type": "stream",
     "text": [
      "/opt/anaconda3/lib/python3.7/site-packages/pandas/core/frame.py:4223: SettingWithCopyWarning: \n",
      "A value is trying to be set on a copy of a slice from a DataFrame\n",
      "\n",
      "See the caveats in the documentation: http://pandas.pydata.org/pandas-docs/stable/user_guide/indexing.html#returning-a-view-versus-a-copy\n",
      "  return super().rename(**kwargs)\n"
     ]
    },
    {
     "data": {
      "text/html": [
       "<div>\n",
       "<style scoped>\n",
       "    .dataframe tbody tr th:only-of-type {\n",
       "        vertical-align: middle;\n",
       "    }\n",
       "\n",
       "    .dataframe tbody tr th {\n",
       "        vertical-align: top;\n",
       "    }\n",
       "\n",
       "    .dataframe thead th {\n",
       "        text-align: right;\n",
       "    }\n",
       "</style>\n",
       "<table border=\"1\" class=\"dataframe\">\n",
       "  <thead>\n",
       "    <tr style=\"text-align: right;\">\n",
       "      <th></th>\n",
       "      <th>session</th>\n",
       "      <th>year</th>\n",
       "      <th>country</th>\n",
       "      <th>text</th>\n",
       "      <th>country_name</th>\n",
       "    </tr>\n",
       "  </thead>\n",
       "  <tbody>\n",
       "    <tr>\n",
       "      <td>0</td>\n",
       "      <td>44</td>\n",
       "      <td>1989</td>\n",
       "      <td>MDV</td>\n",
       "      <td>﻿It is indeed a pleasure for me and the members of my delegation to extend to Ambassador Garba our sincere congratulations on his election to the ...</td>\n",
       "      <td>Maldives</td>\n",
       "    </tr>\n",
       "    <tr>\n",
       "      <td>1</td>\n",
       "      <td>44</td>\n",
       "      <td>1989</td>\n",
       "      <td>FIN</td>\n",
       "      <td>﻿\\nMay I begin by congratulating you. Sir, on your election to the presidency of the General Assembly at its forty-fourth session. Your wide exper...</td>\n",
       "      <td>Finland</td>\n",
       "    </tr>\n",
       "    <tr>\n",
       "      <td>2</td>\n",
       "      <td>44</td>\n",
       "      <td>1989</td>\n",
       "      <td>NER</td>\n",
       "      <td>﻿\\nMr. President, it is a particular pleasure for me, on behalf of the delegation of Niger, to congratulate you moat warmly on your brilliant elec...</td>\n",
       "      <td>Niger (the)</td>\n",
       "    </tr>\n",
       "    <tr>\n",
       "      <td>3</td>\n",
       "      <td>44</td>\n",
       "      <td>1989</td>\n",
       "      <td>URY</td>\n",
       "      <td>﻿\\nDuring the debate at the fortieth session of the General Assembly four years ago, President Sanguinetti announced to the world community from t...</td>\n",
       "      <td>Uruguay</td>\n",
       "    </tr>\n",
       "    <tr>\n",
       "      <td>4</td>\n",
       "      <td>44</td>\n",
       "      <td>1989</td>\n",
       "      <td>ZWE</td>\n",
       "      <td>﻿I should like at the outset to express my delegation's satisfaction and pleasure at your election, Sir, to the presidency of the General Assembly...</td>\n",
       "      <td>Zimbabwe</td>\n",
       "    </tr>\n",
       "  </tbody>\n",
       "</table>\n",
       "</div>"
      ],
      "text/plain": [
       "   session  year country  \\\n",
       "0       44  1989     MDV   \n",
       "1       44  1989     FIN   \n",
       "2       44  1989     NER   \n",
       "3       44  1989     URY   \n",
       "4       44  1989     ZWE   \n",
       "\n",
       "                                                                                                                                                    text  \\\n",
       "0  ﻿It is indeed a pleasure for me and the members of my delegation to extend to Ambassador Garba our sincere congratulations on his election to the ...   \n",
       "1  ﻿\\nMay I begin by congratulating you. Sir, on your election to the presidency of the General Assembly at its forty-fourth session. Your wide exper...   \n",
       "2  ﻿\\nMr. President, it is a particular pleasure for me, on behalf of the delegation of Niger, to congratulate you moat warmly on your brilliant elec...   \n",
       "3  ﻿\\nDuring the debate at the fortieth session of the General Assembly four years ago, President Sanguinetti announced to the world community from t...   \n",
       "4  ﻿I should like at the outset to express my delegation's satisfaction and pleasure at your election, Sir, to the presidency of the General Assembly...   \n",
       "\n",
       "  country_name  \n",
       "0     Maldives  \n",
       "1      Finland  \n",
       "2  Niger (the)  \n",
       "3      Uruguay  \n",
       "4     Zimbabwe  "
      ]
     },
     "execution_count": 301,
     "metadata": {},
     "output_type": "execute_result"
    }
   ],
   "source": [
    "un_clean = un_data_merge[[\"session\",\"year\",\"country\", \"text\", ('ISO 3166[1]', 'Country name[9]')]]\n",
    "un_clean.rename(columns = {('ISO 3166[1]', 'Country name[9]'):'country_name'}, inplace = True)\n",
    "un_clean.head()"
   ]
  },
  {
   "cell_type": "code",
   "execution_count": 358,
   "metadata": {},
   "outputs": [
    {
     "name": "stderr",
     "output_type": "stream",
     "text": [
      "/opt/anaconda3/lib/python3.7/site-packages/ipykernel_launcher.py:2: SettingWithCopyWarning: \n",
      "A value is trying to be set on a copy of a slice from a DataFrame.\n",
      "Try using .loc[row_indexer,col_indexer] = value instead\n",
      "\n",
      "See the caveats in the documentation: http://pandas.pydata.org/pandas-docs/stable/user_guide/indexing.html#returning-a-view-versus-a-copy\n",
      "  \n"
     ]
    }
   ],
   "source": [
    "# 3. Clean and simplify the country names by removing any values between parentheses () or brackets [].\n",
    "un_clean[\"country_name\"] = un_clean[\"country_name\"].str.replace(r\"(\\s*\\[.*?\\]\\s*)\", \" \").str.strip()\n",
    "un_data = un_clean"
   ]
  },
  {
   "cell_type": "code",
   "execution_count": 303,
   "metadata": {},
   "outputs": [
    {
     "data": {
      "text/plain": [
       "37.72361809045226"
      ]
     },
     "execution_count": 303,
     "metadata": {},
     "output_type": "execute_result"
    }
   ],
   "source": [
    "# 4. Report the mean number of statements delivered by a country.\n",
    "un_data.groupby('country').text.count().mean()"
   ]
  },
  {
   "cell_type": "code",
   "execution_count": 359,
   "metadata": {},
   "outputs": [
    {
     "data": {
      "text/html": [
       "<div>\n",
       "<style scoped>\n",
       "    .dataframe tbody tr th:only-of-type {\n",
       "        vertical-align: middle;\n",
       "    }\n",
       "\n",
       "    .dataframe tbody tr th {\n",
       "        vertical-align: top;\n",
       "    }\n",
       "\n",
       "    .dataframe thead th {\n",
       "        text-align: right;\n",
       "    }\n",
       "</style>\n",
       "<table border=\"1\" class=\"dataframe\">\n",
       "  <thead>\n",
       "    <tr style=\"text-align: right;\">\n",
       "      <th></th>\n",
       "      <th>country_name</th>\n",
       "    </tr>\n",
       "  </thead>\n",
       "  <tbody>\n",
       "    <tr>\n",
       "      <td>South Sudan</td>\n",
       "      <td>5</td>\n",
       "    </tr>\n",
       "    <tr>\n",
       "      <td>Montenegro</td>\n",
       "      <td>10</td>\n",
       "    </tr>\n",
       "    <tr>\n",
       "      <td>Timor-Leste</td>\n",
       "      <td>13</td>\n",
       "    </tr>\n",
       "    <tr>\n",
       "      <td>Holy See</td>\n",
       "      <td>13</td>\n",
       "    </tr>\n",
       "    <tr>\n",
       "      <td>Kiribati</td>\n",
       "      <td>13</td>\n",
       "    </tr>\n",
       "  </tbody>\n",
       "</table>\n",
       "</div>"
      ],
      "text/plain": [
       "             country_name\n",
       "South Sudan             5\n",
       "Montenegro             10\n",
       "Timor-Leste            13\n",
       "Holy See               13\n",
       "Kiribati               13"
      ]
     },
     "execution_count": 359,
     "metadata": {},
     "output_type": "execute_result"
    }
   ],
   "source": [
    "# 5. Report the five countries that have delivered the fewest statements in total.\n",
    "pd.DataFrame(un_data.country_name.value_counts().sort_values().head(5))"
   ]
  },
  {
   "cell_type": "markdown",
   "metadata": {},
   "source": [
    "The mean number of statements delivered by a country is 38.\n",
    "\n",
    "The five countries that have delivered the fewest statements in total are South Sudan, Montenegro,Timor-Leste, Holy See and Kiribati."
   ]
  },
  {
   "cell_type": "markdown",
   "metadata": {},
   "source": [
    "### <span style=\"color:magenta\"> Q2. [15 pts] Search with regex\n",
    "1. Select the text of three different statements.\n",
    "1. Pick one of the texts and find the count of how many times terms like cooperation, cooperate, cooperating, cooperated, cooperates are in the text.\n",
    "1. Pick another one of the texts and find the count of how many times terms like democracy, democratic, democracies, democratically, nondemocratic, and undemocratic are in the text.\n",
    "1. Use the remaining text to find the count of how many times numbers or words about numbers are in the text. For instance, 1, first, one, 1st, etc. \n",
    "   - This is challenging and we don't expect you to find every single instance. Try your best at finding as many as possible but your solution must cover some combination of numbers and words referring to numbers."
   ]
  },
  {
   "cell_type": "code",
   "execution_count": 362,
   "metadata": {},
   "outputs": [],
   "source": [
    "statement1 = un_data['text'][1]"
   ]
  },
  {
   "cell_type": "code",
   "execution_count": 363,
   "metadata": {},
   "outputs": [
    {
     "data": {
      "text/plain": [
       "{'cooperation': 1}"
      ]
     },
     "execution_count": 363,
     "metadata": {},
     "output_type": "execute_result"
    }
   ],
   "source": [
    "word_dict={}\n",
    "for element in re.findall('coopera[a-z]*', statement1):\n",
    "    word_dict[element] = statement1.count(element)\n",
    "word_dict"
   ]
  },
  {
   "cell_type": "code",
   "execution_count": 364,
   "metadata": {},
   "outputs": [],
   "source": [
    "statement2 = un_data['text'][2]"
   ]
  },
  {
   "cell_type": "code",
   "execution_count": 365,
   "metadata": {},
   "outputs": [
    {
     "data": {
      "text/plain": [
       "{'democratic': 1, 'democracy': 1}"
      ]
     },
     "execution_count": 365,
     "metadata": {},
     "output_type": "execute_result"
    }
   ],
   "source": [
    "word_dict={}\n",
    "for element in re.findall('[a-z]*democra[a-z]*', statement2):\n",
    "    word_dict[element] = statement2.count(element)\n",
    "word_dict\n",
    "# there's one cooperation in the graph"
   ]
  },
  {
   "cell_type": "code",
   "execution_count": 366,
   "metadata": {},
   "outputs": [],
   "source": [
    "statement3 = un_data['text'][0]"
   ]
  },
  {
   "cell_type": "code",
   "execution_count": 367,
   "metadata": {},
   "outputs": [
    {
     "data": {
      "text/plain": [
       "{'four': 1,\n",
       " 'one': 13,\n",
       " '1': 4,\n",
       " '9': 3,\n",
       " '8': 3,\n",
       " '0': 4,\n",
       " '7': 2,\n",
       " '2': 2,\n",
       " 'two': 2,\n",
       " '5': 1}"
      ]
     },
     "execution_count": 367,
     "metadata": {},
     "output_type": "execute_result"
    }
   ],
   "source": [
    "word_dict={}\n",
    "for element in re.findall('\\d|one|two|three|four|1st|2nd|3rd|4th', statement3):\n",
    "    word_dict[element] = statement3.count(element)\n",
    "word_dict"
   ]
  },
  {
   "cell_type": "markdown",
   "metadata": {},
   "source": [
    "I randomly chose the first, second and the third row's texts.\n",
    "\n",
    "There is 1 cooperation in my first chosen statement, 1 democratic and 1 democracy in my second chosen statement. As for the number related words, please refer to the output above."
   ]
  },
  {
   "cell_type": "markdown",
   "metadata": {},
   "source": [
    "### <span style=\"color:magenta\"> Q3a. [20 pts] Tokenize and plot top 10 words  \n",
    "1. Select three countries that have delivered statements for the majority of the years covered by the data.\n",
    "1. Tokenize their texts and plot the ten most common words used based on the count for each country (without removing stop words, punctuation, etc.). Make sure your plots are labeled and have a title. Describe the commonalities or differences you notice.\n",
    "\n",
    "> #### You can use nltk and/or spaCy to answer this question."
   ]
  },
  {
   "cell_type": "code",
   "execution_count": 311,
   "metadata": {},
   "outputs": [],
   "source": [
    "import nltk\n",
    "from collections import Counter"
   ]
  },
  {
   "cell_type": "code",
   "execution_count": 312,
   "metadata": {},
   "outputs": [],
   "source": [
    "# countries I choose are: AUT, SDN, URY\n",
    "AUT = un_data[un_data['country']=='AUT'].text.sum()\n",
    "aut_tokens = nltk.word_tokenize(AUT)"
   ]
  },
  {
   "cell_type": "code",
   "execution_count": 313,
   "metadata": {},
   "outputs": [
    {
     "data": {
      "image/png": "[encoded data removed]",
      "text/plain": [
       "<Figure size 3240x720 with 1 Axes>"
      ]
     },
     "metadata": {
      "needs_background": "light"
     },
     "output_type": "display_data"
    }
   ],
   "source": [
    "plt.figure(figsize=(45,10))\n",
    "sns.countplot(aut_tokens, order=pd.Series(aut_tokens).value_counts().index[:10])\n",
    "plt.xlabel('AUT top 10 words', fontsize=50)\n",
    "plt.show()"
   ]
  },
  {
   "cell_type": "code",
   "execution_count": 314,
   "metadata": {},
   "outputs": [],
   "source": [
    "SDN = un_data[un_data['country']=='SDN'].text.sum()\n",
    "sdn_tokens = nltk.word_tokenize(SDN)"
   ]
  },
  {
   "cell_type": "code",
   "execution_count": 315,
   "metadata": {},
   "outputs": [
    {
     "data": {
      "image/png": "[encoded data removed]",
      "text/plain": [
       "<Figure size 3240x720 with 1 Axes>"
      ]
     },
     "metadata": {
      "needs_background": "light"
     },
     "output_type": "display_data"
    }
   ],
   "source": [
    "plt.figure(figsize=(45,10))\n",
    "sns.countplot(sdn_tokens, order=pd.Series(sdn_tokens).value_counts().index[:10])\n",
    "plt.xlabel('SDN top 10 words', fontsize=50)\n",
    "plt.show()"
   ]
  },
  {
   "cell_type": "code",
   "execution_count": 316,
   "metadata": {},
   "outputs": [],
   "source": [
    "URY = un_data[un_data['country']=='URY'].text.sum()\n",
    "ury_tokens = nltk.word_tokenize(URY)"
   ]
  },
  {
   "cell_type": "code",
   "execution_count": 317,
   "metadata": {},
   "outputs": [
    {
     "data": {
      "image/png": "[encoded data removed]",
      "text/plain": [
       "<Figure size 3240x720 with 1 Axes>"
      ]
     },
     "metadata": {
      "needs_background": "light"
     },
     "output_type": "display_data"
    }
   ],
   "source": [
    "plt.figure(figsize=(45,10))\n",
    "sns.countplot(ury_tokens, order=pd.Series(ury_tokens).value_counts().index[:10])\n",
    "plt.xlabel('URY top 10 words', fontsize=50)\n",
    "plt.show()"
   ]
  },
  {
   "cell_type": "markdown",
   "metadata": {},
   "source": [
    "3 countries I chose are: Austria, Sudan and Uruguay.\n",
    "\n",
    "From the top 10 common words plots, the biggest commonality is they all have lots of meaningless English words like 'the', 'of' or marks like '.', '-' etc. That's why we need to remove stopwords later. These plots can not provide much useful information, except proving how often people use 'the' in their speeches. There's not much noticble differences among the 3 chosen countries."
   ]
  },
  {
   "cell_type": "markdown",
   "metadata": {},
   "source": [
    "### <span style=\"color:magenta\"> Q3b. [15 pts] Tokenize and plot top 10 words\n",
    "Continue working with the same countries and their texts as selected above.\n",
    "1. Remove stop words, punctuations, and any other characters you deem necessary from the tokenized text.\n",
    "1. Remove a few additional words that are less informative given the context and because they are common across statements (e.g. 3 or 4 of the common words seen in the plots from 3a).\n",
    "1. Plot the ten most common words used by each country. Make sure your plots are labeled and have a title. Describe any commonalities or differences you notice either between countries or with and without the words we removed.\n",
    "\n",
    "> #### You can use nltk and/or spaCy to answer this question."
   ]
  },
  {
   "cell_type": "code",
   "execution_count": 318,
   "metadata": {},
   "outputs": [],
   "source": [
    "from nltk.corpus import stopwords"
   ]
  },
  {
   "cell_type": "code",
   "execution_count": 319,
   "metadata": {},
   "outputs": [],
   "source": [
    "# remove stop words and additional words \n",
    "\n",
    "customize_words=['.',',','the','-','’']\n",
    "stop_words = set(stopwords.words('english'))\n",
    "new_list = stop_words.union(customize_words)\n",
    "aut_clean = []\n",
    "for token in aut_tokens:\n",
    "    if not token.lower() in new_list:\n",
    "        aut_clean.append(token)"
   ]
  },
  {
   "cell_type": "code",
   "execution_count": 320,
   "metadata": {},
   "outputs": [
    {
     "data": {
      "image/png": "[encoded data removed]",
      "text/plain": [
       "<Figure size 3240x720 with 1 Axes>"
      ]
     },
     "metadata": {
      "needs_background": "light"
     },
     "output_type": "display_data"
    }
   ],
   "source": [
    "plt.figure(figsize=(45,10))\n",
    "sns.countplot(aut_clean, order=pd.Series(aut_clean).value_counts().index[:10])\n",
    "plt.xlabel('AUT clean top 10 words', fontsize=50)\n",
    "plt.show()"
   ]
  },
  {
   "cell_type": "code",
   "execution_count": 321,
   "metadata": {},
   "outputs": [],
   "source": [
    "sdn_clean = []\n",
    "for token in sdn_tokens:\n",
    "    if not token.lower() in new_list:\n",
    "        sdn_clean.append(token)"
   ]
  },
  {
   "cell_type": "code",
   "execution_count": 322,
   "metadata": {},
   "outputs": [
    {
     "data": {
      "image/png": "[encoded data removed]",
      "text/plain": [
       "<Figure size 3240x720 with 1 Axes>"
      ]
     },
     "metadata": {
      "needs_background": "light"
     },
     "output_type": "display_data"
    }
   ],
   "source": [
    "plt.figure(figsize=(45,10))\n",
    "sns.countplot(sdn_clean, order=pd.Series(sdn_clean).value_counts().index[:10])\n",
    "plt.xlabel('SDN clean top 10 words', fontsize=50)\n",
    "plt.show()"
   ]
  },
  {
   "cell_type": "code",
   "execution_count": 323,
   "metadata": {},
   "outputs": [],
   "source": [
    "ury_clean = []\n",
    "for token in ury_tokens:\n",
    "    if not token.lower() in new_list:\n",
    "        ury_clean.append(token)"
   ]
  },
  {
   "cell_type": "code",
   "execution_count": 324,
   "metadata": {},
   "outputs": [
    {
     "data": {
      "image/png": "[encoded data removed]",
      "text/plain": [
       "<Figure size 3240x720 with 1 Axes>"
      ]
     },
     "metadata": {
      "needs_background": "light"
     },
     "output_type": "display_data"
    }
   ],
   "source": [
    "plt.figure(figsize=(45,10))\n",
    "sns.countplot(ury_clean, order=pd.Series(ury_clean).value_counts().index[:10])\n",
    "plt.xlabel('URY clean top 10 words', fontsize=50)\n",
    "plt.show()"
   ]
  },
  {
   "cell_type": "markdown",
   "metadata": {},
   "source": [
    "After removing certain words, the plots start to make sense. \n",
    "\n",
    "To compare the results with and without the words I removed: there's no commonalities but differences. The top 10 words are completely different, mainly because the words in Q3a plots are in the remove list, becasue they don't have any meaning in the text.\n",
    "\n",
    "To compare the 3 plots in Q3b, there are some interesting findings:\n",
    "\n",
    "1. commonalities:\n",
    "It seems the 3 countries emphasize the global concept a lot by using words like 'international', 'united' and 'world'. Similarly, it can be assumed the 3 countries all interested in topics like economic development and peaceful international relationships. Lastly, they all mention their country name in the speeches quite often.\n",
    "2. differences:\n",
    "It's interesting that Austria and Uruguay like to use the word 'must', which might imply the speaker has a strict or tough personality, whereas Sudan didn't use such strong term, but mentioned 'people' while the other 2 countries didn't mention 'people' as much. Austria talks about rights, or human rights more often than the other 2.\n"
   ]
  },
  {
   "cell_type": "markdown",
   "metadata": {},
   "source": [
    "### <span style=\"color:magenta\"> Q4. [20 pts] Lemmas across sessions\n",
    "1. Select three UN sessions covered by the data.\n",
    "1. Obtain the lemmas and their counts for all statements for a given session and select the top 10+ lemmas (your choice for how many to consider). \n",
    " - Remove stop words, punctuations, and any other characters or words you deem necessary during this process.\n",
    "1. Of the lemmas with counts above zero across all three sessions, select five and plot them and their counts across time. Make sure your plot is labeled and has a title. \n",
    "1. Describe the patterns you can see in the plot. Does it seem to indicate any changes in topics over time? Can you relate any of these trends to world events occurring at that time?"
   ]
  },
  {
   "cell_type": "code",
   "execution_count": 325,
   "metadata": {},
   "outputs": [],
   "source": [
    "from nltk.stem import \tWordNetLemmatizer"
   ]
  },
  {
   "cell_type": "code",
   "execution_count": 326,
   "metadata": {},
   "outputs": [
    {
     "data": {
      "text/html": [
       "<div>\n",
       "<style scoped>\n",
       "    .dataframe tbody tr th:only-of-type {\n",
       "        vertical-align: middle;\n",
       "    }\n",
       "\n",
       "    .dataframe tbody tr th {\n",
       "        vertical-align: top;\n",
       "    }\n",
       "\n",
       "    .dataframe thead th {\n",
       "        text-align: right;\n",
       "    }\n",
       "</style>\n",
       "<table border=\"1\" class=\"dataframe\">\n",
       "  <thead>\n",
       "    <tr style=\"text-align: right;\">\n",
       "      <th></th>\n",
       "      <th>session</th>\n",
       "      <th>year</th>\n",
       "      <th>country</th>\n",
       "      <th>text</th>\n",
       "      <th>country_name</th>\n",
       "    </tr>\n",
       "  </thead>\n",
       "  <tbody>\n",
       "    <tr>\n",
       "      <td>2728</td>\n",
       "      <td>64</td>\n",
       "      <td>2009</td>\n",
       "      <td>VUT</td>\n",
       "      <td>I begin by joining others \\nin congratulating Mr. Ali Abdussalam Treki on \\nassuming the noble and high responsibility of the \\npresidency of the ...</td>\n",
       "      <td>Vanuatu</td>\n",
       "    </tr>\n",
       "    <tr>\n",
       "      <td>2729</td>\n",
       "      <td>64</td>\n",
       "      <td>2009</td>\n",
       "      <td>BHS</td>\n",
       "      <td>On behalf of the \\nGovernment and people of the Commonwealth of the \\nBahamas, I convey my sincere congratulations on \\nMr. Ali Abdussalam Treki’s...</td>\n",
       "      <td>Bahamas</td>\n",
       "    </tr>\n",
       "    <tr>\n",
       "      <td>2730</td>\n",
       "      <td>64</td>\n",
       "      <td>2009</td>\n",
       "      <td>SOM</td>\n",
       "      <td>I would like \\nto begin by congratulating Mr. Ali Treki on his election \\nas President of the General Assembly at its sixty-fourth \\nsession. We a...</td>\n",
       "      <td>Somalia</td>\n",
       "    </tr>\n",
       "    <tr>\n",
       "      <td>2731</td>\n",
       "      <td>64</td>\n",
       "      <td>2009</td>\n",
       "      <td>LBR</td>\n",
       "      <td>My delegation and I are \\nhonoured, for the second time, to address the General \\nAssembly on behalf of President Ellen Johnson Sirleaf \\nand the ...</td>\n",
       "      <td>Liberia</td>\n",
       "    </tr>\n",
       "    <tr>\n",
       "      <td>2732</td>\n",
       "      <td>64</td>\n",
       "      <td>2009</td>\n",
       "      <td>AUT</td>\n",
       "      <td>This has been a truly \\nremarkable week, remarkable for the leadership shown \\nby the Secretary-General on climate change, the new \\npolicies of P...</td>\n",
       "      <td>Austria</td>\n",
       "    </tr>\n",
       "    <tr>\n",
       "      <td>...</td>\n",
       "      <td>...</td>\n",
       "      <td>...</td>\n",
       "      <td>...</td>\n",
       "      <td>...</td>\n",
       "      <td>...</td>\n",
       "    </tr>\n",
       "    <tr>\n",
       "      <td>2916</td>\n",
       "      <td>64</td>\n",
       "      <td>2009</td>\n",
       "      <td>MLT</td>\n",
       "      <td>I would like to congratulate \\nMr. Ali Treki on his unanimous election to preside over \\nthe General Assembly at its sixty-fourth session. His \\ne...</td>\n",
       "      <td>Malta</td>\n",
       "    </tr>\n",
       "    <tr>\n",
       "      <td>2917</td>\n",
       "      <td>64</td>\n",
       "      <td>2009</td>\n",
       "      <td>MAR</td>\n",
       "      <td>On behalf of the \\nKingdom of Morocco, I should like to congratulate you \\nwarmly, Sir, on your election to the presidency of the \\nGeneral-Assemb...</td>\n",
       "      <td>Morocco</td>\n",
       "    </tr>\n",
       "    <tr>\n",
       "      <td>2918</td>\n",
       "      <td>64</td>\n",
       "      <td>2009</td>\n",
       "      <td>BHR</td>\n",
       "      <td>\\nWith great pleasure I extend heartfelt congratulations \\nto my brother, His Excellency Mr. Ali Abdussalam \\nTreki, Secretary of African Union Af...</td>\n",
       "      <td>Bahrain</td>\n",
       "    </tr>\n",
       "    <tr>\n",
       "      <td>2919</td>\n",
       "      <td>64</td>\n",
       "      <td>2009</td>\n",
       "      <td>PRT</td>\n",
       "      <td>I \\nwish the President all the best for this General \\nAssembly. Along with Secretary-General Ban \\nKi-moon, he can count on Portugal’s firm suppo...</td>\n",
       "      <td>Portugal</td>\n",
       "    </tr>\n",
       "    <tr>\n",
       "      <td>2920</td>\n",
       "      <td>64</td>\n",
       "      <td>2009</td>\n",
       "      <td>MDG</td>\n",
       "      <td>It is with great pleasure that I speak from the rostrum of the United Nations \\ntoday representing Madagascar, for which it is a particular honou...</td>\n",
       "      <td>Madagascar</td>\n",
       "    </tr>\n",
       "  </tbody>\n",
       "</table>\n",
       "<p>193 rows × 5 columns</p>\n",
       "</div>"
      ],
      "text/plain": [
       "      session  year country  \\\n",
       "2728       64  2009     VUT   \n",
       "2729       64  2009     BHS   \n",
       "2730       64  2009     SOM   \n",
       "2731       64  2009     LBR   \n",
       "2732       64  2009     AUT   \n",
       "...       ...   ...     ...   \n",
       "2916       64  2009     MLT   \n",
       "2917       64  2009     MAR   \n",
       "2918       64  2009     BHR   \n",
       "2919       64  2009     PRT   \n",
       "2920       64  2009     MDG   \n",
       "\n",
       "                                                                                                                                                       text  \\\n",
       "2728  I begin by joining others \\nin congratulating Mr. Ali Abdussalam Treki on \\nassuming the noble and high responsibility of the \\npresidency of the ...   \n",
       "2729  On behalf of the \\nGovernment and people of the Commonwealth of the \\nBahamas, I convey my sincere congratulations on \\nMr. Ali Abdussalam Treki’s...   \n",
       "2730  I would like \\nto begin by congratulating Mr. Ali Treki on his election \\nas President of the General Assembly at its sixty-fourth \\nsession. We a...   \n",
       "2731  My delegation and I are \\nhonoured, for the second time, to address the General \\nAssembly on behalf of President Ellen Johnson Sirleaf \\nand the ...   \n",
       "2732  This has been a truly \\nremarkable week, remarkable for the leadership shown \\nby the Secretary-General on climate change, the new \\npolicies of P...   \n",
       "...                                                                                                                                                     ...   \n",
       "2916  I would like to congratulate \\nMr. Ali Treki on his unanimous election to preside over \\nthe General Assembly at its sixty-fourth session. His \\ne...   \n",
       "2917  On behalf of the \\nKingdom of Morocco, I should like to congratulate you \\nwarmly, Sir, on your election to the presidency of the \\nGeneral-Assemb...   \n",
       "2918  \\nWith great pleasure I extend heartfelt congratulations \\nto my brother, His Excellency Mr. Ali Abdussalam \\nTreki, Secretary of African Union Af...   \n",
       "2919  I \\nwish the President all the best for this General \\nAssembly. Along with Secretary-General Ban \\nKi-moon, he can count on Portugal’s firm suppo...   \n",
       "2920   It is with great pleasure that I speak from the rostrum of the United Nations \\ntoday representing Madagascar, for which it is a particular honou...   \n",
       "\n",
       "     country_name  \n",
       "2728      Vanuatu  \n",
       "2729     Bahamas   \n",
       "2730      Somalia  \n",
       "2731      Liberia  \n",
       "2732      Austria  \n",
       "...           ...  \n",
       "2916        Malta  \n",
       "2917      Morocco  \n",
       "2918      Bahrain  \n",
       "2919     Portugal  \n",
       "2920   Madagascar  \n",
       "\n",
       "[193 rows x 5 columns]"
      ]
     },
     "execution_count": 326,
     "metadata": {},
     "output_type": "execute_result"
    }
   ],
   "source": [
    "un_data.head()\n",
    "un_data[un_data['session']==64]"
   ]
  },
  {
   "cell_type": "code",
   "execution_count": 327,
   "metadata": {},
   "outputs": [],
   "source": [
    "from nltk.stem import \tWordNetLemmatizer\n",
    "from nltk import word_tokenize, pos_tag\n",
    "from collections import Counter"
   ]
  },
  {
   "cell_type": "code",
   "execution_count": 328,
   "metadata": {},
   "outputs": [],
   "source": [
    "session1 = un_data[un_data['session']==44].text.sum()"
   ]
  },
  {
   "cell_type": "code",
   "execution_count": 329,
   "metadata": {},
   "outputs": [],
   "source": [
    "session1_token = nltk.word_tokenize(session1)\n",
    "session1_list = []\n",
    "for token in session1_token:\n",
    "    if not token.lower() in new_list:\n",
    "        session1_list.append(token)"
   ]
  },
  {
   "cell_type": "code",
   "execution_count": 330,
   "metadata": {},
   "outputs": [],
   "source": [
    "lemma_function = WordNetLemmatizer()\n",
    "lemma_list1 =[]\n",
    "for token, tag in pos_tag(session1_list):\n",
    "    lemma = lemma_function.lemmatize(token)\n",
    "    lemma_list1.append(lemma)"
   ]
  },
  {
   "cell_type": "code",
   "execution_count": 331,
   "metadata": {},
   "outputs": [
    {
     "data": {
      "text/plain": [
       "[('country', 3450),\n",
       " ('international', 3103),\n",
       " ('United', 2294),\n",
       " ('Nations', 2098),\n",
       " ('world', 1889),\n",
       " ('peace', 1831),\n",
       " ('people', 1750),\n",
       " ('economic', 1488),\n",
       " ('development', 1467),\n",
       " ('problem', 1433)]"
      ]
     },
     "execution_count": 331,
     "metadata": {},
     "output_type": "execute_result"
    }
   ],
   "source": [
    "counter1 = Counter(lemma_list1).most_common(10)\n",
    "counter1"
   ]
  },
  {
   "cell_type": "code",
   "execution_count": 332,
   "metadata": {},
   "outputs": [],
   "source": [
    "session2 = un_data[un_data['session']==64].text.sum()"
   ]
  },
  {
   "cell_type": "code",
   "execution_count": 333,
   "metadata": {},
   "outputs": [],
   "source": [
    "session2_token = nltk.word_tokenize(session2)\n",
    "session2_list = []\n",
    "for token in session2_token:\n",
    "    if not token.lower() in new_list:\n",
    "        session2_list.append(token)\n",
    "lemma_function = WordNetLemmatizer()\n",
    "lemma_list2 =[]\n",
    "for token, tag in pos_tag(session2_list):\n",
    "    lemma = lemma_function.lemmatize(token)\n",
    "    lemma_list2.append(lemma)"
   ]
  },
  {
   "cell_type": "code",
   "execution_count": 334,
   "metadata": {},
   "outputs": [
    {
     "data": {
      "text/plain": [
       "[('country', 2275),\n",
       " ('United', 2062),\n",
       " ('Nations', 1797),\n",
       " ('international', 1758),\n",
       " ('world', 1502),\n",
       " ('global', 1134),\n",
       " ('development', 1072),\n",
       " ('people', 1069),\n",
       " ('crisis', 1065),\n",
       " ('must', 1056)]"
      ]
     },
     "execution_count": 334,
     "metadata": {},
     "output_type": "execute_result"
    }
   ],
   "source": [
    "counter2 = Counter(lemma_list2).most_common(10)\n",
    "counter2"
   ]
  },
  {
   "cell_type": "code",
   "execution_count": 335,
   "metadata": {},
   "outputs": [],
   "source": [
    "session3 = un_data[un_data['session']==70].text.sum()"
   ]
  },
  {
   "cell_type": "code",
   "execution_count": 336,
   "metadata": {},
   "outputs": [],
   "source": [
    "session3_token = nltk.word_tokenize(session3)\n",
    "session3_list = []\n",
    "for token in session3_token:\n",
    "    if not token.lower() in new_list:\n",
    "        session3_list.append(token)\n",
    "lemma_function = WordNetLemmatizer()\n",
    "lemma_list3 =[]\n",
    "for token, tag in pos_tag(session3_list):\n",
    "    lemma = lemma_function.lemmatize(token)\n",
    "    lemma_list3.append(lemma)"
   ]
  },
  {
   "cell_type": "code",
   "execution_count": 337,
   "metadata": {},
   "outputs": [
    {
     "data": {
      "text/plain": [
       "[('United', 2538),\n",
       " ('Nations', 2277),\n",
       " ('country', 1980),\n",
       " ('international', 1566),\n",
       " ('world', 1454),\n",
       " ('people', 1401),\n",
       " ('development', 1262),\n",
       " ('peace', 1200),\n",
       " ('year', 1123),\n",
       " ('must', 1033)]"
      ]
     },
     "execution_count": 337,
     "metadata": {},
     "output_type": "execute_result"
    }
   ],
   "source": [
    "counter3 = Counter(lemma_list3).most_common(10)\n",
    "counter3"
   ]
  },
  {
   "cell_type": "code",
   "execution_count": null,
   "metadata": {},
   "outputs": [],
   "source": []
  },
  {
   "cell_type": "code",
   "execution_count": 338,
   "metadata": {},
   "outputs": [],
   "source": [
    "df1 = pd.DataFrame(counter1, columns =['lemma word', '1989'])"
   ]
  },
  {
   "cell_type": "code",
   "execution_count": 339,
   "metadata": {},
   "outputs": [
    {
     "data": {
      "text/html": [
       "<div>\n",
       "<style scoped>\n",
       "    .dataframe tbody tr th:only-of-type {\n",
       "        vertical-align: middle;\n",
       "    }\n",
       "\n",
       "    .dataframe tbody tr th {\n",
       "        vertical-align: top;\n",
       "    }\n",
       "\n",
       "    .dataframe thead th {\n",
       "        text-align: right;\n",
       "    }\n",
       "</style>\n",
       "<table border=\"1\" class=\"dataframe\">\n",
       "  <thead>\n",
       "    <tr style=\"text-align: right;\">\n",
       "      <th></th>\n",
       "      <th>lemma word</th>\n",
       "      <th>1989</th>\n",
       "    </tr>\n",
       "  </thead>\n",
       "  <tbody>\n",
       "    <tr>\n",
       "      <td>0</td>\n",
       "      <td>country</td>\n",
       "      <td>3450</td>\n",
       "    </tr>\n",
       "    <tr>\n",
       "      <td>1</td>\n",
       "      <td>international</td>\n",
       "      <td>3103</td>\n",
       "    </tr>\n",
       "    <tr>\n",
       "      <td>2</td>\n",
       "      <td>United</td>\n",
       "      <td>2294</td>\n",
       "    </tr>\n",
       "    <tr>\n",
       "      <td>3</td>\n",
       "      <td>Nations</td>\n",
       "      <td>2098</td>\n",
       "    </tr>\n",
       "    <tr>\n",
       "      <td>4</td>\n",
       "      <td>world</td>\n",
       "      <td>1889</td>\n",
       "    </tr>\n",
       "    <tr>\n",
       "      <td>5</td>\n",
       "      <td>peace</td>\n",
       "      <td>1831</td>\n",
       "    </tr>\n",
       "    <tr>\n",
       "      <td>6</td>\n",
       "      <td>people</td>\n",
       "      <td>1750</td>\n",
       "    </tr>\n",
       "    <tr>\n",
       "      <td>7</td>\n",
       "      <td>economic</td>\n",
       "      <td>1488</td>\n",
       "    </tr>\n",
       "    <tr>\n",
       "      <td>8</td>\n",
       "      <td>development</td>\n",
       "      <td>1467</td>\n",
       "    </tr>\n",
       "    <tr>\n",
       "      <td>9</td>\n",
       "      <td>problem</td>\n",
       "      <td>1433</td>\n",
       "    </tr>\n",
       "  </tbody>\n",
       "</table>\n",
       "</div>"
      ],
      "text/plain": [
       "      lemma word  1989\n",
       "0        country  3450\n",
       "1  international  3103\n",
       "2         United  2294\n",
       "3        Nations  2098\n",
       "4          world  1889\n",
       "5          peace  1831\n",
       "6         people  1750\n",
       "7       economic  1488\n",
       "8    development  1467\n",
       "9        problem  1433"
      ]
     },
     "execution_count": 339,
     "metadata": {},
     "output_type": "execute_result"
    }
   ],
   "source": [
    "df1"
   ]
  },
  {
   "cell_type": "code",
   "execution_count": 340,
   "metadata": {},
   "outputs": [],
   "source": [
    "df2 = pd.DataFrame(counter2, columns =['lemma word', '2009'])"
   ]
  },
  {
   "cell_type": "code",
   "execution_count": 341,
   "metadata": {},
   "outputs": [
    {
     "data": {
      "text/html": [
       "<div>\n",
       "<style scoped>\n",
       "    .dataframe tbody tr th:only-of-type {\n",
       "        vertical-align: middle;\n",
       "    }\n",
       "\n",
       "    .dataframe tbody tr th {\n",
       "        vertical-align: top;\n",
       "    }\n",
       "\n",
       "    .dataframe thead th {\n",
       "        text-align: right;\n",
       "    }\n",
       "</style>\n",
       "<table border=\"1\" class=\"dataframe\">\n",
       "  <thead>\n",
       "    <tr style=\"text-align: right;\">\n",
       "      <th></th>\n",
       "      <th>lemma word</th>\n",
       "      <th>2009</th>\n",
       "    </tr>\n",
       "  </thead>\n",
       "  <tbody>\n",
       "    <tr>\n",
       "      <td>0</td>\n",
       "      <td>country</td>\n",
       "      <td>2275</td>\n",
       "    </tr>\n",
       "    <tr>\n",
       "      <td>1</td>\n",
       "      <td>United</td>\n",
       "      <td>2062</td>\n",
       "    </tr>\n",
       "    <tr>\n",
       "      <td>2</td>\n",
       "      <td>Nations</td>\n",
       "      <td>1797</td>\n",
       "    </tr>\n",
       "    <tr>\n",
       "      <td>3</td>\n",
       "      <td>international</td>\n",
       "      <td>1758</td>\n",
       "    </tr>\n",
       "    <tr>\n",
       "      <td>4</td>\n",
       "      <td>world</td>\n",
       "      <td>1502</td>\n",
       "    </tr>\n",
       "    <tr>\n",
       "      <td>5</td>\n",
       "      <td>global</td>\n",
       "      <td>1134</td>\n",
       "    </tr>\n",
       "    <tr>\n",
       "      <td>6</td>\n",
       "      <td>development</td>\n",
       "      <td>1072</td>\n",
       "    </tr>\n",
       "    <tr>\n",
       "      <td>7</td>\n",
       "      <td>people</td>\n",
       "      <td>1069</td>\n",
       "    </tr>\n",
       "    <tr>\n",
       "      <td>8</td>\n",
       "      <td>crisis</td>\n",
       "      <td>1065</td>\n",
       "    </tr>\n",
       "    <tr>\n",
       "      <td>9</td>\n",
       "      <td>must</td>\n",
       "      <td>1056</td>\n",
       "    </tr>\n",
       "  </tbody>\n",
       "</table>\n",
       "</div>"
      ],
      "text/plain": [
       "      lemma word  2009\n",
       "0        country  2275\n",
       "1         United  2062\n",
       "2        Nations  1797\n",
       "3  international  1758\n",
       "4          world  1502\n",
       "5         global  1134\n",
       "6    development  1072\n",
       "7         people  1069\n",
       "8         crisis  1065\n",
       "9           must  1056"
      ]
     },
     "execution_count": 341,
     "metadata": {},
     "output_type": "execute_result"
    }
   ],
   "source": [
    "df2"
   ]
  },
  {
   "cell_type": "code",
   "execution_count": null,
   "metadata": {},
   "outputs": [],
   "source": []
  },
  {
   "cell_type": "code",
   "execution_count": 342,
   "metadata": {},
   "outputs": [],
   "source": [
    "df3 = pd.DataFrame(counter3, columns =['lemma word', '2015'])"
   ]
  },
  {
   "cell_type": "code",
   "execution_count": 343,
   "metadata": {},
   "outputs": [
    {
     "data": {
      "text/html": [
       "<div>\n",
       "<style scoped>\n",
       "    .dataframe tbody tr th:only-of-type {\n",
       "        vertical-align: middle;\n",
       "    }\n",
       "\n",
       "    .dataframe tbody tr th {\n",
       "        vertical-align: top;\n",
       "    }\n",
       "\n",
       "    .dataframe thead th {\n",
       "        text-align: right;\n",
       "    }\n",
       "</style>\n",
       "<table border=\"1\" class=\"dataframe\">\n",
       "  <thead>\n",
       "    <tr style=\"text-align: right;\">\n",
       "      <th></th>\n",
       "      <th>lemma word</th>\n",
       "      <th>2015</th>\n",
       "    </tr>\n",
       "  </thead>\n",
       "  <tbody>\n",
       "    <tr>\n",
       "      <td>0</td>\n",
       "      <td>United</td>\n",
       "      <td>2538</td>\n",
       "    </tr>\n",
       "    <tr>\n",
       "      <td>1</td>\n",
       "      <td>Nations</td>\n",
       "      <td>2277</td>\n",
       "    </tr>\n",
       "    <tr>\n",
       "      <td>2</td>\n",
       "      <td>country</td>\n",
       "      <td>1980</td>\n",
       "    </tr>\n",
       "    <tr>\n",
       "      <td>3</td>\n",
       "      <td>international</td>\n",
       "      <td>1566</td>\n",
       "    </tr>\n",
       "    <tr>\n",
       "      <td>4</td>\n",
       "      <td>world</td>\n",
       "      <td>1454</td>\n",
       "    </tr>\n",
       "    <tr>\n",
       "      <td>5</td>\n",
       "      <td>people</td>\n",
       "      <td>1401</td>\n",
       "    </tr>\n",
       "    <tr>\n",
       "      <td>6</td>\n",
       "      <td>development</td>\n",
       "      <td>1262</td>\n",
       "    </tr>\n",
       "    <tr>\n",
       "      <td>7</td>\n",
       "      <td>peace</td>\n",
       "      <td>1200</td>\n",
       "    </tr>\n",
       "    <tr>\n",
       "      <td>8</td>\n",
       "      <td>year</td>\n",
       "      <td>1123</td>\n",
       "    </tr>\n",
       "    <tr>\n",
       "      <td>9</td>\n",
       "      <td>must</td>\n",
       "      <td>1033</td>\n",
       "    </tr>\n",
       "  </tbody>\n",
       "</table>\n",
       "</div>"
      ],
      "text/plain": [
       "      lemma word  2015\n",
       "0         United  2538\n",
       "1        Nations  2277\n",
       "2        country  1980\n",
       "3  international  1566\n",
       "4          world  1454\n",
       "5         people  1401\n",
       "6    development  1262\n",
       "7          peace  1200\n",
       "8           year  1123\n",
       "9           must  1033"
      ]
     },
     "execution_count": 343,
     "metadata": {},
     "output_type": "execute_result"
    }
   ],
   "source": [
    "df3"
   ]
  },
  {
   "cell_type": "code",
   "execution_count": 344,
   "metadata": {},
   "outputs": [
    {
     "data": {
      "text/html": [
       "<div>\n",
       "<style scoped>\n",
       "    .dataframe tbody tr th:only-of-type {\n",
       "        vertical-align: middle;\n",
       "    }\n",
       "\n",
       "    .dataframe tbody tr th {\n",
       "        vertical-align: top;\n",
       "    }\n",
       "\n",
       "    .dataframe thead th {\n",
       "        text-align: right;\n",
       "    }\n",
       "</style>\n",
       "<table border=\"1\" class=\"dataframe\">\n",
       "  <thead>\n",
       "    <tr style=\"text-align: right;\">\n",
       "      <th></th>\n",
       "      <th>1989</th>\n",
       "      <th>2009</th>\n",
       "      <th>2015</th>\n",
       "    </tr>\n",
       "    <tr>\n",
       "      <th>lemma word</th>\n",
       "      <th></th>\n",
       "      <th></th>\n",
       "      <th></th>\n",
       "    </tr>\n",
       "  </thead>\n",
       "  <tbody>\n",
       "    <tr>\n",
       "      <td>country</td>\n",
       "      <td>3450</td>\n",
       "      <td>2275</td>\n",
       "      <td>1980</td>\n",
       "    </tr>\n",
       "    <tr>\n",
       "      <td>international</td>\n",
       "      <td>3103</td>\n",
       "      <td>1758</td>\n",
       "      <td>1566</td>\n",
       "    </tr>\n",
       "    <tr>\n",
       "      <td>United</td>\n",
       "      <td>2294</td>\n",
       "      <td>2062</td>\n",
       "      <td>2538</td>\n",
       "    </tr>\n",
       "    <tr>\n",
       "      <td>Nations</td>\n",
       "      <td>2098</td>\n",
       "      <td>1797</td>\n",
       "      <td>2277</td>\n",
       "    </tr>\n",
       "    <tr>\n",
       "      <td>world</td>\n",
       "      <td>1889</td>\n",
       "      <td>1502</td>\n",
       "      <td>1454</td>\n",
       "    </tr>\n",
       "  </tbody>\n",
       "</table>\n",
       "</div>"
      ],
      "text/plain": [
       "               1989  2009  2015\n",
       "lemma word                     \n",
       "country        3450  2275  1980\n",
       "international  3103  1758  1566\n",
       "United         2294  2062  2538\n",
       "Nations        2098  1797  2277\n",
       "world          1889  1502  1454"
      ]
     },
     "execution_count": 344,
     "metadata": {},
     "output_type": "execute_result"
    }
   ],
   "source": [
    "df = df1.merge(df2, on='lemma word').merge(df3, on='lemma word')\n",
    "top5words=df.head().set_index(\"lemma word\")\n",
    "top5words"
   ]
  },
  {
   "cell_type": "code",
   "execution_count": 374,
   "metadata": {},
   "outputs": [
    {
     "data": {
      "text/plain": [
       "Text(0.5, 0, '5 common lemma words changing trend across time')"
      ]
     },
     "execution_count": 374,
     "metadata": {},
     "output_type": "execute_result"
    },
    {
     "data": {
      "image/png": "[encoded data removed]",
      "text/plain": [
       "<Figure size 432x288 with 1 Axes>"
      ]
     },
     "metadata": {
      "needs_background": "light"
     },
     "output_type": "display_data"
    }
   ],
   "source": [
    "top5words.plot(kind='line')\n",
    "plt.xlabel('5 common lemma words changing trend across time')"
   ]
  },
  {
   "cell_type": "markdown",
   "metadata": {},
   "source": [
    "I randomly chose the 3 sessions: 44, 64 and 70, and they are years 1989, 2009 and 2015.\n",
    "\n",
    "Before my interpretion, here's some background of UN:\n",
    "'The United Nations is an intergovernmental organization that aims to maintain international peace and security, develop friendly relations among nations, achieve international cooperation, and be a center for harmonizing the actions of nations.'\n",
    "source: https://en.wikipedia.org/wiki/United_Nations\n",
    "\n",
    "Based on this background, it's not surprising countries use less and less 'country' and more and more 'united' & 'nations'. However, the United Nation seems just emphasize union within this group, and is less inclined to open this concept globally. The frequency of words 'international' and 'world' becoming smaller and smaller."
   ]
  },
  {
   "cell_type": "markdown",
   "metadata": {},
   "source": [
    "### <span style=\"color:magenta\"> Bonus. [5 pts] Similarity using GloVe\n",
    "GloVe is an unsupervised learning algorithm for obtaining vector representations of words that's conceptually similar to, but technically different from, Word2Vec. Use gensim to load a GloVe model, one way to do this is by importing and using gensim.downloader (https://radimrehurek.com/gensim/downloader.html). See available options for GloVe models here: https://github.com/RaRe-Technologies/gensim-data#models. Even the smallest GloVe model should suffice for our purposes.\n",
    "1. Choose 5 words related to the UN and its mission (https://www.un.org/en/sections/what-we-do/).\n",
    "1. What are the top-10 similar words of each? Do you find anything odd or interesting? Please explain.\n",
    "1. What do the top-10 most similar words indicate about the searched word, its definition, or what it implies?\n",
    "    \n",
    "Make a good choice in terms of how much time you spend on a five point bonus question. It may not be worth hours of effort if it's too demanding. 😊"
   ]
  },
  {
   "cell_type": "code",
   "execution_count": 346,
   "metadata": {},
   "outputs": [],
   "source": [
    "import gensim.downloader as api"
   ]
  },
  {
   "cell_type": "code",
   "execution_count": 347,
   "metadata": {},
   "outputs": [],
   "source": [
    "model = api.load(\"glove-twitter-25\")"
   ]
  },
  {
   "cell_type": "code",
   "execution_count": 348,
   "metadata": {},
   "outputs": [],
   "source": [
    "# 5 words I choose related to the UN and its mission are: \n",
    "# peace, security, humanitarian, sustainable, aid.\n",
    "words = ['peace', 'security', 'humanitarian', 'sustainable','aid']\n",
    "similar = [[item[0] for item in model.most_similar(word)[:10]] for word in words]\n",
    "df = pd.DataFrame({'Word': words, 'Similar Words': similar})"
   ]
  },
  {
   "cell_type": "code",
   "execution_count": 349,
   "metadata": {},
   "outputs": [],
   "source": [
    "#model = api.load(\"glove-twitter-100\")"
   ]
  },
  {
   "cell_type": "code",
   "execution_count": 350,
   "metadata": {},
   "outputs": [
    {
     "data": {
      "text/html": [
       "<div>\n",
       "<style scoped>\n",
       "    .dataframe tbody tr th:only-of-type {\n",
       "        vertical-align: middle;\n",
       "    }\n",
       "\n",
       "    .dataframe tbody tr th {\n",
       "        vertical-align: top;\n",
       "    }\n",
       "\n",
       "    .dataframe thead th {\n",
       "        text-align: right;\n",
       "    }\n",
       "</style>\n",
       "<table border=\"1\" class=\"dataframe\">\n",
       "  <thead>\n",
       "    <tr style=\"text-align: right;\">\n",
       "      <th></th>\n",
       "      <th>Word</th>\n",
       "      <th>Similar Words</th>\n",
       "    </tr>\n",
       "  </thead>\n",
       "  <tbody>\n",
       "    <tr>\n",
       "      <td>0</td>\n",
       "      <td>peace</td>\n",
       "      <td>[god, faith, spirit, joy, lord, grace, christ, freedom, mercy, bless]</td>\n",
       "    </tr>\n",
       "    <tr>\n",
       "      <td>1</td>\n",
       "      <td>security</td>\n",
       "      <td>[safety, banking, system, government, access, report, search, emergency, policy, network]</td>\n",
       "    </tr>\n",
       "    <tr>\n",
       "      <td>2</td>\n",
       "      <td>humanitarian</td>\n",
       "      <td>[interfaith, demands, cooperation, involvement, affairs, contribution, reconciliation, empowerment, efforts, diplomatic]</td>\n",
       "    </tr>\n",
       "    <tr>\n",
       "      <td>3</td>\n",
       "      <td>sustainable</td>\n",
       "      <td>[agile, sustainability, environment, strategic, innovative, innovation, infrastructure, resources, holistic, solutions]</td>\n",
       "    </tr>\n",
       "    <tr>\n",
       "      <td>4</td>\n",
       "      <td>aid</td>\n",
       "      <td>[funds, fund, tax, welfare, benefit, health, funding, benefits, nhs, orders]</td>\n",
       "    </tr>\n",
       "  </tbody>\n",
       "</table>\n",
       "</div>"
      ],
      "text/plain": [
       "           Word  \\\n",
       "0         peace   \n",
       "1      security   \n",
       "2  humanitarian   \n",
       "3   sustainable   \n",
       "4           aid   \n",
       "\n",
       "                                                                                                              Similar Words  \n",
       "0                                                     [god, faith, spirit, joy, lord, grace, christ, freedom, mercy, bless]  \n",
       "1                                 [safety, banking, system, government, access, report, search, emergency, policy, network]  \n",
       "2  [interfaith, demands, cooperation, involvement, affairs, contribution, reconciliation, empowerment, efforts, diplomatic]  \n",
       "3   [agile, sustainability, environment, strategic, innovative, innovation, infrastructure, resources, holistic, solutions]  \n",
       "4                                              [funds, fund, tax, welfare, benefit, health, funding, benefits, nhs, orders]  "
      ]
     },
     "execution_count": 350,
     "metadata": {},
     "output_type": "execute_result"
    }
   ],
   "source": [
    "pd.options.display.max_colwidth=150\n",
    "df"
   ]
  },
  {
   "cell_type": "markdown",
   "metadata": {},
   "source": [
    "5 words I choose related to the UN and its mission are: peace, security, humanitarian, sustainable, aid. The top-10 similar words of each are as above. \n",
    "\n",
    "For word 'peace', the similar words model suggested are very... religious, like 'god', 'christ', 'mercy' and 'bless'.\n",
    "For word 'security', similar words including 'banking', 'government', 'policy', I assume those words are what the model believes to bring security, whereas 'access', 'network' might be what the model believes to have security issues. \n",
    "For word 'humanitarian', the similar words are not surprising, it's about 'interfaith', 'cooperation', 'reconciliation', 'efforts' and so on.\n",
    "For word 'sustainable', the similar words are reasonable as well like 'environment', 'innovative', 'resources' and 'holistic'.\n",
    "For word 'aid', the related words are 'funds', 'welfare', 'health', 'nhs'(The National Health Service is the publicly funded healthcare system of the United Kingdom) and etc.\n",
    "\n",
    "I think the results show that when people talk about peace, they tend to use phrase like 'god bless us', and put the hope to religion. When talking about security, as I mentioned above, people could either think about things that gives them sense of security, or things that tends to have security issues. For humanitarian, it's more about team work, no judgement and open to different voices. Sustainable is a word always linking with environment, and there are popular phrases like innovative sustainable methods, sustainability of resources or sustainable infrastructure. Lastly, aid is a word linked with funds/donation, health improvement or tax reduction, and nhs is one of the biggest health care system."
   ]
  }
 ],
 "metadata": {
  "colab": {
   "collapsed_sections": [],
   "name": "618_HW3.ipynb",
   "provenance": [],
   "version": "0.3.2"
  },
  "kernelspec": {
   "display_name": "Python 3",
   "language": "python",
   "name": "python3"
  },
  "language_info": {
   "codemirror_mode": {
    "name": "ipython",
    "version": 3
   },
   "file_extension": ".py",
   "mimetype": "text/x-python",
   "name": "python",
   "nbconvert_exporter": "python",
   "pygments_lexer": "ipython3",
   "version": "3.7.4"
  }
 },
 "nbformat": 4,
 "nbformat_minor": 4
}
