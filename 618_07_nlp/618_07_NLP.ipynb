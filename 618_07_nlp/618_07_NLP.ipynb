{
 "cells": [
  {
   "cell_type": "markdown",
   "metadata": {
    "slideshow": {
     "slide_type": "slide"
    }
   },
   "source": [
    "# SI 618: Data Manipulation and Analysis\n",
    "## 07 - Natural Language Processing\n",
    "### Dr. Chris Teplovs, School of Information, University of Michigan\n",
    "<small><a rel=\"license\" href=\"http://creativecommons.org/licenses/by-nc-sa/4.0/\"><img alt=\"Creative Commons License\" style=\"border-width:0\" src=\"https://i.creativecommons.org/l/by-nc-sa/4.0/88x31.png\" /></a> This work is licensed under a <a rel=\"license\" href=\"http://creativecommons.org/licenses/by-nc-sa/4.0/\">Creative Commons Attribution-NonCommercial-ShareAlike 4.0 International License</a>."
   ]
  },
  {
   "cell_type": "markdown",
   "metadata": {
    "slideshow": {
     "slide_type": "slide"
    }
   },
   "source": [
    "# Outline for today\n",
    "\n",
    "- regular expressions redux\n",
    "- ```nltk```\n",
    "    - Cleaning the data\n",
    "    - Extracting linguistic features\n",
    "- ```Word2Vec```\n",
    "    - Vector representation of words\n",
    "    - Word similarities\n",
    "    - Vector algebra for semantics"
   ]
  },
  {
   "cell_type": "markdown",
   "metadata": {
    "slideshow": {
     "slide_type": "slide"
    },
    "toc-hr-collapsed": false
   },
   "source": [
    "# Why learn NLP?\n",
    "- Natural language = human language\n",
    "- We use language to learn about the world\n",
    "- How machines understand human langauge?\n",
    "- How can we quantify the meaning of language?"
   ]
  },
  {
   "cell_type": "markdown",
   "metadata": {
    "slideshow": {
     "slide_type": "slide"
    }
   },
   "source": [
    "## Applications?\n",
    "- Probabily any service that uses text as information\n",
    "- Search engine, SNS\n",
    "    - What's the document about?\n",
    "    - How do you determine the similarity?\n",
    "- Virtual assistants: Alexa, Google Assistant, Cortana, etc. \n",
    "    - Understand the semantic information from your speech from parsed text\n",
    "- Biology, genetics\n",
    "    - Genetic information / DNA sequence as text\n",
    "    - Draw networks of proteins/molecules from vast amount of scientific papers "
   ]
  },
  {
   "cell_type": "code",
   "execution_count": 2,
   "metadata": {
    "slideshow": {
     "slide_type": "slide"
    }
   },
   "outputs": [],
   "source": [
    "import pandas as pd\n",
    "import numpy as np\n",
    "import re\n",
    "import seaborn as sns\n",
    "import matplotlib.pyplot as plt\n",
    "%matplotlib inline"
   ]
  },
  {
   "cell_type": "markdown",
   "metadata": {
    "slideshow": {
     "slide_type": "slide"
    }
   },
   "source": [
    "# Regular Expressions"
   ]
  },
  {
   "cell_type": "markdown",
   "metadata": {},
   "source": [
    "**Note:** we have included a [cheat sheet for regular expressions](python-regular-expressions-cheat-sheet.pdf)."
   ]
  },
  {
   "cell_type": "markdown",
   "metadata": {},
   "source": [
    "Regular expressions are simply a way to find sequences of characters within strings.  Let's use, as our text, \"Bereft\", a poem by Robert Frost:"
   ]
  },
  {
   "cell_type": "code",
   "execution_count": 3,
   "metadata": {},
   "outputs": [],
   "source": [
    "bereft = \"\"\"Where had I heard this wind before\n",
    "Change like this to a deeper roar?\n",
    "What would it take my standing there for,\n",
    "Holding open a restive door,\n",
    "Looking down hill to a frothy shore?\n",
    "Summer was past and the day was past.\n",
    "Sombre clouds in the west were massed.\n",
    "Out on the porch's sagging floor,\n",
    "Leaves got up in a coil and hissed,\n",
    "Blindly striking at my knee and missed.\n",
    "Something sinister in the tone\n",
    "Told me my secret my be known:\n",
    "Word I was in the house alone\n",
    "Somehow must have gotten abroad,\n",
    "Word I was in my life alone,\n",
    "Word I had no one left but God.\"\"\""
   ]
  },
  {
   "cell_type": "markdown",
   "metadata": {},
   "source": [
    "To make our lives simpler (we'll discuss why this is the case in class), we're going to strip the newlines from the passage:"
   ]
  },
  {
   "cell_type": "code",
   "execution_count": 4,
   "metadata": {},
   "outputs": [],
   "source": [
    "bereft = bereft.replace('\\n',' ')"
   ]
  },
  {
   "cell_type": "code",
   "execution_count": 5,
   "metadata": {},
   "outputs": [
    {
     "data": {
      "text/plain": [
       "\"Where had I heard this wind before Change like this to a deeper roar? What would it take my standing there for, Holding open a restive door, Looking down hill to a frothy shore? Summer was past and the day was past. Sombre clouds in the west were massed. Out on the porch's sagging floor, Leaves got up in a coil and hissed, Blindly striking at my knee and missed. Something sinister in the tone Told me my secret my be known: Word I was in the house alone Somehow must have gotten abroad, Word I was in my life alone, Word I had no one left but God.\""
      ]
     },
     "execution_count": 5,
     "metadata": {},
     "output_type": "execute_result"
    }
   ],
   "source": [
    "bereft"
   ]
  },
  {
   "cell_type": "markdown",
   "metadata": {},
   "source": [
    "Let's say we wanted to find all the occurrences of the word \"alone\".   We could use  plain old string functions:"
   ]
  },
  {
   "cell_type": "code",
   "execution_count": 6,
   "metadata": {},
   "outputs": [
    {
     "data": {
      "text/plain": [
       "451"
      ]
     },
     "execution_count": 6,
     "metadata": {},
     "output_type": "execute_result"
    }
   ],
   "source": [
    "bereft.find('alone') # 451 is the postion of 'alone'"
   ]
  },
  {
   "cell_type": "code",
   "execution_count": 7,
   "metadata": {},
   "outputs": [
    {
     "name": "stdout",
     "output_type": "stream",
     "text": [
      "Yup, found it\n"
     ]
    }
   ],
   "source": [
    "if 'alone' in bereft:\n",
    "    print('Yup, found it')\n",
    "else:\n",
    "    print('Hot there')"
   ]
  },
  {
   "cell_type": "code",
   "execution_count": 8,
   "metadata": {},
   "outputs": [
    {
     "data": {
      "text/plain": [
       "2"
      ]
     },
     "execution_count": 8,
     "metadata": {},
     "output_type": "execute_result"
    }
   ],
   "source": [
    "bereft.count('alone')"
   ]
  },
  {
   "cell_type": "markdown",
   "metadata": {},
   "source": [
    "Ok, now try it yourself:  \n",
    "### <font color=\"magenta\">Q1: How many times does the word ```was``` appear in the poem?</a>"
   ]
  },
  {
   "cell_type": "code",
   "execution_count": 9,
   "metadata": {},
   "outputs": [
    {
     "data": {
      "text/plain": [
       "4"
      ]
     },
     "execution_count": 9,
     "metadata": {},
     "output_type": "execute_result"
    }
   ],
   "source": [
    "bereft.count('was')"
   ]
  },
  {
   "cell_type": "markdown",
   "metadata": {},
   "source": [
    "So far, so good.  Now let's make things a bit more interesting.  How many words are there that contain the letters ```one``` ?"
   ]
  },
  {
   "cell_type": "code",
   "execution_count": 10,
   "metadata": {},
   "outputs": [
    {
     "data": {
      "text/plain": [
       "4"
      ]
     },
     "execution_count": 10,
     "metadata": {},
     "output_type": "execute_result"
    }
   ],
   "source": [
    "bereft.count('one')"
   ]
  },
  {
   "cell_type": "code",
   "execution_count": 11,
   "metadata": {},
   "outputs": [],
   "source": [
    "import re"
   ]
  },
  {
   "cell_type": "code",
   "execution_count": 12,
   "metadata": {},
   "outputs": [
    {
     "data": {
      "text/plain": [
       "['one', 'one', 'one', 'one']"
      ]
     },
     "execution_count": 12,
     "metadata": {},
     "output_type": "execute_result"
    }
   ],
   "source": [
    "re.findall('one',bereft)"
   ]
  },
  {
   "cell_type": "markdown",
   "metadata": {},
   "source": [
    "But what if we wanted to know the words that contained ```one``` instead of just the count?  Enter regular expressions!"
   ]
  },
  {
   "cell_type": "code",
   "execution_count": 15,
   "metadata": {},
   "outputs": [
    {
     "data": {
      "text/plain": [
       "4"
      ]
     },
     "execution_count": 15,
     "metadata": {},
     "output_type": "execute_result"
    }
   ],
   "source": [
    "re.findall('[a-z]+one',bereft) # + means there must be somthing\n",
    "re.findall('[a-z]*one',bereft) # * means something or nothing there\n",
    "for ele in re.findall('[a-z]*one',bereft):\n",
    "    a = bereft.count(ele)\n",
    "a"
   ]
  },
  {
   "cell_type": "markdown",
   "metadata": {},
   "source": [
    "### Some useful online resources:\n",
    "\n",
    "* www.debuggex.com\n",
    "* www.regexr.com"
   ]
  },
  {
   "cell_type": "code",
   "execution_count": 41,
   "metadata": {},
   "outputs": [
    {
     "data": {
      "text/plain": [
       "<re.Match object; span=(391, 395), match='tone'>"
      ]
     },
     "execution_count": 41,
     "metadata": {},
     "output_type": "execute_result"
    }
   ],
   "source": [
    "re.search('[a-z]*one',bereft) # return a match object, similar to group_by function"
   ]
  },
  {
   "cell_type": "code",
   "execution_count": 42,
   "metadata": {},
   "outputs": [],
   "source": [
    "match = re.search('[a-z]*one', bereft)"
   ]
  },
  {
   "cell_type": "code",
   "execution_count": 43,
   "metadata": {},
   "outputs": [
    {
     "name": "stdout",
     "output_type": "stream",
     "text": [
      "Found it!\n"
     ]
    }
   ],
   "source": [
    "if match:\n",
    "    print(\"Found it!\")"
   ]
  },
  {
   "cell_type": "code",
   "execution_count": 44,
   "metadata": {},
   "outputs": [
    {
     "name": "stdout",
     "output_type": "stream",
     "text": [
      "Found it!\n",
      "tone\n"
     ]
    }
   ],
   "source": [
    "if match:\n",
    "    print(\"Found it!\")\n",
    "    print(match.group(0))"
   ]
  },
  {
   "cell_type": "markdown",
   "metadata": {},
   "source": [
    "### Match Groups\n",
    "\n",
    "In the above example, we used ```match.group(0)``` to extract the entire match.\n",
    "\n",
    "Match groups also allow you to extract only certain parts of the match.  In the previous example, say we wanted to know which letters preceded the letters 'one'.  We could use match groups, specified by paretheses, to extract only certain parts."
   ]
  },
  {
   "cell_type": "code",
   "execution_count": 45,
   "metadata": {},
   "outputs": [],
   "source": [
    "match = re.search('([a-z]*)one', bereft)"
   ]
  },
  {
   "cell_type": "code",
   "execution_count": 46,
   "metadata": {},
   "outputs": [
    {
     "name": "stdout",
     "output_type": "stream",
     "text": [
      "Found it!\n",
      "tone\n",
      "t\n"
     ]
    }
   ],
   "source": [
    "if match:\n",
    "    print(\"Found it!\")\n",
    "    print(match.group(0))\n",
    "    print(match.group(1))"
   ]
  },
  {
   "cell_type": "markdown",
   "metadata": {},
   "source": [
    "How would we extract all the letters that precede *one*?  Use ```re.finditer()```"
   ]
  },
  {
   "cell_type": "code",
   "execution_count": 47,
   "metadata": {},
   "outputs": [],
   "source": [
    "matches = re.finditer('([a-z]*)one', bereft)"
   ]
  },
  {
   "cell_type": "code",
   "execution_count": 48,
   "metadata": {},
   "outputs": [
    {
     "name": "stdout",
     "output_type": "stream",
     "text": [
      "tone t\n",
      "alone al\n",
      "alone al\n",
      "one \n"
     ]
    }
   ],
   "source": [
    "for match in matches:\n",
    "    print(match.group(0),match.group(1))"
   ]
  },
  {
   "cell_type": "code",
   "execution_count": 49,
   "metadata": {},
   "outputs": [
    {
     "name": "stdout",
     "output_type": "stream",
     "text": [
      "alone al a l\n",
      "alone al a l\n"
     ]
    }
   ],
   "source": [
    "matches = re.finditer('(([a-z])([a-z]))one', bereft)\n",
    "for match in matches:\n",
    "    print(match.group(0),match.group(1),match.group(2),match.group(3))"
   ]
  },
  {
   "cell_type": "code",
   "execution_count": 50,
   "metadata": {},
   "outputs": [
    {
     "data": {
      "text/plain": [
       "['Where had I heard this wind before Change like this to a deeper roar? What would it take my standing there for',\n",
       " ' Holding open a restive door',\n",
       " \" Looking down hill to a frothy shore? Summer was past and the day was past. Sombre clouds in the west were massed. Out on the porch's sagging floor\",\n",
       " ' Leaves got up in a coil and hissed',\n",
       " ' Blindly striking at my knee and missed. Something sinister in the tone Told me my secret my be known: Word I was in the house alone Somehow must have gotten abroad',\n",
       " ' Word I was in my life alone',\n",
       " ' Word I had no one left but God.']"
      ]
     },
     "execution_count": 50,
     "metadata": {},
     "output_type": "execute_result"
    }
   ],
   "source": [
    "re.split(',',bereft)"
   ]
  },
  {
   "cell_type": "markdown",
   "metadata": {},
   "source": [
    "### <font color=\"magenta\">Q2: Experiment with various regular expressions such as \\W, \\w, \\s, \\S to see how the poem can be split."
   ]
  },
  {
   "cell_type": "code",
   "execution_count": 51,
   "metadata": {},
   "outputs": [
    {
     "data": {
      "text/plain": [
       "['Where',\n",
       " 'had',\n",
       " 'I',\n",
       " 'heard',\n",
       " 'this',\n",
       " 'wind',\n",
       " 'before',\n",
       " 'Change',\n",
       " 'like',\n",
       " 'this',\n",
       " 'to',\n",
       " 'a',\n",
       " 'deeper',\n",
       " 'roar',\n",
       " '',\n",
       " 'What',\n",
       " 'would',\n",
       " 'it',\n",
       " 'take',\n",
       " 'my',\n",
       " 'standing',\n",
       " 'there',\n",
       " 'for',\n",
       " '',\n",
       " 'Holding',\n",
       " 'open',\n",
       " 'a',\n",
       " 'restive',\n",
       " 'door',\n",
       " '',\n",
       " 'Looking',\n",
       " 'down',\n",
       " 'hill',\n",
       " 'to',\n",
       " 'a',\n",
       " 'frothy',\n",
       " 'shore',\n",
       " '',\n",
       " 'Summer',\n",
       " 'was',\n",
       " 'past',\n",
       " 'and',\n",
       " 'the',\n",
       " 'day',\n",
       " 'was',\n",
       " 'past',\n",
       " '',\n",
       " 'Sombre',\n",
       " 'clouds',\n",
       " 'in',\n",
       " 'the',\n",
       " 'west',\n",
       " 'were',\n",
       " 'massed',\n",
       " '',\n",
       " 'Out',\n",
       " 'on',\n",
       " 'the',\n",
       " 'porch',\n",
       " 's',\n",
       " 'sagging',\n",
       " 'floor',\n",
       " '',\n",
       " 'Leaves',\n",
       " 'got',\n",
       " 'up',\n",
       " 'in',\n",
       " 'a',\n",
       " 'coil',\n",
       " 'and',\n",
       " 'hissed',\n",
       " '',\n",
       " 'Blindly',\n",
       " 'striking',\n",
       " 'at',\n",
       " 'my',\n",
       " 'knee',\n",
       " 'and',\n",
       " 'missed',\n",
       " '',\n",
       " 'Something',\n",
       " 'sinister',\n",
       " 'in',\n",
       " 'the',\n",
       " 'tone',\n",
       " 'Told',\n",
       " 'me',\n",
       " 'my',\n",
       " 'secret',\n",
       " 'my',\n",
       " 'be',\n",
       " 'known',\n",
       " '',\n",
       " 'Word',\n",
       " 'I',\n",
       " 'was',\n",
       " 'in',\n",
       " 'the',\n",
       " 'house',\n",
       " 'alone',\n",
       " 'Somehow',\n",
       " 'must',\n",
       " 'have',\n",
       " 'gotten',\n",
       " 'abroad',\n",
       " '',\n",
       " 'Word',\n",
       " 'I',\n",
       " 'was',\n",
       " 'in',\n",
       " 'my',\n",
       " 'life',\n",
       " 'alone',\n",
       " '',\n",
       " 'Word',\n",
       " 'I',\n",
       " 'had',\n",
       " 'no',\n",
       " 'one',\n",
       " 'left',\n",
       " 'but',\n",
       " 'God',\n",
       " '']"
      ]
     },
     "execution_count": 51,
     "metadata": {},
     "output_type": "execute_result"
    }
   ],
   "source": [
    "re.split('\\W',bereft)"
   ]
  },
  {
   "cell_type": "code",
   "execution_count": 52,
   "metadata": {},
   "outputs": [
    {
     "data": {
      "text/plain": [
       "['',\n",
       " '',\n",
       " '',\n",
       " '',\n",
       " '',\n",
       " ' ',\n",
       " '',\n",
       " '',\n",
       " ' ',\n",
       " ' ',\n",
       " '',\n",
       " '',\n",
       " '',\n",
       " '',\n",
       " ' ',\n",
       " '',\n",
       " '',\n",
       " '',\n",
       " ' ',\n",
       " '',\n",
       " '',\n",
       " '',\n",
       " ' ',\n",
       " '',\n",
       " '',\n",
       " '',\n",
       " '',\n",
       " '',\n",
       " ' ',\n",
       " '',\n",
       " '',\n",
       " '',\n",
       " '',\n",
       " '',\n",
       " ' ',\n",
       " '',\n",
       " '',\n",
       " '',\n",
       " ' ',\n",
       " '',\n",
       " '',\n",
       " '',\n",
       " ' ',\n",
       " '',\n",
       " ' ',\n",
       " ' ',\n",
       " '',\n",
       " '',\n",
       " '',\n",
       " '',\n",
       " '',\n",
       " ' ',\n",
       " '',\n",
       " '',\n",
       " '',\n",
       " '? ',\n",
       " '',\n",
       " '',\n",
       " '',\n",
       " ' ',\n",
       " '',\n",
       " '',\n",
       " '',\n",
       " '',\n",
       " ' ',\n",
       " '',\n",
       " ' ',\n",
       " '',\n",
       " '',\n",
       " '',\n",
       " ' ',\n",
       " '',\n",
       " ' ',\n",
       " '',\n",
       " '',\n",
       " '',\n",
       " '',\n",
       " '',\n",
       " '',\n",
       " '',\n",
       " ' ',\n",
       " '',\n",
       " '',\n",
       " '',\n",
       " '',\n",
       " ' ',\n",
       " '',\n",
       " '',\n",
       " ', ',\n",
       " '',\n",
       " '',\n",
       " '',\n",
       " '',\n",
       " '',\n",
       " '',\n",
       " ' ',\n",
       " '',\n",
       " '',\n",
       " '',\n",
       " ' ',\n",
       " ' ',\n",
       " '',\n",
       " '',\n",
       " '',\n",
       " '',\n",
       " '',\n",
       " '',\n",
       " ' ',\n",
       " '',\n",
       " '',\n",
       " '',\n",
       " ', ',\n",
       " '',\n",
       " '',\n",
       " '',\n",
       " '',\n",
       " '',\n",
       " '',\n",
       " ' ',\n",
       " '',\n",
       " '',\n",
       " '',\n",
       " ' ',\n",
       " '',\n",
       " '',\n",
       " '',\n",
       " ' ',\n",
       " '',\n",
       " ' ',\n",
       " ' ',\n",
       " '',\n",
       " '',\n",
       " '',\n",
       " '',\n",
       " '',\n",
       " ' ',\n",
       " '',\n",
       " '',\n",
       " '',\n",
       " '',\n",
       " '? ',\n",
       " '',\n",
       " '',\n",
       " '',\n",
       " '',\n",
       " '',\n",
       " ' ',\n",
       " '',\n",
       " '',\n",
       " ' ',\n",
       " '',\n",
       " '',\n",
       " '',\n",
       " ' ',\n",
       " '',\n",
       " '',\n",
       " ' ',\n",
       " '',\n",
       " '',\n",
       " ' ',\n",
       " '',\n",
       " '',\n",
       " ' ',\n",
       " '',\n",
       " '',\n",
       " ' ',\n",
       " '',\n",
       " '',\n",
       " '',\n",
       " '. ',\n",
       " '',\n",
       " '',\n",
       " '',\n",
       " '',\n",
       " '',\n",
       " ' ',\n",
       " '',\n",
       " '',\n",
       " '',\n",
       " '',\n",
       " '',\n",
       " ' ',\n",
       " '',\n",
       " ' ',\n",
       " '',\n",
       " '',\n",
       " ' ',\n",
       " '',\n",
       " '',\n",
       " '',\n",
       " ' ',\n",
       " '',\n",
       " '',\n",
       " '',\n",
       " ' ',\n",
       " '',\n",
       " '',\n",
       " '',\n",
       " '',\n",
       " '',\n",
       " '. ',\n",
       " '',\n",
       " '',\n",
       " ' ',\n",
       " '',\n",
       " ' ',\n",
       " '',\n",
       " '',\n",
       " ' ',\n",
       " '',\n",
       " '',\n",
       " '',\n",
       " '',\n",
       " \"'\",\n",
       " ' ',\n",
       " '',\n",
       " '',\n",
       " '',\n",
       " '',\n",
       " '',\n",
       " '',\n",
       " ' ',\n",
       " '',\n",
       " '',\n",
       " '',\n",
       " '',\n",
       " ', ',\n",
       " '',\n",
       " '',\n",
       " '',\n",
       " '',\n",
       " '',\n",
       " ' ',\n",
       " '',\n",
       " '',\n",
       " ' ',\n",
       " '',\n",
       " ' ',\n",
       " '',\n",
       " ' ',\n",
       " ' ',\n",
       " '',\n",
       " '',\n",
       " '',\n",
       " ' ',\n",
       " '',\n",
       " '',\n",
       " ' ',\n",
       " '',\n",
       " '',\n",
       " '',\n",
       " '',\n",
       " '',\n",
       " ', ',\n",
       " '',\n",
       " '',\n",
       " '',\n",
       " '',\n",
       " '',\n",
       " '',\n",
       " ' ',\n",
       " '',\n",
       " '',\n",
       " '',\n",
       " '',\n",
       " '',\n",
       " '',\n",
       " '',\n",
       " ' ',\n",
       " '',\n",
       " ' ',\n",
       " '',\n",
       " ' ',\n",
       " '',\n",
       " '',\n",
       " '',\n",
       " ' ',\n",
       " '',\n",
       " '',\n",
       " ' ',\n",
       " '',\n",
       " '',\n",
       " '',\n",
       " '',\n",
       " '',\n",
       " '. ',\n",
       " '',\n",
       " '',\n",
       " '',\n",
       " '',\n",
       " '',\n",
       " '',\n",
       " '',\n",
       " '',\n",
       " ' ',\n",
       " '',\n",
       " '',\n",
       " '',\n",
       " '',\n",
       " '',\n",
       " '',\n",
       " '',\n",
       " ' ',\n",
       " '',\n",
       " ' ',\n",
       " '',\n",
       " '',\n",
       " ' ',\n",
       " '',\n",
       " '',\n",
       " '',\n",
       " ' ',\n",
       " '',\n",
       " '',\n",
       " '',\n",
       " ' ',\n",
       " '',\n",
       " ' ',\n",
       " '',\n",
       " ' ',\n",
       " '',\n",
       " '',\n",
       " '',\n",
       " '',\n",
       " '',\n",
       " ' ',\n",
       " '',\n",
       " ' ',\n",
       " '',\n",
       " ' ',\n",
       " '',\n",
       " '',\n",
       " '',\n",
       " '',\n",
       " ': ',\n",
       " '',\n",
       " '',\n",
       " '',\n",
       " ' ',\n",
       " ' ',\n",
       " '',\n",
       " '',\n",
       " ' ',\n",
       " '',\n",
       " ' ',\n",
       " '',\n",
       " '',\n",
       " ' ',\n",
       " '',\n",
       " '',\n",
       " '',\n",
       " '',\n",
       " ' ',\n",
       " '',\n",
       " '',\n",
       " '',\n",
       " '',\n",
       " ' ',\n",
       " '',\n",
       " '',\n",
       " '',\n",
       " '',\n",
       " '',\n",
       " '',\n",
       " ' ',\n",
       " '',\n",
       " '',\n",
       " '',\n",
       " ' ',\n",
       " '',\n",
       " '',\n",
       " '',\n",
       " ' ',\n",
       " '',\n",
       " '',\n",
       " '',\n",
       " '',\n",
       " '',\n",
       " ' ',\n",
       " '',\n",
       " '',\n",
       " '',\n",
       " '',\n",
       " '',\n",
       " ', ',\n",
       " '',\n",
       " '',\n",
       " '',\n",
       " ' ',\n",
       " ' ',\n",
       " '',\n",
       " '',\n",
       " ' ',\n",
       " '',\n",
       " ' ',\n",
       " '',\n",
       " ' ',\n",
       " '',\n",
       " '',\n",
       " '',\n",
       " ' ',\n",
       " '',\n",
       " '',\n",
       " '',\n",
       " '',\n",
       " ', ',\n",
       " '',\n",
       " '',\n",
       " '',\n",
       " ' ',\n",
       " ' ',\n",
       " '',\n",
       " '',\n",
       " ' ',\n",
       " '',\n",
       " ' ',\n",
       " '',\n",
       " '',\n",
       " ' ',\n",
       " '',\n",
       " '',\n",
       " '',\n",
       " ' ',\n",
       " '',\n",
       " '',\n",
       " ' ',\n",
       " '',\n",
       " '',\n",
       " '.']"
      ]
     },
     "execution_count": 52,
     "metadata": {},
     "output_type": "execute_result"
    }
   ],
   "source": [
    "re.split('\\w',bereft)"
   ]
  },
  {
   "cell_type": "code",
   "execution_count": 53,
   "metadata": {},
   "outputs": [
    {
     "data": {
      "text/plain": [
       "['',\n",
       " '',\n",
       " '',\n",
       " '',\n",
       " '',\n",
       " ' ',\n",
       " '',\n",
       " '',\n",
       " ' ',\n",
       " ' ',\n",
       " '',\n",
       " '',\n",
       " '',\n",
       " '',\n",
       " ' ',\n",
       " '',\n",
       " '',\n",
       " '',\n",
       " ' ',\n",
       " '',\n",
       " '',\n",
       " '',\n",
       " ' ',\n",
       " '',\n",
       " '',\n",
       " '',\n",
       " '',\n",
       " '',\n",
       " ' ',\n",
       " '',\n",
       " '',\n",
       " '',\n",
       " '',\n",
       " '',\n",
       " ' ',\n",
       " '',\n",
       " '',\n",
       " '',\n",
       " ' ',\n",
       " '',\n",
       " '',\n",
       " '',\n",
       " ' ',\n",
       " '',\n",
       " ' ',\n",
       " ' ',\n",
       " '',\n",
       " '',\n",
       " '',\n",
       " '',\n",
       " '',\n",
       " ' ',\n",
       " '',\n",
       " '',\n",
       " '',\n",
       " '',\n",
       " ' ',\n",
       " '',\n",
       " '',\n",
       " '',\n",
       " ' ',\n",
       " '',\n",
       " '',\n",
       " '',\n",
       " '',\n",
       " ' ',\n",
       " '',\n",
       " ' ',\n",
       " '',\n",
       " '',\n",
       " '',\n",
       " ' ',\n",
       " '',\n",
       " ' ',\n",
       " '',\n",
       " '',\n",
       " '',\n",
       " '',\n",
       " '',\n",
       " '',\n",
       " '',\n",
       " ' ',\n",
       " '',\n",
       " '',\n",
       " '',\n",
       " '',\n",
       " ' ',\n",
       " '',\n",
       " '',\n",
       " '',\n",
       " ' ',\n",
       " '',\n",
       " '',\n",
       " '',\n",
       " '',\n",
       " '',\n",
       " '',\n",
       " ' ',\n",
       " '',\n",
       " '',\n",
       " '',\n",
       " ' ',\n",
       " ' ',\n",
       " '',\n",
       " '',\n",
       " '',\n",
       " '',\n",
       " '',\n",
       " '',\n",
       " ' ',\n",
       " '',\n",
       " '',\n",
       " '',\n",
       " '',\n",
       " ' ',\n",
       " '',\n",
       " '',\n",
       " '',\n",
       " '',\n",
       " '',\n",
       " '',\n",
       " ' ',\n",
       " '',\n",
       " '',\n",
       " '',\n",
       " ' ',\n",
       " '',\n",
       " '',\n",
       " '',\n",
       " ' ',\n",
       " '',\n",
       " ' ',\n",
       " ' ',\n",
       " '',\n",
       " '',\n",
       " '',\n",
       " '',\n",
       " '',\n",
       " ' ',\n",
       " '',\n",
       " '',\n",
       " '',\n",
       " '',\n",
       " '',\n",
       " ' ',\n",
       " '',\n",
       " '',\n",
       " '',\n",
       " '',\n",
       " '',\n",
       " ' ',\n",
       " '',\n",
       " '',\n",
       " ' ',\n",
       " '',\n",
       " '',\n",
       " '',\n",
       " ' ',\n",
       " '',\n",
       " '',\n",
       " ' ',\n",
       " '',\n",
       " '',\n",
       " ' ',\n",
       " '',\n",
       " '',\n",
       " ' ',\n",
       " '',\n",
       " '',\n",
       " ' ',\n",
       " '',\n",
       " '',\n",
       " '',\n",
       " '',\n",
       " ' ',\n",
       " '',\n",
       " '',\n",
       " '',\n",
       " '',\n",
       " '',\n",
       " ' ',\n",
       " '',\n",
       " '',\n",
       " '',\n",
       " '',\n",
       " '',\n",
       " ' ',\n",
       " '',\n",
       " ' ',\n",
       " '',\n",
       " '',\n",
       " ' ',\n",
       " '',\n",
       " '',\n",
       " '',\n",
       " ' ',\n",
       " '',\n",
       " '',\n",
       " '',\n",
       " ' ',\n",
       " '',\n",
       " '',\n",
       " '',\n",
       " '',\n",
       " '',\n",
       " '',\n",
       " ' ',\n",
       " '',\n",
       " '',\n",
       " ' ',\n",
       " '',\n",
       " ' ',\n",
       " '',\n",
       " '',\n",
       " ' ',\n",
       " '',\n",
       " '',\n",
       " '',\n",
       " '',\n",
       " '',\n",
       " '',\n",
       " ' ',\n",
       " '',\n",
       " '',\n",
       " '',\n",
       " '',\n",
       " '',\n",
       " '',\n",
       " ' ',\n",
       " '',\n",
       " '',\n",
       " '',\n",
       " '',\n",
       " '',\n",
       " ' ',\n",
       " '',\n",
       " '',\n",
       " '',\n",
       " '',\n",
       " '',\n",
       " ' ',\n",
       " '',\n",
       " '',\n",
       " ' ',\n",
       " '',\n",
       " ' ',\n",
       " '',\n",
       " ' ',\n",
       " ' ',\n",
       " '',\n",
       " '',\n",
       " '',\n",
       " ' ',\n",
       " '',\n",
       " '',\n",
       " ' ',\n",
       " '',\n",
       " '',\n",
       " '',\n",
       " '',\n",
       " '',\n",
       " '',\n",
       " ' ',\n",
       " '',\n",
       " '',\n",
       " '',\n",
       " '',\n",
       " '',\n",
       " '',\n",
       " ' ',\n",
       " '',\n",
       " '',\n",
       " '',\n",
       " '',\n",
       " '',\n",
       " '',\n",
       " '',\n",
       " ' ',\n",
       " '',\n",
       " ' ',\n",
       " '',\n",
       " ' ',\n",
       " '',\n",
       " '',\n",
       " '',\n",
       " ' ',\n",
       " '',\n",
       " '',\n",
       " ' ',\n",
       " '',\n",
       " '',\n",
       " '',\n",
       " '',\n",
       " '',\n",
       " '',\n",
       " ' ',\n",
       " '',\n",
       " '',\n",
       " '',\n",
       " '',\n",
       " '',\n",
       " '',\n",
       " '',\n",
       " '',\n",
       " ' ',\n",
       " '',\n",
       " '',\n",
       " '',\n",
       " '',\n",
       " '',\n",
       " '',\n",
       " '',\n",
       " ' ',\n",
       " '',\n",
       " ' ',\n",
       " '',\n",
       " '',\n",
       " ' ',\n",
       " '',\n",
       " '',\n",
       " '',\n",
       " ' ',\n",
       " '',\n",
       " '',\n",
       " '',\n",
       " ' ',\n",
       " '',\n",
       " ' ',\n",
       " '',\n",
       " ' ',\n",
       " '',\n",
       " '',\n",
       " '',\n",
       " '',\n",
       " '',\n",
       " ' ',\n",
       " '',\n",
       " ' ',\n",
       " '',\n",
       " ' ',\n",
       " '',\n",
       " '',\n",
       " '',\n",
       " '',\n",
       " '',\n",
       " ' ',\n",
       " '',\n",
       " '',\n",
       " '',\n",
       " ' ',\n",
       " ' ',\n",
       " '',\n",
       " '',\n",
       " ' ',\n",
       " '',\n",
       " ' ',\n",
       " '',\n",
       " '',\n",
       " ' ',\n",
       " '',\n",
       " '',\n",
       " '',\n",
       " '',\n",
       " ' ',\n",
       " '',\n",
       " '',\n",
       " '',\n",
       " '',\n",
       " ' ',\n",
       " '',\n",
       " '',\n",
       " '',\n",
       " '',\n",
       " '',\n",
       " '',\n",
       " ' ',\n",
       " '',\n",
       " '',\n",
       " '',\n",
       " ' ',\n",
       " '',\n",
       " '',\n",
       " '',\n",
       " ' ',\n",
       " '',\n",
       " '',\n",
       " '',\n",
       " '',\n",
       " '',\n",
       " ' ',\n",
       " '',\n",
       " '',\n",
       " '',\n",
       " '',\n",
       " '',\n",
       " '',\n",
       " ' ',\n",
       " '',\n",
       " '',\n",
       " '',\n",
       " ' ',\n",
       " ' ',\n",
       " '',\n",
       " '',\n",
       " ' ',\n",
       " '',\n",
       " ' ',\n",
       " '',\n",
       " ' ',\n",
       " '',\n",
       " '',\n",
       " '',\n",
       " ' ',\n",
       " '',\n",
       " '',\n",
       " '',\n",
       " '',\n",
       " '',\n",
       " ' ',\n",
       " '',\n",
       " '',\n",
       " '',\n",
       " ' ',\n",
       " ' ',\n",
       " '',\n",
       " '',\n",
       " ' ',\n",
       " '',\n",
       " ' ',\n",
       " '',\n",
       " '',\n",
       " ' ',\n",
       " '',\n",
       " '',\n",
       " '',\n",
       " ' ',\n",
       " '',\n",
       " '',\n",
       " ' ',\n",
       " '',\n",
       " '',\n",
       " '',\n",
       " '']"
      ]
     },
     "execution_count": 53,
     "metadata": {},
     "output_type": "execute_result"
    }
   ],
   "source": [
    "re.split('\\S',bereft)"
   ]
  },
  {
   "cell_type": "code",
   "execution_count": 54,
   "metadata": {},
   "outputs": [
    {
     "data": {
      "text/plain": [
       "['Where',\n",
       " 'had',\n",
       " 'I',\n",
       " 'heard',\n",
       " 'this',\n",
       " 'wind',\n",
       " 'before',\n",
       " 'Change',\n",
       " 'like',\n",
       " 'this',\n",
       " 'to',\n",
       " 'a',\n",
       " 'deeper',\n",
       " 'roar?',\n",
       " 'What',\n",
       " 'would',\n",
       " 'it',\n",
       " 'take',\n",
       " 'my',\n",
       " 'standing',\n",
       " 'there',\n",
       " 'for,',\n",
       " 'Holding',\n",
       " 'open',\n",
       " 'a',\n",
       " 'restive',\n",
       " 'door,',\n",
       " 'Looking',\n",
       " 'down',\n",
       " 'hill',\n",
       " 'to',\n",
       " 'a',\n",
       " 'frothy',\n",
       " 'shore?',\n",
       " 'Summer',\n",
       " 'was',\n",
       " 'past',\n",
       " 'and',\n",
       " 'the',\n",
       " 'day',\n",
       " 'was',\n",
       " 'past.',\n",
       " 'Sombre',\n",
       " 'clouds',\n",
       " 'in',\n",
       " 'the',\n",
       " 'west',\n",
       " 'were',\n",
       " 'massed.',\n",
       " 'Out',\n",
       " 'on',\n",
       " 'the',\n",
       " \"porch's\",\n",
       " 'sagging',\n",
       " 'floor,',\n",
       " 'Leaves',\n",
       " 'got',\n",
       " 'up',\n",
       " 'in',\n",
       " 'a',\n",
       " 'coil',\n",
       " 'and',\n",
       " 'hissed,',\n",
       " 'Blindly',\n",
       " 'striking',\n",
       " 'at',\n",
       " 'my',\n",
       " 'knee',\n",
       " 'and',\n",
       " 'missed.',\n",
       " 'Something',\n",
       " 'sinister',\n",
       " 'in',\n",
       " 'the',\n",
       " 'tone',\n",
       " 'Told',\n",
       " 'me',\n",
       " 'my',\n",
       " 'secret',\n",
       " 'my',\n",
       " 'be',\n",
       " 'known:',\n",
       " 'Word',\n",
       " 'I',\n",
       " 'was',\n",
       " 'in',\n",
       " 'the',\n",
       " 'house',\n",
       " 'alone',\n",
       " 'Somehow',\n",
       " 'must',\n",
       " 'have',\n",
       " 'gotten',\n",
       " 'abroad,',\n",
       " 'Word',\n",
       " 'I',\n",
       " 'was',\n",
       " 'in',\n",
       " 'my',\n",
       " 'life',\n",
       " 'alone,',\n",
       " 'Word',\n",
       " 'I',\n",
       " 'had',\n",
       " 'no',\n",
       " 'one',\n",
       " 'left',\n",
       " 'but',\n",
       " 'God.']"
      ]
     },
     "execution_count": 54,
     "metadata": {},
     "output_type": "execute_result"
    }
   ],
   "source": [
    "re.split('\\s',bereft)"
   ]
  },
  {
   "cell_type": "markdown",
   "metadata": {},
   "source": [
    "We are going to load some data for use later on:"
   ]
  },
  {
   "cell_type": "code",
   "execution_count": 55,
   "metadata": {},
   "outputs": [],
   "source": [
    "# link='https://raw.githubusercontent.com/vineetdhanawat/twitter-sentiment-analysis/master/datasets/Sentiment%20Analysis%20Dataset.csv'\n",
    "# sentiment_df = pd.read_csv(link,encoding=\"ISO-8859-1\")"
   ]
  },
  {
   "cell_type": "markdown",
   "metadata": {},
   "source": [
    "## NOTE: Install the nltk and gensim libraries now.  Windows users may need to implement some work-arounds to get spaCy to work properly."
   ]
  },
  {
   "cell_type": "code",
   "execution_count": 56,
   "metadata": {},
   "outputs": [
    {
     "name": "stdout",
     "output_type": "stream",
     "text": [
      "Collecting package metadata (current_repodata.json): done\n",
      "Solving environment: done\n",
      "\n",
      "# All requested packages already installed.\n",
      "\n"
     ]
    }
   ],
   "source": [
    "!conda install -y nltk gensim"
   ]
  },
  {
   "cell_type": "markdown",
   "metadata": {},
   "source": [
    "## While that's running, how about a few rounds of regex golf?\n",
    "\n",
    "### <font color=\"magenta\">Q3: See how well you can do in your groups (divide up into 9 groups): https://alf.nu/RegexGolf</a></font>\n",
    "Record your final score below\n",
    "\n"
   ]
  },
  {
   "cell_type": "markdown",
   "metadata": {},
   "source": [
    "## Natural Language Processing\n",
    "\n",
    "* often implemented as a pipeline with one or more of the following steps:\n",
    " * normalization\n",
    " * tokenization\n",
    " * stemming\n",
    " * lemmatization\n",
    " * part-of-speech tagging\n",
    " * named entity recognition"
   ]
  },
  {
   "cell_type": "markdown",
   "metadata": {},
   "source": [
    "# nltk\n",
    "The Natural Language ToolKit (nltk) is the most common NLP package for python.\n",
    "\n",
    "https://www.nltk.org/"
   ]
  },
  {
   "cell_type": "code",
   "execution_count": 57,
   "metadata": {},
   "outputs": [],
   "source": [
    "import nltk"
   ]
  },
  {
   "cell_type": "code",
   "execution_count": 58,
   "metadata": {},
   "outputs": [
    {
     "name": "stderr",
     "output_type": "stream",
     "text": [
      "[nltk_data] Downloading collection 'book'\n",
      "[nltk_data]    | \n",
      "[nltk_data]    | Downloading package abc to /Users/aaa/nltk_data...\n",
      "[nltk_data]    |   Package abc is already up-to-date!\n",
      "[nltk_data]    | Downloading package brown to /Users/aaa/nltk_data...\n",
      "[nltk_data]    |   Package brown is already up-to-date!\n",
      "[nltk_data]    | Downloading package chat80 to /Users/aaa/nltk_data...\n",
      "[nltk_data]    |   Package chat80 is already up-to-date!\n",
      "[nltk_data]    | Downloading package cmudict to\n",
      "[nltk_data]    |     /Users/aaa/nltk_data...\n",
      "[nltk_data]    |   Package cmudict is already up-to-date!\n",
      "[nltk_data]    | Downloading package conll2000 to\n",
      "[nltk_data]    |     /Users/aaa/nltk_data...\n",
      "[nltk_data]    |   Package conll2000 is already up-to-date!\n",
      "[nltk_data]    | Downloading package conll2002 to\n",
      "[nltk_data]    |     /Users/aaa/nltk_data...\n",
      "[nltk_data]    |   Package conll2002 is already up-to-date!\n",
      "[nltk_data]    | Downloading package dependency_treebank to\n",
      "[nltk_data]    |     /Users/aaa/nltk_data...\n",
      "[nltk_data]    |   Package dependency_treebank is already up-to-date!\n",
      "[nltk_data]    | Downloading package genesis to\n",
      "[nltk_data]    |     /Users/aaa/nltk_data...\n",
      "[nltk_data]    |   Package genesis is already up-to-date!\n",
      "[nltk_data]    | Downloading package gutenberg to\n",
      "[nltk_data]    |     /Users/aaa/nltk_data...\n",
      "[nltk_data]    |   Package gutenberg is already up-to-date!\n",
      "[nltk_data]    | Downloading package ieer to /Users/aaa/nltk_data...\n",
      "[nltk_data]    |   Package ieer is already up-to-date!\n",
      "[nltk_data]    | Downloading package inaugural to\n",
      "[nltk_data]    |     /Users/aaa/nltk_data...\n",
      "[nltk_data]    |   Package inaugural is already up-to-date!\n",
      "[nltk_data]    | Downloading package movie_reviews to\n",
      "[nltk_data]    |     /Users/aaa/nltk_data...\n",
      "[nltk_data]    |   Package movie_reviews is already up-to-date!\n",
      "[nltk_data]    | Downloading package nps_chat to\n",
      "[nltk_data]    |     /Users/aaa/nltk_data...\n",
      "[nltk_data]    |   Package nps_chat is already up-to-date!\n",
      "[nltk_data]    | Downloading package names to /Users/aaa/nltk_data...\n",
      "[nltk_data]    |   Package names is already up-to-date!\n",
      "[nltk_data]    | Downloading package ppattach to\n",
      "[nltk_data]    |     /Users/aaa/nltk_data...\n",
      "[nltk_data]    |   Package ppattach is already up-to-date!\n",
      "[nltk_data]    | Downloading package reuters to\n",
      "[nltk_data]    |     /Users/aaa/nltk_data...\n",
      "[nltk_data]    |   Package reuters is already up-to-date!\n",
      "[nltk_data]    | Downloading package senseval to\n",
      "[nltk_data]    |     /Users/aaa/nltk_data...\n",
      "[nltk_data]    |   Package senseval is already up-to-date!\n",
      "[nltk_data]    | Downloading package state_union to\n",
      "[nltk_data]    |     /Users/aaa/nltk_data...\n",
      "[nltk_data]    |   Package state_union is already up-to-date!\n",
      "[nltk_data]    | Downloading package stopwords to\n",
      "[nltk_data]    |     /Users/aaa/nltk_data...\n",
      "[nltk_data]    |   Package stopwords is already up-to-date!\n",
      "[nltk_data]    | Downloading package swadesh to\n",
      "[nltk_data]    |     /Users/aaa/nltk_data...\n",
      "[nltk_data]    |   Package swadesh is already up-to-date!\n",
      "[nltk_data]    | Downloading package timit to /Users/aaa/nltk_data...\n",
      "[nltk_data]    |   Package timit is already up-to-date!\n",
      "[nltk_data]    | Downloading package treebank to\n",
      "[nltk_data]    |     /Users/aaa/nltk_data...\n",
      "[nltk_data]    |   Package treebank is already up-to-date!\n",
      "[nltk_data]    | Downloading package toolbox to\n",
      "[nltk_data]    |     /Users/aaa/nltk_data...\n",
      "[nltk_data]    |   Package toolbox is already up-to-date!\n",
      "[nltk_data]    | Downloading package udhr to /Users/aaa/nltk_data...\n",
      "[nltk_data]    |   Package udhr is already up-to-date!\n",
      "[nltk_data]    | Downloading package udhr2 to /Users/aaa/nltk_data...\n",
      "[nltk_data]    |   Package udhr2 is already up-to-date!\n",
      "[nltk_data]    | Downloading package unicode_samples to\n",
      "[nltk_data]    |     /Users/aaa/nltk_data...\n",
      "[nltk_data]    |   Package unicode_samples is already up-to-date!\n",
      "[nltk_data]    | Downloading package webtext to\n",
      "[nltk_data]    |     /Users/aaa/nltk_data...\n",
      "[nltk_data]    |   Package webtext is already up-to-date!\n",
      "[nltk_data]    | Downloading package wordnet to\n",
      "[nltk_data]    |     /Users/aaa/nltk_data...\n",
      "[nltk_data]    |   Package wordnet is already up-to-date!\n",
      "[nltk_data]    | Downloading package wordnet_ic to\n",
      "[nltk_data]    |     /Users/aaa/nltk_data...\n",
      "[nltk_data]    |   Package wordnet_ic is already up-to-date!\n",
      "[nltk_data]    | Downloading package words to /Users/aaa/nltk_data...\n",
      "[nltk_data]    |   Package words is already up-to-date!\n",
      "[nltk_data]    | Downloading package maxent_treebank_pos_tagger to\n",
      "[nltk_data]    |     /Users/aaa/nltk_data...\n",
      "[nltk_data]    |   Package maxent_treebank_pos_tagger is already up-\n",
      "[nltk_data]    |       to-date!\n",
      "[nltk_data]    | Downloading package maxent_ne_chunker to\n",
      "[nltk_data]    |     /Users/aaa/nltk_data...\n",
      "[nltk_data]    |   Package maxent_ne_chunker is already up-to-date!\n",
      "[nltk_data]    | Downloading package universal_tagset to\n",
      "[nltk_data]    |     /Users/aaa/nltk_data...\n",
      "[nltk_data]    |   Package universal_tagset is already up-to-date!\n",
      "[nltk_data]    | Downloading package punkt to /Users/aaa/nltk_data...\n",
      "[nltk_data]    |   Package punkt is already up-to-date!\n",
      "[nltk_data]    | Downloading package book_grammars to\n",
      "[nltk_data]    |     /Users/aaa/nltk_data...\n",
      "[nltk_data]    |   Package book_grammars is already up-to-date!\n",
      "[nltk_data]    | Downloading package city_database to\n",
      "[nltk_data]    |     /Users/aaa/nltk_data...\n",
      "[nltk_data]    |   Package city_database is already up-to-date!\n",
      "[nltk_data]    | Downloading package tagsets to\n",
      "[nltk_data]    |     /Users/aaa/nltk_data...\n",
      "[nltk_data]    |   Package tagsets is already up-to-date!\n",
      "[nltk_data]    | Downloading package panlex_swadesh to\n",
      "[nltk_data]    |     /Users/aaa/nltk_data...\n",
      "[nltk_data]    |   Package panlex_swadesh is already up-to-date!\n",
      "[nltk_data]    | Downloading package averaged_perceptron_tagger to\n",
      "[nltk_data]    |     /Users/aaa/nltk_data...\n",
      "[nltk_data]    |   Package averaged_perceptron_tagger is already up-\n",
      "[nltk_data]    |       to-date!\n",
      "[nltk_data]    | \n",
      "[nltk_data]  Done downloading collection book\n"
     ]
    },
    {
     "data": {
      "text/plain": [
       "True"
      ]
     },
     "execution_count": 58,
     "metadata": {},
     "output_type": "execute_result"
    }
   ],
   "source": [
    "# You should only ever need to do this once\n",
    "nltk.download(\"book\")"
   ]
  },
  {
   "cell_type": "code",
   "execution_count": 59,
   "metadata": {},
   "outputs": [],
   "source": [
    "sentence = \"\"\"This is a very simple sentence, which is used for teaching natural language processing, that Chris didn't write on Saturday.\"\"\""
   ]
  },
  {
   "cell_type": "markdown",
   "metadata": {},
   "source": [
    "### Tokenization"
   ]
  },
  {
   "cell_type": "code",
   "execution_count": 60,
   "metadata": {},
   "outputs": [],
   "source": [
    "tokens = nltk.word_tokenize(sentence)"
   ]
  },
  {
   "cell_type": "code",
   "execution_count": 61,
   "metadata": {
    "scrolled": true
   },
   "outputs": [
    {
     "data": {
      "text/plain": [
       "['This',\n",
       " 'is',\n",
       " 'a',\n",
       " 'very',\n",
       " 'simple',\n",
       " 'sentence',\n",
       " ',',\n",
       " 'which',\n",
       " 'is',\n",
       " 'used',\n",
       " 'for',\n",
       " 'teaching',\n",
       " 'natural',\n",
       " 'language',\n",
       " 'processing',\n",
       " ',',\n",
       " 'that',\n",
       " 'Chris',\n",
       " 'did',\n",
       " \"n't\",\n",
       " 'write',\n",
       " 'on',\n",
       " 'Saturday',\n",
       " '.']"
      ]
     },
     "execution_count": 61,
     "metadata": {},
     "output_type": "execute_result"
    }
   ],
   "source": [
    "tokens"
   ]
  },
  {
   "cell_type": "markdown",
   "metadata": {},
   "source": [
    "### Removing stopwords\n",
    "\n",
    "Words that has small contribution to the meaning of phrases but appear frequently. It is advised to remove them in most tasks."
   ]
  },
  {
   "cell_type": "code",
   "execution_count": 62,
   "metadata": {
    "scrolled": true
   },
   "outputs": [
    {
     "name": "stdout",
     "output_type": "stream",
     "text": [
      "['i', 'me', 'my', 'myself', 'we', 'our', 'ours', 'ourselves', 'you', \"you're\", \"you've\", \"you'll\", \"you'd\", 'your', 'yours', 'yourself', 'yourselves', 'he', 'him', 'his', 'himself', 'she', \"she's\", 'her', 'hers', 'herself', 'it', \"it's\", 'its', 'itself', 'they', 'them', 'their', 'theirs', 'themselves', 'what', 'which', 'who', 'whom', 'this', 'that', \"that'll\", 'these', 'those', 'am', 'is', 'are', 'was', 'were', 'be', 'been', 'being', 'have', 'has', 'had', 'having', 'do', 'does', 'did', 'doing', 'a', 'an', 'the', 'and', 'but', 'if', 'or', 'because', 'as', 'until', 'while', 'of', 'at', 'by', 'for', 'with', 'about', 'against', 'between', 'into', 'through', 'during', 'before', 'after', 'above', 'below', 'to', 'from', 'up', 'down', 'in', 'out', 'on', 'off', 'over', 'under', 'again', 'further', 'then', 'once', 'here', 'there', 'when', 'where', 'why', 'how', 'all', 'any', 'both', 'each', 'few', 'more', 'most', 'other', 'some', 'such', 'no', 'nor', 'not', 'only', 'own', 'same', 'so', 'than', 'too', 'very', 's', 't', 'can', 'will', 'just', 'don', \"don't\", 'should', \"should've\", 'now', 'd', 'll', 'm', 'o', 're', 've', 'y', 'ain', 'aren', \"aren't\", 'couldn', \"couldn't\", 'didn', \"didn't\", 'doesn', \"doesn't\", 'hadn', \"hadn't\", 'hasn', \"hasn't\", 'haven', \"haven't\", 'isn', \"isn't\", 'ma', 'mightn', \"mightn't\", 'mustn', \"mustn't\", 'needn', \"needn't\", 'shan', \"shan't\", 'shouldn', \"shouldn't\", 'wasn', \"wasn't\", 'weren', \"weren't\", 'won', \"won't\", 'wouldn', \"wouldn't\"]\n"
     ]
    }
   ],
   "source": [
    "# load list of stopwords from nltk\n",
    "from nltk.corpus import stopwords\n",
    "print(stopwords.words('english'))"
   ]
  },
  {
   "cell_type": "code",
   "execution_count": 63,
   "metadata": {},
   "outputs": [
    {
     "name": "stdout",
     "output_type": "stream",
     "text": [
      "Stopwords removed:  simple sentence , used teaching natural language processing , Chris n't write Saturday .\n"
     ]
    }
   ],
   "source": [
    "S = set(stopwords.words('english'))\n",
    "tokens_stop_removed = []\n",
    "for token in tokens:\n",
    "    if not token.lower() in S:\n",
    "        tokens_stop_removed.append(token)\n",
    "sent_stop_removed = ' '.join(tokens_stop_removed)\n",
    "print(\"Stopwords removed: \",sent_stop_removed)"
   ]
  },
  {
   "cell_type": "code",
   "execution_count": 64,
   "metadata": {},
   "outputs": [
    {
     "data": {
      "text/plain": [
       "[(',', 2),\n",
       " ('simple', 1),\n",
       " ('sentence', 1),\n",
       " ('used', 1),\n",
       " ('teaching', 1),\n",
       " ('natural', 1),\n",
       " ('language', 1),\n",
       " ('processing', 1),\n",
       " ('Chris', 1),\n",
       " (\"n't\", 1)]"
      ]
     },
     "execution_count": 64,
     "metadata": {},
     "output_type": "execute_result"
    }
   ],
   "source": [
    "from collections import Counter\n",
    "Counter(tokens_stop_removed).most_common(10)"
   ]
  },
  {
   "cell_type": "markdown",
   "metadata": {},
   "source": [
    "## Part-of-speech tagging\n",
    "\n",
    "Sometimes it's useful to know what part of speech (e.g. noun, verb, adjective, adverb, etc.) a word is.  nltk supports part-of-speech tagging.  Here's a list of what the POS codes mean (from https://www.guru99.com/pos-tagging-chunking-nltk.html)\n",
    "\n",
    "```\n",
    "\n",
    "Abbreviation\tMeaning\n",
    "CC\tcoordinating conjunction\n",
    "CD\tcardinal digit\n",
    "DT\tdeterminer\n",
    "EX\texistential there\n",
    "FW\tforeign word\n",
    "IN\tpreposition/subordinating conjunction\n",
    "JJ\tadjective (large)\n",
    "JJR\tadjective, comparative (larger)\n",
    "JJS\tadjective, superlative (largest)\n",
    "LS\tlist market\n",
    "MD\tmodal (could, will)\n",
    "NN\tnoun, singular (cat, tree)\n",
    "NNS\tnoun plural (desks)\n",
    "NNP\tproper noun, singular (sarah)\n",
    "NNPS\tproper noun, plural (indians or americans)\n",
    "PDT\tpredeterminer (all, both, half)\n",
    "POS\tpossessive ending (parent\\ 's)\n",
    "PRP\tpersonal pronoun (hers, herself, him,himself)\n",
    "PRP$\tpossessive pronoun (her, his, mine, my, our )\n",
    "RB\tadverb (occasionally, swiftly)\n",
    "RBR\tadverb, comparative (greater)\n",
    "RBS\tadverb, superlative (biggest)\n",
    "RP\tparticle (about)\n",
    "TO\tinfinite marker (to)\n",
    "UH\tinterjection (goodbye)\n",
    "VB\tverb (ask)\n",
    "VBG\tverb gerund (judging)\n",
    "VBD\tverb past tense (pleaded)\n",
    "VBN\tverb past participle (reunified)\n",
    "VBP\tverb, present tense not 3rd person singular(wrap)\n",
    "VBZ\tverb, present tense with 3rd person singular (bases)\n",
    "WDT\twh-determiner (that, what)\n",
    "WP\twh- pronoun (who)\n",
    "WRB\twh- adverb (how)\n",
    "```"
   ]
  },
  {
   "cell_type": "code",
   "execution_count": 65,
   "metadata": {},
   "outputs": [],
   "source": [
    "tagged = nltk.pos_tag(tokens)"
   ]
  },
  {
   "cell_type": "code",
   "execution_count": 66,
   "metadata": {},
   "outputs": [
    {
     "data": {
      "text/plain": [
       "[('This', 'DT'),\n",
       " ('is', 'VBZ'),\n",
       " ('a', 'DT'),\n",
       " ('very', 'RB'),\n",
       " ('simple', 'JJ'),\n",
       " ('sentence', 'NN'),\n",
       " (',', ','),\n",
       " ('which', 'WDT'),\n",
       " ('is', 'VBZ'),\n",
       " ('used', 'VBN'),\n",
       " ('for', 'IN'),\n",
       " ('teaching', 'VBG'),\n",
       " ('natural', 'JJ'),\n",
       " ('language', 'NN'),\n",
       " ('processing', 'NN'),\n",
       " (',', ','),\n",
       " ('that', 'IN'),\n",
       " ('Chris', 'NNP'),\n",
       " ('did', 'VBD'),\n",
       " (\"n't\", 'RB'),\n",
       " ('write', 'VB'),\n",
       " ('on', 'IN'),\n",
       " ('Saturday', 'NNP'),\n",
       " ('.', '.')]"
      ]
     },
     "execution_count": 66,
     "metadata": {},
     "output_type": "execute_result"
    }
   ],
   "source": [
    "tagged\n"
   ]
  },
  {
   "cell_type": "markdown",
   "metadata": {},
   "source": [
    "## Stemming\n",
    "\n",
    "Remove suffix of word to generate a \"base\" word."
   ]
  },
  {
   "cell_type": "code",
   "execution_count": 67,
   "metadata": {},
   "outputs": [
    {
     "name": "stdout",
     "output_type": "stream",
     "text": [
      "wait\n",
      "wait\n",
      "wait\n",
      "wait\n"
     ]
    }
   ],
   "source": [
    "from nltk.stem import PorterStemmer\n",
    "e_words= [\"wait\", \"waiting\", \"waited\", \"waits\"]\n",
    "ps =PorterStemmer()\n",
    "for w in e_words:\n",
    "    rootWord=ps.stem(w)\n",
    "    print(rootWord)"
   ]
  },
  {
   "cell_type": "code",
   "execution_count": 68,
   "metadata": {},
   "outputs": [
    {
     "name": "stdout",
     "output_type": "stream",
     "text": [
      "run\n",
      "run\n",
      "ran\n",
      "run\n"
     ]
    }
   ],
   "source": [
    "from nltk.stem import PorterStemmer\n",
    "e_words= [\"run\", \"running\", \"ran\", \"runs\"]\n",
    "ps =PorterStemmer()\n",
    "for w in e_words:\n",
    "    rootWord=ps.stem(w)\n",
    "    print(rootWord)"
   ]
  },
  {
   "cell_type": "markdown",
   "metadata": {},
   "source": [
    "## Lemmatization\n",
    "\n",
    "Lemmatization is the process of obtaining the root or base form of a word.  It is a dictionary-based technique that does better with the more \"hints\" you give it:"
   ]
  },
  {
   "cell_type": "code",
   "execution_count": 69,
   "metadata": {
    "scrolled": true
   },
   "outputs": [
    {
     "name": "stdout",
     "output_type": "stream",
     "text": [
      "Lemma for studies is study\n",
      "Lemma for studying is studying\n",
      "Lemma for cries is cry\n",
      "Lemma for cry is cry\n"
     ]
    }
   ],
   "source": [
    "import nltk\n",
    "from nltk.stem import \tWordNetLemmatizer\n",
    "wordnet_lemmatizer = WordNetLemmatizer()\n",
    "text = \"studies studying cries cry\"\n",
    "tokenization = nltk.word_tokenize(text)\n",
    "for w in tokenization:\n",
    "    print(\"Lemma for {} is {}\".format(w, wordnet_lemmatizer.lemmatize(w))) "
   ]
  },
  {
   "cell_type": "code",
   "execution_count": 1,
   "metadata": {},
   "outputs": [
    {
     "name": "stdout",
     "output_type": "stream",
     "text": [
      "This (DT) => This\n",
      "is (VBZ) => be\n",
      "one (CD) => one\n",
      "of (IN) => of\n",
      "a (DT) => a\n",
      "series (NN) => series\n",
      "of (IN) => of\n",
      "notebooks (NNS) => notebook\n",
      "that (WDT) => that\n",
      "is (VBZ) => be\n",
      "designed (VBN) => design\n",
      "to (TO) => to\n",
      "help (VB) => help\n",
      "you (PRP) => you\n",
      "learn (VB) => learn\n",
      "about (IN) => about\n",
      "natural (JJ) => natural\n",
      "language (NN) => language\n",
      "processing (NN) => processing\n",
      ". (.) => .\n"
     ]
    }
   ],
   "source": [
    "from nltk.corpus import wordnet as wn\n",
    "from nltk.stem.wordnet import WordNetLemmatizer\n",
    "from nltk import word_tokenize, pos_tag\n",
    "from collections import defaultdict\n",
    "tag_map = defaultdict(lambda : wn.NOUN)\n",
    "tag_map['J'] = wn.ADJ\n",
    "tag_map['V'] = wn.VERB\n",
    "tag_map['R'] = wn.ADV\n",
    "\n",
    "text = \"This is one of a series of notebooks that is designed to help you learn about natural language processing.\"\n",
    "tokens = word_tokenize(text)\n",
    "lemma_function = WordNetLemmatizer()\n",
    "for token, tag in pos_tag(tokens):\n",
    "    lemma = lemma_function.lemmatize(token, tag_map[tag[0]])\n",
    "    print(\"{} ({}) => {}\".format( token, tag, lemma))"
   ]
  },
  {
   "cell_type": "markdown",
   "metadata": {},
   "source": [
    "## Named Entity Recognition"
   ]
  },
  {
   "cell_type": "code",
   "execution_count": 71,
   "metadata": {},
   "outputs": [],
   "source": [
    "entities = nltk.chunk.ne_chunk(tagged)"
   ]
  },
  {
   "cell_type": "code",
   "execution_count": 72,
   "metadata": {
    "scrolled": true
   },
   "outputs": [
    {
     "name": "stdout",
     "output_type": "stream",
     "text": [
      "(S\n",
      "  This/DT\n",
      "  is/VBZ\n",
      "  a/DT\n",
      "  very/RB\n",
      "  simple/JJ\n",
      "  sentence/NN\n",
      "  ,/,\n",
      "  which/WDT\n",
      "  is/VBZ\n",
      "  used/VBN\n",
      "  for/IN\n",
      "  teaching/VBG\n",
      "  natural/JJ\n",
      "  language/NN\n",
      "  processing/NN\n",
      "  ,/,\n",
      "  that/IN\n",
      "  (PERSON Chris/NNP)\n",
      "  did/VBD\n",
      "  n't/RB\n",
      "  write/VB\n",
      "  on/IN\n",
      "  Saturday/NNP\n",
      "  ./.)\n"
     ]
    }
   ],
   "source": [
    "print(entities)"
   ]
  },
  {
   "cell_type": "code",
   "execution_count": 73,
   "metadata": {},
   "outputs": [
    {
     "name": "stdout",
     "output_type": "stream",
     "text": [
      "                                                                                            S                                                                                                                \n",
      "    ________________________________________________________________________________________|___________________________________________________________________________________________________________      \n",
      "   |      |     |      |        |          |       |      |       |       |       |         |           |           |            |        |     |       |      |       |       |        |        |    PERSON \n",
      "   |      |     |      |        |          |       |      |       |       |       |         |           |           |            |        |     |       |      |       |       |        |        |      |     \n",
      "This/DT is/VBZ a/DT very/RB simple/JJ sentence/NN ,/, which/WDT is/VBZ used/VBN for/IN teaching/VBG natural/JJ language/NN processing/NN ,/, that/IN did/VBD n't/RB write/VB on/IN Saturday/NNP ./. Chris/NNP\n",
      "\n"
     ]
    }
   ],
   "source": [
    "entities.pretty_print()\n"
   ]
  },
  {
   "cell_type": "code",
   "execution_count": 74,
   "metadata": {},
   "outputs": [
    {
     "data": {
      "text/plain": [
       "nltk.tree.Tree"
      ]
     },
     "execution_count": 74,
     "metadata": {},
     "output_type": "execute_result"
    }
   ],
   "source": [
    "type(entities)"
   ]
  },
  {
   "cell_type": "code",
   "execution_count": null,
   "metadata": {},
   "outputs": [],
   "source": []
  },
  {
   "cell_type": "code",
   "execution_count": 75,
   "metadata": {},
   "outputs": [],
   "source": [
    "# df.shape"
   ]
  },
  {
   "cell_type": "markdown",
   "metadata": {},
   "source": [
    "### <font color=\"magenta\">Q4: Show the top 10 most common words, excluding stopwords, from the following text (from Robert Frost's \"The Road Not Taken\").  Store the word tokens in a list called ```words```."
   ]
  },
  {
   "cell_type": "code",
   "execution_count": 76,
   "metadata": {},
   "outputs": [],
   "source": [
    "two_roads = \"\"\"Two roads diverged in a yellow wood,\n",
    "And sorry I could not travel both\n",
    "And be one traveller, long I stood\n",
    "And looked down one as far as I could\n",
    "To where it bent in the undergrowth;\n",
    "\n",
    "Then took the other, as just as fair,\n",
    "And having perhaps the better claim,\n",
    "Because it was grassy and wanted wear;\n",
    "Though as for that the passing there\n",
    "Had worn them really about the same,\n",
    "\n",
    "And both that morning equally lay\n",
    "In leaves no step had trodden black.\n",
    "Oh, I kept the first for another day!\n",
    "Yet knowing how way leads on to way,\n",
    "I doubted if I should ever come back.\n",
    "\n",
    "I shall be telling this with a sigh\n",
    "Somewhere ages and ages hence:\n",
    "Two roads diverged in a wood, and I—-\n",
    "I took the one less travelled by,\n",
    "And that has made all the difference.\"\"\""
   ]
  },
  {
   "cell_type": "code",
   "execution_count": 77,
   "metadata": {},
   "outputs": [
    {
     "data": {
      "text/plain": [
       "['two',\n",
       " 'roads',\n",
       " 'diverged',\n",
       " 'yellow',\n",
       " 'wood',\n",
       " ',',\n",
       " 'sorry',\n",
       " 'could',\n",
       " 'travel',\n",
       " 'one',\n",
       " 'traveller',\n",
       " ',',\n",
       " 'long',\n",
       " 'stood',\n",
       " 'looked',\n",
       " 'one',\n",
       " 'far',\n",
       " 'could',\n",
       " 'bent',\n",
       " 'undergrowth',\n",
       " ';',\n",
       " 'took',\n",
       " ',',\n",
       " 'fair',\n",
       " ',',\n",
       " 'perhaps',\n",
       " 'better',\n",
       " 'claim',\n",
       " ',',\n",
       " 'grassy',\n",
       " 'wanted',\n",
       " 'wear',\n",
       " ';',\n",
       " 'though',\n",
       " 'passing',\n",
       " 'worn',\n",
       " 'really',\n",
       " ',',\n",
       " 'morning',\n",
       " 'equally',\n",
       " 'lay',\n",
       " 'leaves',\n",
       " 'step',\n",
       " 'trodden',\n",
       " 'black',\n",
       " '.',\n",
       " 'oh',\n",
       " ',',\n",
       " 'kept',\n",
       " 'first',\n",
       " 'another',\n",
       " 'day',\n",
       " '!',\n",
       " 'yet',\n",
       " 'knowing',\n",
       " 'way',\n",
       " 'leads',\n",
       " 'way',\n",
       " ',',\n",
       " 'doubted',\n",
       " 'ever',\n",
       " 'come',\n",
       " 'back',\n",
       " '.',\n",
       " 'shall',\n",
       " 'telling',\n",
       " 'sigh',\n",
       " 'somewhere',\n",
       " 'ages',\n",
       " 'ages',\n",
       " 'hence',\n",
       " ':',\n",
       " 'two',\n",
       " 'roads',\n",
       " 'diverged',\n",
       " 'wood',\n",
       " ',',\n",
       " 'i—-',\n",
       " 'took',\n",
       " 'one',\n",
       " 'less',\n",
       " 'travelled',\n",
       " ',',\n",
       " 'made',\n",
       " 'difference',\n",
       " '.']"
      ]
     },
     "execution_count": 77,
     "metadata": {},
     "output_type": "execute_result"
    }
   ],
   "source": [
    "words= nltk.word_tokenize(two_roads)\n",
    "non_stop_words = []\n",
    "for word in words:\n",
    "    word = word.lower()\n",
    "    if not word in S:\n",
    "        non_stop_words.append(word)\n",
    "words = non_stop_words\n",
    "words"
   ]
  },
  {
   "cell_type": "markdown",
   "metadata": {},
   "source": [
    "It's also possible to plot the frequency of words:"
   ]
  },
  {
   "cell_type": "code",
   "execution_count": 78,
   "metadata": {},
   "outputs": [
    {
     "data": {
      "image/png": "[encoded data removed]",
      "text/plain": [
       "<Figure size 3240x720 with 1 Axes>"
      ]
     },
     "metadata": {
      "needs_background": "light"
     },
     "output_type": "display_data"
    }
   ],
   "source": [
    "plt.figure(figsize=(45,10))\n",
    "sns.countplot(words, order=pd.Series(words).value_counts().index[:10])\n",
    "plt.xticks(rotation=90)\n",
    "plt.show()"
   ]
  },
  {
   "cell_type": "markdown",
   "metadata": {},
   "source": [
    "(double click the plot to enlarge)"
   ]
  },
  {
   "cell_type": "markdown",
   "metadata": {},
   "source": [
    "### <font color='magenta'> Q5. Based on the word frequency results, what was the paragraph about? </font>"
   ]
  },
  {
   "cell_type": "markdown",
   "metadata": {},
   "source": [
    "',' is the most frequent words in the poem. From the top 10 most common words, we can know the poem is about wood, roads, ages and diverged ways maybe. "
   ]
  },
  {
   "cell_type": "markdown",
   "metadata": {
    "slideshow": {
     "slide_type": "slide"
    }
   },
   "source": [
    "# Word embedding"
   ]
  },
  {
   "cell_type": "markdown",
   "metadata": {
    "slideshow": {
     "slide_type": "slide"
    }
   },
   "source": [
    "- So far, we seen how we can extract some interesting syntactic characteristics from text from using ```nltk```\n",
    "- It extracted the characteristics, but did not indicate what it means\n",
    "- Can machines understand semantic relationship between words?"
   ]
  },
  {
   "cell_type": "markdown",
   "metadata": {
    "slideshow": {
     "slide_type": "slide"
    }
   },
   "source": [
    "- Distributional semantics\n",
    "    - Representing semantic information of words in a geometric semantic space\n",
    "        - Different relationship between words: explained by geometric relationship between words \n",
    "        - e.g., Related words are located closer to each other; \n",
    "    - And it's often called as *word embedding*"
   ]
  },
  {
   "cell_type": "markdown",
   "metadata": {
    "slideshow": {
     "slide_type": "slide"
    }
   },
   "source": [
    "#### Word2Vec\n",
    "- Developed by [Mikolov et al., 2013](https://papers.nips.cc/paper/5021-distributed-representations-of-words-and-phrases-and-their-compositionality.pdf)\n",
    "- Represent the meaning of the words as a vector\n",
    "    - Vector: numeric array\n",
    "    - Output of a neural network model that predicts the next word\n",
    "- Surprisingly, many different semantic informations can be represented from word vectors of ```Word2Vec```\n",
    "- (More explanation in here: https://www.tensorflow.org/tutorials/representation/word2vec)"
   ]
  },
  {
   "cell_type": "markdown",
   "metadata": {
    "slideshow": {
     "slide_type": "slide"
    }
   },
   "source": [
    "<img src=\"https://www.tensorflow.org/images/softmax-nplm.png\" width=\"400\">"
   ]
  },
  {
   "cell_type": "markdown",
   "metadata": {
    "slideshow": {
     "slide_type": "slide"
    }
   },
   "source": [
    "![](https://www.tensorflow.org/images/linear-relationships.png)"
   ]
  },
  {
   "cell_type": "markdown",
   "metadata": {
    "slideshow": {
     "slide_type": "slide"
    }
   },
   "source": [
    "### Let's try with some example: words in a semantic space\n",
    "$\\rightarrow$ https://projector.tensorflow.org"
   ]
  },
  {
   "cell_type": "markdown",
   "metadata": {},
   "source": [
    "### <font color='magenta'> Q6. Record any interesting findings from TensorFlow Projector page</font>"
   ]
  },
  {
   "cell_type": "markdown",
   "metadata": {},
   "source": [
    "It's very cool to see how words are related to each other at different levels. It's up to the model or the developer whoever's logic, how these relations be defined. Like for example, the word dog is related with the word cows more than the word dogs. "
   ]
  },
  {
   "cell_type": "markdown",
   "metadata": {},
   "source": [
    "## OK. Let's try some more details on our local machines!\n",
    "- We have included the [pretrained model](https://drive.google.com/open?id=10GXpuviDJVa-k8ZmiYX3BVABNDRaA6tg) as part of today's zip file, but there's the link for it if you ever need to download it again\n",
    "- We are using [gensim](https://radimrehurek.com/gensim/) package this time"
   ]
  },
  {
   "cell_type": "code",
   "execution_count": 79,
   "metadata": {},
   "outputs": [],
   "source": [
    "import gensim"
   ]
  },
  {
   "cell_type": "code",
   "execution_count": 80,
   "metadata": {},
   "outputs": [],
   "source": [
    "# from https://github.com/eyaler/word2vec-slim\n",
    "w2v_mod = gensim.models.KeyedVectors.load_word2vec_format(\"GoogleNews-vectors-negative300-SLIM.bin\", binary=True)"
   ]
  },
  {
   "cell_type": "markdown",
   "metadata": {},
   "source": [
    "## Calculating similarity between words"
   ]
  },
  {
   "cell_type": "markdown",
   "metadata": {},
   "source": [
    "- Q: What's similarity between *school* and *student*?"
   ]
  },
  {
   "cell_type": "markdown",
   "metadata": {},
   "source": [
    "- the word vector for *school* looks like this:"
   ]
  },
  {
   "cell_type": "code",
   "execution_count": 81,
   "metadata": {},
   "outputs": [
    {
     "data": {
      "text/plain": [
       "array([ 3.70471478e-02,  1.14410305e-02,  1.49575379e-02,  8.87546614e-02,\n",
       "        3.96226160e-02, -2.67452672e-02,  6.33961856e-02, -1.90188568e-02,\n",
       "       -1.89445645e-03, -3.68490331e-02,  1.01037674e-01,  1.85235739e-02,\n",
       "        2.69433800e-02, -4.00188453e-02, -4.29905392e-02,  4.31886539e-02,\n",
       "       -8.12263638e-02,  5.72051527e-03,  5.54716662e-02, -3.56603563e-02,\n",
       "        8.32074955e-02,  6.93395808e-02,  4.72994987e-03,  6.97358102e-02,\n",
       "        1.96874887e-03, -1.41848966e-01,  9.22464067e-04,  7.48867467e-02,\n",
       "        4.85377051e-02, -1.02028241e-02,  4.14056368e-02, -4.33867648e-02,\n",
       "        1.62452739e-02,  3.04598873e-03, -6.61697686e-02, -6.06226064e-02,\n",
       "        9.27169248e-02, -2.04056483e-02,  1.88207440e-02,  5.07169515e-02,\n",
       "        5.29952534e-03,  5.19056283e-02,  4.47735563e-02, -2.05047056e-02,\n",
       "        1.39669729e-02,  5.86414747e-02,  6.97358102e-02, -1.12924464e-02,\n",
       "       -4.49716710e-02,  9.31131542e-02, -4.75471430e-02, -4.95282710e-02,\n",
       "       -1.44251098e-03, -4.61603515e-02,  8.59810784e-02, -8.47924054e-02,\n",
       "       -4.23962027e-02,  1.78301781e-02, -5.00235567e-03, -6.45848662e-02,\n",
       "       -3.58584709e-02, -1.62452739e-02,  4.31886539e-02, -2.06037611e-02,\n",
       "        3.14999819e-02,  5.94339259e-02, -7.01320320e-02,  8.39999467e-02,\n",
       "        8.96461774e-03,  1.64433867e-02, -7.44905248e-02,  4.91320454e-02,\n",
       "        3.52641307e-02,  1.49575379e-02, -4.51697856e-02,  1.44226328e-01,\n",
       "        1.16490498e-01,  1.29392615e-03,  7.01320320e-02,  6.41886443e-02,\n",
       "        2.02075355e-02, -6.77546784e-02, -6.10188320e-02,  8.43961760e-02,\n",
       "        2.23867781e-02,  1.60471611e-02,  1.50565952e-02,  9.62829590e-02,\n",
       "        6.73584491e-02, -1.14905592e-02, -7.37971254e-03, -7.68678784e-02,\n",
       "       -5.54716634e-03, -6.22075088e-02, -7.23112794e-03,  3.82358246e-02,\n",
       "        6.45848662e-02,  2.57547013e-02, -2.53584757e-02,  2.91226245e-02,\n",
       "       -1.94150824e-02, -5.42334560e-03, -5.62641174e-02,  2.48631928e-02,\n",
       "       -8.83584395e-02, -3.38773392e-02,  5.24999667e-03,  2.25848928e-02,\n",
       "       -8.81603267e-03, -8.43961760e-02, -9.35093760e-02,  6.89433515e-02,\n",
       "       -1.36698028e-02, -1.83254611e-02,  6.69622272e-02, -1.02152058e-04,\n",
       "        2.71414928e-02, -2.02075355e-02, -5.74527942e-02, -6.57735467e-02,\n",
       "       -4.55660112e-02, -6.16627000e-03,  1.00542391e-02, -8.81603267e-03,\n",
       "       -2.41697971e-02, -1.83254611e-02, -3.34811136e-02, -5.50754406e-02,\n",
       "        1.24439783e-03,  3.32829989e-02,  3.68490331e-02, -1.44226328e-01,\n",
       "       -7.88490102e-02, -4.14056368e-02, -5.38867600e-02, -1.21344263e-02,\n",
       "        1.10448049e-02, -4.23215215e-06, -1.12924464e-02,  2.85282843e-02,\n",
       "       -1.44226328e-01, -1.44226328e-01,  5.26980832e-02,  1.85731018e-03,\n",
       "       -1.05990507e-02,  8.71697590e-02, -3.92263904e-02, -3.86320539e-02,\n",
       "       -9.01414547e-03,  1.92695938e-04,  1.64037645e-01, -7.21131638e-02,\n",
       "       -3.66509221e-02,  6.06226064e-02, -8.36037248e-02, -5.23018539e-02,\n",
       "        1.03811257e-01, -9.70754102e-02,  4.35848795e-02, -2.95188501e-02,\n",
       "       -9.23207030e-02,  4.61603515e-02,  8.28112736e-02,  7.92452320e-02,\n",
       "       -3.14999819e-02,  4.68042167e-03, -1.24811241e-02, -8.51886272e-02,\n",
       "        2.48631928e-02,  2.13962141e-02, -8.83584395e-02,  1.59481037e-02,\n",
       "        6.43867534e-03, -1.06981069e-01,  6.83490140e-03,  2.65471544e-02,\n",
       "        6.98348647e-03,  4.97263856e-02,  4.23466740e-03,  1.00245222e-01,\n",
       "       -1.28773507e-03,  2.35754568e-02,  6.93395827e-03,  1.98113080e-02,\n",
       "        3.44716758e-02,  5.20046847e-03, -3.48679051e-02, -2.55565885e-02,\n",
       "        9.15282443e-02,  3.74433734e-02,  2.95188501e-02, -3.66509221e-02,\n",
       "       -8.81603267e-03,  7.25093931e-02, -1.08565971e-01, -3.32829989e-02,\n",
       "        4.67546880e-02, -7.60754272e-02, -2.98407837e-03, -7.92452320e-03,\n",
       "       -4.29905392e-02, -8.91508907e-03,  8.67735296e-02, -1.14905588e-01,\n",
       "       -2.73396056e-02, -1.18867852e-01,  7.08254287e-03, -1.03018805e-01,\n",
       "       -2.03065909e-02, -5.78861684e-04,  3.62546965e-02, -6.14150576e-02,\n",
       "        7.21131638e-02, -1.45018786e-01, -1.32339537e-01,  1.31547093e-01,\n",
       "       -4.12075222e-02,  2.41697971e-02, -5.50754406e-02, -5.82452491e-02,\n",
       "       -5.05188368e-02, -3.74433734e-02,  1.01532955e-02,  5.94339259e-02,\n",
       "        4.99244966e-02,  1.10943327e-02, -1.04603708e-01,  4.59622368e-02,\n",
       "        3.11037544e-02, -1.49575379e-02,  8.43961760e-02,  3.20943221e-02,\n",
       "        2.02075355e-02,  6.53773174e-02,  8.61791894e-03,  3.40754502e-02,\n",
       "        3.68985627e-03, -7.84527808e-02,  6.58726040e-03, -1.19858421e-02,\n",
       "        2.85282843e-02, -2.14952696e-02,  9.35093760e-02, -3.54622416e-02,\n",
       "       -1.10943332e-01, -4.71509136e-02, -6.65659979e-02, -2.67452672e-02,\n",
       "        6.63678860e-03, -2.48879567e-03,  1.29764071e-02,  3.96226160e-02,\n",
       "        5.62641174e-02,  5.78490235e-02, -3.54622416e-02, -1.08565971e-01,\n",
       "        4.69528027e-02, -1.05495220e-02,  7.82546680e-03,  1.02226354e-01,\n",
       "        1.86226312e-02,  5.66603430e-02, -1.00245222e-01, -3.74433734e-02,\n",
       "        3.88301648e-02, -2.27830056e-02,  1.47594251e-02,  2.69433800e-02,\n",
       "       -1.89197995e-02,  2.42688525e-02,  4.12075222e-02, -1.90188568e-02,\n",
       "        3.68490331e-02,  8.47924054e-02, -3.16980928e-02, -1.02226354e-01,\n",
       "        1.24415018e-01, -1.27584830e-01, -2.46650800e-02, -1.25999928e-01,\n",
       "       -4.75471430e-02, -2.05047056e-02, -5.54716662e-02,  1.02226354e-01,\n",
       "       -7.76603296e-02, -1.98113092e-04, -3.78395990e-02,  7.96414614e-02,\n",
       "        6.14150576e-02,  1.21245213e-01, -4.37829942e-02, -9.70754120e-03,\n",
       "       -5.98301515e-02, -2.71414928e-02,  4.25943136e-02, -2.32782885e-02,\n",
       "       -4.29905392e-02, -5.07664774e-03,  3.68490331e-02,  4.87358198e-02],\n",
       "      dtype=float32)"
      ]
     },
     "execution_count": 81,
     "metadata": {},
     "output_type": "execute_result"
    }
   ],
   "source": [
    "w2v_mod['school']"
   ]
  },
  {
   "cell_type": "code",
   "execution_count": 82,
   "metadata": {},
   "outputs": [
    {
     "data": {
      "text/plain": [
       "300"
      ]
     },
     "execution_count": 82,
     "metadata": {},
     "output_type": "execute_result"
    }
   ],
   "source": [
    "len(w2v_mod['school'])"
   ]
  },
  {
   "cell_type": "markdown",
   "metadata": {},
   "source": [
    "- and the word vector for *student* looks like this:"
   ]
  },
  {
   "cell_type": "code",
   "execution_count": 83,
   "metadata": {},
   "outputs": [
    {
     "data": {
      "text/plain": [
       "array([ 0.01336551,  0.00730235,  0.08037006,  0.05629445,  0.06479172,\n",
       "        0.01141821,  0.11400511, -0.01221483,  0.0559404 , -0.1359564 ,\n",
       "        0.01849928, -0.04779717, -0.04337151, -0.05027555, -0.0073466 ,\n",
       "        0.00477972, -0.02442967, -0.02389859, -0.00907261, -0.05098365,\n",
       "        0.00783343,  0.06302146, -0.00064449, -0.03328099, -0.03540531,\n",
       "       -0.17844278, -0.04956744, -0.002069  ,  0.06160524,  0.0366445 ,\n",
       "        0.03416613, -0.03983098, -0.03080262,  0.01964995, -0.02372156,\n",
       "       -0.00610742,  0.04071611,  0.0506296 , -0.03009452,  0.08072411,\n",
       "       -0.08638897,  0.0426634 , -0.01672901,  0.03115668,  0.0619593 ,\n",
       "       -0.02496075,  0.01451618, -0.03752963,  0.05771066,  0.0179682 ,\n",
       "       -0.03947692, -0.05452418,  0.0054657 , -0.01964995,  0.0906376 ,\n",
       "       -0.03452018, -0.04284043,  0.04036206,  0.07435116, -0.03629045,\n",
       "        0.00610742, -0.03452018, -0.00111748, -0.00489036,  0.03363505,\n",
       "       -0.0306256 ,  0.03080262, -0.02009252,  0.05735661,  0.03823774,\n",
       "       -0.08391059,  0.02991749,  0.00533293, -0.07718358, -0.06479172,\n",
       "        0.1586158 ,  0.05275392, -0.00624019,  0.03115668, -0.00068874,\n",
       "        0.00982497, -0.04921339, -0.00654998,  0.07470521, -0.06160524,\n",
       "        0.00986923, -0.04567285,  0.11117268, -0.01106416,  0.09028355,\n",
       "       -0.04089314, -0.13454019, -0.0559404 , -0.06018903, -0.04301745,\n",
       "        0.02673101,  0.06514578,  0.09559435, -0.0089841 , -0.073289  ,\n",
       "        0.01301145, -0.03823774, -0.03274991, -0.13949694, -0.03469721,\n",
       "       -0.02044657, -0.05239986, -0.06018903,  0.08674302, -0.08497275,\n",
       "       -0.13808072, -0.05912687,  0.03611342,  0.00385033,  0.02991749,\n",
       "       -0.04071611, -0.02903236, -0.01079862,  0.05417013,  0.06337551,\n",
       "        0.02478372,  0.02708506, -0.01787968, -0.05098365,  0.0007247 ,\n",
       "        0.02903236,  0.03770666,  0.00924964,  0.0279702 ,  0.09205382,\n",
       "       -0.01885333, -0.10834026, -0.04744312, -0.03646747, -0.07541332,\n",
       "       -0.04160124,  0.04779717,  0.01761414, -0.12533481,  0.01363105,\n",
       "       -0.12958345, -0.07647548, -0.03310397,  0.02407561, -0.00893984,\n",
       "        0.08568086, -0.0179682 ,  0.10904837,  0.05417013,  0.01646347,\n",
       "        0.14870232,  0.01110842, -0.02071211,  0.01637496, -0.01318848,\n",
       "       -0.07576737,  0.03876882, -0.07116468,  0.05558634,  0.01513577,\n",
       "       -0.10550784,  0.00508951,  0.04372556,  0.08497275, -0.01708306,\n",
       "        0.06727009,  0.06443767, -0.05841877,  0.04708907, -0.01141821,\n",
       "       -0.01708306, -0.01088713,  0.02584588, -0.05771066,  0.0366445 ,\n",
       "        0.01699455,  0.06372956, -0.00042044, -0.01203781,  0.05523229,\n",
       "        0.04390259, -0.05239986,  0.05523229, -0.05983498,  0.0619593 ,\n",
       "        0.02088914,  0.02195129,  0.00564272,  0.00955943, -0.04638096,\n",
       "        0.05275392, -0.01283443, -0.02478372,  0.16074012, -0.15932392,\n",
       "       -0.03292694,  0.06089714, -0.07505926,  0.01128544, -0.01363105,\n",
       "       -0.0619593 ,  0.07718358,  0.03575937, -0.08072411, -0.0846187 ,\n",
       "       -0.12958345, -0.01128544, -0.06125119, -0.03292694, -0.05487823,\n",
       "        0.07789169, -0.04390259,  0.08886734, -0.1352483 , -0.09488624,\n",
       "        0.04372556, -0.03505126,  0.00955943, -0.02832425, -0.01947292,\n",
       "       -0.00482397, -0.10338352,  0.01726009, -0.01602091,  0.02885533,\n",
       "        0.08638897,  0.00840876, -0.02159724,  0.06727009, -0.01504726,\n",
       "        0.07647548,  0.04815122, -0.00242305,  0.06018903, -0.02903236,\n",
       "       -0.04390259,  0.01079862, -0.02460669, -0.00241199,  0.11046458,\n",
       "        0.14162125, -0.05523229, -0.02920938,  0.01469321, -0.04815122,\n",
       "       -0.02637696, -0.11683753,  0.00588613, -0.06833225,  0.06408362,\n",
       "       -0.01557834,  0.00435928,  0.01858779,  0.06018903, -0.03983098,\n",
       "       -0.07789169,  0.01593239,  0.04407962, -0.01911887,  0.05912687,\n",
       "        0.0226594 ,  0.00832025, -0.06762415, -0.11400511, -0.00433715,\n",
       "        0.00840876, -0.0066385 ,  0.06939442, -0.07435116, -0.00272178,\n",
       "        0.03593639, -0.03416613,  0.02257089,  0.08001601, -0.05700256,\n",
       "       -0.0619593 ,  0.00615167, -0.10621594, -0.02655398, -0.06833225,\n",
       "        0.00294307, -0.01787968, -0.04089314,  0.06974847, -0.04779717,\n",
       "        0.03788368, -0.06549983,  0.04301745,  0.1246267 ,  0.08851328,\n",
       "       -0.05487823, -0.04602691, -0.073289  , -0.03328099,  0.02097765,\n",
       "        0.06231335,  0.01389659,  0.04160124,  0.03558234,  0.0313337 ],\n",
       "      dtype=float32)"
      ]
     },
     "execution_count": 83,
     "metadata": {},
     "output_type": "execute_result"
    }
   ],
   "source": [
    "w2v_mod['student']"
   ]
  },
  {
   "cell_type": "markdown",
   "metadata": {},
   "source": [
    "- the similarity between two word vectors is:"
   ]
  },
  {
   "cell_type": "code",
   "execution_count": 84,
   "metadata": {},
   "outputs": [
    {
     "data": {
      "text/plain": [
       "0.60556275"
      ]
     },
     "execution_count": 84,
     "metadata": {},
     "output_type": "execute_result"
    }
   ],
   "source": [
    "w2v_mod.similarity('school', 'student')"
   ]
  },
  {
   "cell_type": "markdown",
   "metadata": {},
   "source": [
    "### Methods for measuring similarity"
   ]
  },
  {
   "cell_type": "markdown",
   "metadata": {},
   "source": [
    "<table>\n",
    "<tr>\n",
    "    <td><img src=\"https://nickgrattan.files.wordpress.com/2014/06/screenhunter_76-jun-10-08-36.jpg\" width=\"400\"></td>\n",
    "    <td><img src=\"https://nickgrattan.files.wordpress.com/2014/06/screenhunter_77-jun-10-08-36.jpg\" width=\"400\"></td>\n",
    "    <td><img src=\"https://nickgrattan.files.wordpress.com/2014/06/screenhunter_77-jun-10-08-37.jpg\" width=\"400\"></td>\n",
    "</tr>\n",
    "</table>"
   ]
  },
  {
   "cell_type": "markdown",
   "metadata": {},
   "source": [
    "- Euclidean distance\n",
    "    - The most common use of distance\n",
    "    - $ \\sqrt{(x_1 - x_2)^2 + (y_1 - y_2)^2} $"
   ]
  },
  {
   "cell_type": "code",
   "execution_count": 85,
   "metadata": {},
   "outputs": [
    {
     "data": {
      "text/plain": [
       "7.615773105863909"
      ]
     },
     "execution_count": 85,
     "metadata": {},
     "output_type": "execute_result"
    }
   ],
   "source": [
    "# (images from https://nickgrattan.wordpress.com/2014/06/10/euclidean-manhattan-and-cosine-distance-measures-in-c/)\n",
    "np.sqrt(np.power((12-5), 2) + np.power((14-11), 2))"
   ]
  },
  {
   "cell_type": "markdown",
   "metadata": {},
   "source": [
    "- Manhattan distance\n",
    "    - Distance = the sum of differences in the grid\n",
    "    - $|x_1 - x_2| + |y_1 - y_2|$"
   ]
  },
  {
   "cell_type": "code",
   "execution_count": 86,
   "metadata": {},
   "outputs": [
    {
     "data": {
      "text/plain": [
       "10"
      ]
     },
     "execution_count": 86,
     "metadata": {},
     "output_type": "execute_result"
    }
   ],
   "source": [
    "np.abs(12-5) + np.abs(14-11)"
   ]
  },
  {
   "cell_type": "markdown",
   "metadata": {},
   "source": [
    "- Cosine similarity \n",
    "    - Often used to measure similarity between vectors\n",
    "    - $cos(\\theta) = \\frac{\\sum_{i=1}^{n} A_i B_i }{\\sqrt{\\sum_{i=1}^{n} A_i^2 } \\sqrt{\\sum_{i=1}^{n} B_i^2 }}$ \n",
    "    - https://en.wikipedia.org/wiki/Cosine_similarity"
   ]
  },
  {
   "cell_type": "code",
   "execution_count": 87,
   "metadata": {},
   "outputs": [
    {
     "data": {
      "text/plain": [
       "0.9605011450474118"
      ]
     },
     "execution_count": 87,
     "metadata": {},
     "output_type": "execute_result"
    }
   ],
   "source": [
    "a = np.array([12, 14])\n",
    "b = np.array([5, 11])\n",
    "a.dot(b) / (np.sqrt(np.sum(np.power(a, 2))) * np.sqrt(np.sum(np.power(b, 2))))"
   ]
  },
  {
   "cell_type": "code",
   "execution_count": 88,
   "metadata": {},
   "outputs": [],
   "source": [
    "# (image from http://blog.christianperone.com/2013/09/machine-learning-cosine-similarity-for-vector-space-models-part-iii/)"
   ]
  },
  {
   "cell_type": "markdown",
   "metadata": {},
   "source": [
    "![](http://blog.christianperone.com/wp-content/uploads/2013/09/cosinesimilarityfq1.png)"
   ]
  },
  {
   "cell_type": "markdown",
   "metadata": {},
   "source": [
    "- Cosine simiarity can go from -1 to 1\n",
    "- But usually, we deal with 0 to 1 scores for comparing words in ```Word2Vec```"
   ]
  },
  {
   "cell_type": "markdown",
   "metadata": {},
   "source": [
    "### <font color='magenta'> Q7. What's the cosine similarity between *school* and *tiger*? </font>\n",
    "- How would you interprete the results?"
   ]
  },
  {
   "cell_type": "markdown",
   "metadata": {},
   "source": [
    "The words 'school' and 'tiger' are not very related to each other, that their correlation is only 0.09, that's pretty close to 0 (meaning no relations)."
   ]
  },
  {
   "cell_type": "code",
   "execution_count": 89,
   "metadata": {},
   "outputs": [
    {
     "data": {
      "text/plain": [
       "0.08660267"
      ]
     },
     "execution_count": 89,
     "metadata": {},
     "output_type": "execute_result"
    }
   ],
   "source": [
    "w2v_mod.similarity('school', 'tiger')"
   ]
  },
  {
   "cell_type": "markdown",
   "metadata": {},
   "source": [
    "### <font color='magenta'> Q8. Try some other words. Any other interesting findings? </font>\n",
    "- Give 3 more examples.\n",
    "- How would you interprete the results?"
   ]
  },
  {
   "cell_type": "code",
   "execution_count": 90,
   "metadata": {},
   "outputs": [
    {
     "data": {
      "text/plain": [
       "0.8092215"
      ]
     },
     "execution_count": 90,
     "metadata": {},
     "output_type": "execute_result"
    }
   ],
   "source": [
    "w2v_mod.similarity('black', 'white')"
   ]
  },
  {
   "cell_type": "code",
   "execution_count": 91,
   "metadata": {},
   "outputs": [
    {
     "data": {
      "text/plain": [
       "0.5121041"
      ]
     },
     "execution_count": 91,
     "metadata": {},
     "output_type": "execute_result"
    }
   ],
   "source": [
    "w2v_mod.similarity('lion', 'tiger')"
   ]
  },
  {
   "cell_type": "code",
   "execution_count": 92,
   "metadata": {},
   "outputs": [
    {
     "data": {
      "text/plain": [
       "0.22693524"
      ]
     },
     "execution_count": 92,
     "metadata": {},
     "output_type": "execute_result"
    }
   ],
   "source": [
    "w2v_mod.similarity('Chris', 'Christian')"
   ]
  },
  {
   "cell_type": "markdown",
   "metadata": {},
   "source": [
    "I can see the 2 words black and white have strong correlations, I think it's because they are both colors. Words lion and tiger have medium level of correlations, maybe because they are both animals, or mammals, but different species. Chris and Christian don't have strong correlations, which surprised me, because I thought they are same names, just the previous one is the short version. Clearly that's not the way how machine think through."
   ]
  },
  {
   "cell_type": "markdown",
   "metadata": {},
   "source": [
    "## Analogy from word vectors"
   ]
  },
  {
   "cell_type": "markdown",
   "metadata": {},
   "source": [
    "<img src=\"https://www.tensorflow.org/images/linear-relationships.png\" width=\"800\">"
   ]
  },
  {
   "cell_type": "markdown",
   "metadata": {},
   "source": [
    "#### Can we approximate the relationship between words by doing - and + operations?"
   ]
  },
  {
   "cell_type": "markdown",
   "metadata": {},
   "source": [
    "- $woman - man + king \\approx ?$\n",
    "- How this works?\n",
    "    - $woman:man \\approx x:king $\n",
    "    - $\\rightarrow woman - man \\approx x - king $\n",
    "    - $\\rightarrow woman - man + king \\approx x$\n",
    "    - List top-10 words ($x$) that can solve the equation!"
   ]
  },
  {
   "cell_type": "code",
   "execution_count": 93,
   "metadata": {},
   "outputs": [
    {
     "data": {
      "text/plain": [
       "[('queen', 0.7118192911148071),\n",
       " ('monarch', 0.6189674735069275),\n",
       " ('princess', 0.5902431607246399),\n",
       " ('prince', 0.5377322435379028),\n",
       " ('kings', 0.5236844420433044),\n",
       " ('queens', 0.5181134343147278),\n",
       " ('sultan', 0.5098593235015869),\n",
       " ('monarchy', 0.5087411999702454),\n",
       " ('throne', 0.5005807280540466),\n",
       " ('royal', 0.4938204884529114)]"
      ]
     },
     "execution_count": 93,
     "metadata": {},
     "output_type": "execute_result"
    }
   ],
   "source": [
    "w2v_mod.most_similar(positive=['woman', 'king'], negative=['man'])"
   ]
  },
  {
   "cell_type": "markdown",
   "metadata": {},
   "source": [
    "- $Spain - Germany + Berlin \\approx ?$\n",
    "    - $\\rightarrow Spain - Germany \\approx x -  Berlin $"
   ]
  },
  {
   "cell_type": "code",
   "execution_count": 94,
   "metadata": {},
   "outputs": [
    {
     "data": {
      "text/plain": [
       "[('Madrid', 0.717348039150238),\n",
       " ('Barcelona', 0.5742595791816711),\n",
       " ('Malaga', 0.5547429323196411),\n",
       " ('Bilbao', 0.5404423475265503),\n",
       " ('Lisbon', 0.5366039276123047),\n",
       " ('Seville', 0.5312415361404419),\n",
       " ('Paris', 0.5251091718673706),\n",
       " ('Catalan', 0.5213973522186279),\n",
       " ('Rome', 0.5174577832221985),\n",
       " ('Bogota', 0.5146557688713074)]"
      ]
     },
     "execution_count": 94,
     "metadata": {},
     "output_type": "execute_result"
    }
   ],
   "source": [
    "w2v_mod.most_similar(positive=['Spain', 'Berlin'], negative=['Germany'])"
   ]
  },
  {
   "cell_type": "markdown",
   "metadata": {},
   "source": [
    "### <font color='magenta'> Q9. Any other interesting examples? </font>\n",
    "- Give 3 more examples.\n",
    "- How would you interprete the results?"
   ]
  },
  {
   "cell_type": "markdown",
   "metadata": {},
   "source": [
    "(type in your response here)"
   ]
  },
  {
   "cell_type": "code",
   "execution_count": 95,
   "metadata": {},
   "outputs": [
    {
     "data": {
      "text/plain": [
       "[('Montreal', 0.4874575138092041),\n",
       " ('Hamburg', 0.4286065697669983),\n",
       " ('Germany', 0.4281412363052368),\n",
       " ('Ottawa', 0.42371922731399536),\n",
       " ('Munich', 0.41592979431152344),\n",
       " ('Canadian', 0.4144042432308197),\n",
       " ('Toronto', 0.4142145812511444),\n",
       " ('Dessau', 0.412375271320343),\n",
       " ('Ontario', 0.4114670753479004),\n",
       " ('Kitchener', 0.4088645279407501)]"
      ]
     },
     "execution_count": 95,
     "metadata": {},
     "output_type": "execute_result"
    }
   ],
   "source": [
    "w2v_mod.most_similar(positive=['Canada', 'Berlin'], negative=['China'])"
   ]
  },
  {
   "cell_type": "code",
   "execution_count": 96,
   "metadata": {},
   "outputs": [
    {
     "data": {
      "text/plain": [
       "[('Canadian', 0.661740779876709),\n",
       " ('Toronto', 0.6385330557823181),\n",
       " ('Montreal', 0.635225772857666),\n",
       " ('Ottawa', 0.6350735425949097),\n",
       " ('Vancouver', 0.6248366832733154),\n",
       " ('Calgary', 0.617638349533081),\n",
       " ('Winnipeg', 0.6019836664199829),\n",
       " ('Saskatoon', 0.5973019599914551),\n",
       " ('Ontario', 0.5954508781433105),\n",
       " ('Canadians', 0.5915849208831787)]"
      ]
     },
     "execution_count": 96,
     "metadata": {},
     "output_type": "execute_result"
    }
   ],
   "source": [
    "w2v_mod.most_similar(positive=['Canada', 'Beijing'], negative=['China'])"
   ]
  },
  {
   "cell_type": "code",
   "execution_count": 97,
   "metadata": {},
   "outputs": [
    {
     "data": {
      "text/plain": [
       "[('puppy', 0.769972562789917),\n",
       " ('pup', 0.6861710548400879),\n",
       " ('dogs', 0.6770987510681152),\n",
       " ('Rottweiler', 0.66466224193573),\n",
       " ('Pomeranian', 0.6553813815116882),\n",
       " ('puppies', 0.6450917720794678),\n",
       " ('pooch', 0.6447545289993286),\n",
       " ('Sheltie', 0.624342679977417),\n",
       " ('schnauzer', 0.6071555614471436),\n",
       " ('chihuahua', 0.6056430339813232)]"
      ]
     },
     "execution_count": 97,
     "metadata": {},
     "output_type": "execute_result"
    }
   ],
   "source": [
    "w2v_mod.most_similar(positive=['dog', 'kitten'], negative=['cat'])"
   ]
  },
  {
   "cell_type": "markdown",
   "metadata": {},
   "source": [
    "The 3 examples are interesting. First one, I use Berlin and China, kind of not related two words, for Canada, and the most related item is Montreal, a city of Canada. I was expecting some city name outside Canada. Then for the second one, I use Beijing and China, to expect the output will be the capital of Canada, but interestingly, the most related word is Canadian, and Toranto is the second most related word. Lastly I used the example from class, and the result is as expected: dog-puupy & cat-kitten."
   ]
  },
  {
   "cell_type": "markdown",
   "metadata": {},
   "source": [
    "## Constructing interpretable semantic scales "
   ]
  },
  {
   "cell_type": "markdown",
   "metadata": {},
   "source": [
    "- So far, we saw that word vectors effectively carries (although not perfect) the semantic information.\n",
    "- Can we design something more interpretable results from using the semantic space?"
   ]
  },
  {
   "cell_type": "markdown",
   "metadata": {},
   "source": [
    "- Let's re-try with real datapoints in [here](https://projector.tensorflow.org): *politics* words in a *bad-good* PCA space"
   ]
  },
  {
   "cell_type": "code",
   "execution_count": 98,
   "metadata": {},
   "outputs": [],
   "source": [
    "from scipy import spatial\n",
    " \n",
    "def cosine_similarity(x, y):\n",
    "    return(1 - spatial.distance.cosine(x, y))"
   ]
  },
  {
   "cell_type": "markdown",
   "metadata": {},
   "source": [
    "- Can we regenerate this results with our embedding model?"
   ]
  },
  {
   "cell_type": "markdown",
   "metadata": {},
   "source": [
    "### Let's plot words in the 2D space\n",
    "- Using Bad & Good axes\n",
    "- Calculate cosine similarity between an evaluating word (violence, discussion, and issues) with each scale's end (bad, and good)"
   ]
  },
  {
   "cell_type": "code",
   "execution_count": 99,
   "metadata": {},
   "outputs": [],
   "source": [
    "pol_words_sim_2d = pd.DataFrame([[cosine_similarity(w2v_mod['violence'], w2v_mod['good']), cosine_similarity(w2v_mod['violence'], w2v_mod['bad'])],\n",
    "                                 [cosine_similarity(w2v_mod['discussion'], w2v_mod['good']), cosine_similarity(w2v_mod['discussion'], w2v_mod['bad'])],\n",
    "                                 [cosine_similarity(w2v_mod['issues'], w2v_mod['good']), cosine_similarity(w2v_mod['issues'], w2v_mod['bad'])]],\n",
    "                                index=['violence', 'discussion', 'issues'], columns=['good', 'bad'])"
   ]
  },
  {
   "cell_type": "code",
   "execution_count": 100,
   "metadata": {},
   "outputs": [
    {
     "data": {
      "text/html": [
       "<div>\n",
       "<style scoped>\n",
       "    .dataframe tbody tr th:only-of-type {\n",
       "        vertical-align: middle;\n",
       "    }\n",
       "\n",
       "    .dataframe tbody tr th {\n",
       "        vertical-align: top;\n",
       "    }\n",
       "\n",
       "    .dataframe thead th {\n",
       "        text-align: right;\n",
       "    }\n",
       "</style>\n",
       "<table border=\"1\" class=\"dataframe\">\n",
       "  <thead>\n",
       "    <tr style=\"text-align: right;\">\n",
       "      <th></th>\n",
       "      <th>good</th>\n",
       "      <th>bad</th>\n",
       "    </tr>\n",
       "  </thead>\n",
       "  <tbody>\n",
       "    <tr>\n",
       "      <td>violence</td>\n",
       "      <td>-0.016942</td>\n",
       "      <td>0.091223</td>\n",
       "    </tr>\n",
       "    <tr>\n",
       "      <td>discussion</td>\n",
       "      <td>0.045935</td>\n",
       "      <td>-0.007224</td>\n",
       "    </tr>\n",
       "    <tr>\n",
       "      <td>issues</td>\n",
       "      <td>0.139897</td>\n",
       "      <td>0.118816</td>\n",
       "    </tr>\n",
       "  </tbody>\n",
       "</table>\n",
       "</div>"
      ],
      "text/plain": [
       "                good       bad\n",
       "violence   -0.016942  0.091223\n",
       "discussion  0.045935 -0.007224\n",
       "issues      0.139897  0.118816"
      ]
     },
     "execution_count": 100,
     "metadata": {},
     "output_type": "execute_result"
    }
   ],
   "source": [
    "pol_words_sim_2d"
   ]
  },
  {
   "cell_type": "markdown",
   "metadata": {},
   "source": [
    "- If we plot this:"
   ]
  },
  {
   "cell_type": "code",
   "execution_count": 101,
   "metadata": {},
   "outputs": [
    {
     "data": {
      "text/plain": [
       "<matplotlib.axes._subplots.AxesSubplot at 0x14d319f90>"
      ]
     },
     "execution_count": 101,
     "metadata": {},
     "output_type": "execute_result"
    },
    {
     "data": {
      "image/png": "[encoded data removed]",
      "text/plain": [
       "<Figure size 432x288 with 1 Axes>"
      ]
     },
     "metadata": {
      "needs_background": "light"
     },
     "output_type": "display_data"
    }
   ],
   "source": [
    "sns.scatterplot(x='good', y='bad', data=pol_words_sim_2d, hue=pol_words_sim_2d.index)"
   ]
  },
  {
   "cell_type": "markdown",
   "metadata": {},
   "source": [
    "- violence: less good, more bad\n",
    "- discussion: less bad, more good\n",
    "- issues: both bad and good"
   ]
  },
  {
   "cell_type": "markdown",
   "metadata": {},
   "source": [
    "### Can we do this in an 1D scale?\n",
    "(bad) --------------------?---- (good)"
   ]
  },
  {
   "cell_type": "markdown",
   "metadata": {},
   "source": [
    "- First, let's create the vector for *bad-good* scale"
   ]
  },
  {
   "cell_type": "code",
   "execution_count": 102,
   "metadata": {},
   "outputs": [],
   "source": [
    "scale_bad_good = w2v_mod['good'] - w2v_mod['bad']"
   ]
  },
  {
   "cell_type": "markdown",
   "metadata": {},
   "source": [
    "- Calculate the cosine similarity score of the word *violence* in the *bad-good* scale \n",
    "    - $sim(V(violence), V(bad) - V(good))$"
   ]
  },
  {
   "cell_type": "code",
   "execution_count": 103,
   "metadata": {},
   "outputs": [
    {
     "data": {
      "text/plain": [
       "-0.14428630471229553"
      ]
     },
     "execution_count": 103,
     "metadata": {},
     "output_type": "execute_result"
    }
   ],
   "source": [
    "cosine_similarity(w2v_mod['violence'], scale_bad_good)"
   ]
  },
  {
   "cell_type": "markdown",
   "metadata": {},
   "source": [
    "- $sim(V(discussion), V(bad) - V(good))$"
   ]
  },
  {
   "cell_type": "code",
   "execution_count": 104,
   "metadata": {},
   "outputs": [
    {
     "data": {
      "text/plain": [
       "0.0709114670753479"
      ]
     },
     "execution_count": 104,
     "metadata": {},
     "output_type": "execute_result"
    }
   ],
   "source": [
    "cosine_similarity(w2v_mod['discussion'], w2v_mod['good'] - w2v_mod['bad'])"
   ]
  },
  {
   "cell_type": "markdown",
   "metadata": {},
   "source": [
    "- $sim(V(issues), V(bad) - V(good))$"
   ]
  },
  {
   "cell_type": "code",
   "execution_count": 105,
   "metadata": {},
   "outputs": [
    {
     "data": {
      "text/plain": [
       "0.028121288865804672"
      ]
     },
     "execution_count": 105,
     "metadata": {},
     "output_type": "execute_result"
    }
   ],
   "source": [
    "cosine_similarity(w2v_mod['issues'], w2v_mod['good'] - w2v_mod['bad'])"
   ]
  },
  {
   "cell_type": "markdown",
   "metadata": {},
   "source": [
    "In summary, as displayed in Embedding Projector, words *violence*, *discussion*, and *issues* are located in the *bad-good* scale as following:"
   ]
  },
  {
   "cell_type": "code",
   "execution_count": 106,
   "metadata": {},
   "outputs": [],
   "source": [
    "pol_words_sim = pd.DataFrame([cosine_similarity(w2v_mod['violence'], w2v_mod['good'] - w2v_mod['bad']),\n",
    "                              cosine_similarity(w2v_mod['discussion'], w2v_mod['good'] - w2v_mod['bad']),\n",
    "                              cosine_similarity(w2v_mod['issues'], w2v_mod['good'] - w2v_mod['bad'])],\n",
    "                             index=['violence', 'discussion', 'issues'], columns=['cos_sim'])"
   ]
  },
  {
   "cell_type": "code",
   "execution_count": 107,
   "metadata": {},
   "outputs": [
    {
     "data": {
      "text/html": [
       "<div>\n",
       "<style scoped>\n",
       "    .dataframe tbody tr th:only-of-type {\n",
       "        vertical-align: middle;\n",
       "    }\n",
       "\n",
       "    .dataframe tbody tr th {\n",
       "        vertical-align: top;\n",
       "    }\n",
       "\n",
       "    .dataframe thead th {\n",
       "        text-align: right;\n",
       "    }\n",
       "</style>\n",
       "<table border=\"1\" class=\"dataframe\">\n",
       "  <thead>\n",
       "    <tr style=\"text-align: right;\">\n",
       "      <th></th>\n",
       "      <th>cos_sim</th>\n",
       "    </tr>\n",
       "  </thead>\n",
       "  <tbody>\n",
       "    <tr>\n",
       "      <td>violence</td>\n",
       "      <td>-0.144286</td>\n",
       "    </tr>\n",
       "    <tr>\n",
       "      <td>discussion</td>\n",
       "      <td>0.070911</td>\n",
       "    </tr>\n",
       "    <tr>\n",
       "      <td>issues</td>\n",
       "      <td>0.028121</td>\n",
       "    </tr>\n",
       "  </tbody>\n",
       "</table>\n",
       "</div>"
      ],
      "text/plain": [
       "             cos_sim\n",
       "violence   -0.144286\n",
       "discussion  0.070911\n",
       "issues      0.028121"
      ]
     },
     "execution_count": 107,
     "metadata": {},
     "output_type": "execute_result"
    }
   ],
   "source": [
    "pol_words_sim"
   ]
  },
  {
   "cell_type": "code",
   "execution_count": 108,
   "metadata": {},
   "outputs": [
    {
     "data": {
      "image/png": "[encoded data removed]",
      "text/plain": [
       "<Figure size 432x288 with 1 Axes>"
      ]
     },
     "metadata": {
      "needs_background": "light"
     },
     "output_type": "display_data"
    }
   ],
   "source": [
    "ax = sns.barplot(x=pol_words_sim.index, y=pol_words_sim.cos_sim)\n",
    "ax.set(ylabel=\"bad_good scale\")\n",
    "plt.show()"
   ]
  },
  {
   "cell_type": "markdown",
   "metadata": {},
   "source": [
    "- *Violence* is more close to the *bad* end of the scale, while *discussion* is located towards the *good* end of the scale. *Issues* is located between those two words in the *bad-good* scale. "
   ]
  },
  {
   "cell_type": "markdown",
   "metadata": {},
   "source": [
    "### <font color='magenta'>Q Stretch:  Select a different scale and a set of words. How are words  represented in your suggested semantic scale? </font>\n",
    "- Why did you selected the particular scale and words? what's your interpretation?"
   ]
  },
  {
   "cell_type": "markdown",
   "metadata": {},
   "source": [
    "(type in your response here)"
   ]
  },
  {
   "cell_type": "code",
   "execution_count": 109,
   "metadata": {},
   "outputs": [],
   "source": [
    "# put your code here"
   ]
  },
  {
   "cell_type": "markdown",
   "metadata": {},
   "source": [
    "- more to read about this method:     http://bookworm.benschmidt.org/posts/2015-10-25-Word-Embeddings.html"
   ]
  }
 ],
 "metadata": {
  "celltoolbar": "Slideshow",
  "kernelspec": {
   "display_name": "Python 3",
   "language": "python",
   "name": "python3"
  },
  "language_info": {
   "codemirror_mode": {
    "name": "ipython",
    "version": 3
   },
   "file_extension": ".py",
   "mimetype": "text/x-python",
   "name": "python",
   "nbconvert_exporter": "python",
   "pygments_lexer": "ipython3",
   "version": "3.7.4"
  },
  "toc-autonumbering": false,
  "toc-showcode": false,
  "toc-showmarkdowntxt": false,
  "toc-showtags": false
 },
 "nbformat": 4,
 "nbformat_minor": 4
}
