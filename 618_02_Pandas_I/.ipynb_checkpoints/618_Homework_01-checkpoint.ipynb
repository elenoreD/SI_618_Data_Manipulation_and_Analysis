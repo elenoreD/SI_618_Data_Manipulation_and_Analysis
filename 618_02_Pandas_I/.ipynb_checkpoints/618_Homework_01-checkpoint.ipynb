{
 "cells": [
  {
   "cell_type": "markdown",
   "metadata": {
    "colab_type": "text",
    "id": "UGqk3SzXsMR3"
   },
   "source": [
    "# SI 618 - Homework #1: Data Manipulation"
   ]
  },
  {
   "cell_type": "markdown",
   "metadata": {
    "colab_type": "text",
    "id": "Crxe7LeXJ9yn"
   },
   "source": [
    "## Background"
   ]
  },
  {
   "cell_type": "markdown",
   "metadata": {
    "colab_type": "text",
    "id": "1IaTA3GNJ9yo"
   },
   "source": [
    "This homework assignment focuses on the analysis of historical data from the Olympic games.  The description of the data includes the following:\n",
    "> This is a historical dataset on the modern Olympic Games, including all the Games from Athens 1896 to Rio 2016. I scraped this data from www.sports-reference.com in May 2018."
   ]
  },
  {
   "cell_type": "markdown",
   "metadata": {
    "colab_type": "text",
    "id": "jae-nANHJ9yp"
   },
   "source": [
    "Your main task in this assignment is to explore the data *using the data\n",
    "manipulation methods we covered in class* as well as those in the assigned readings.  You may need to consult pandas documentation, Stack Overflow, or other online resources.  \n",
    "\n",
    "** You should also feel free to ask questions on the class Slack channel! **"
   ]
  },
  {
   "cell_type": "markdown",
   "metadata": {
    "colab_type": "text",
    "id": "pbqbtPreaCjs"
   },
   "source": [
    "A total of 100 points is available in this homework assignment, consisting of:\n",
    "- 80 points for completing the specific homework questions. More comprehensive \n",
    "answers will tend to gain more points.\n",
    "- 10 points for the overall quality of spelling, grammar, punctuation, and style of written responses.  (see https://drive.google.com/file/d/1L0P7xJwjUGBvyb49mL3dw1Bt7hzRTiTl/view for a detailed specifications).\n",
    "- 10 points for creating code that conforms to [PEP 8](https://www.python.org/dev/peps/pep-0008/) guidelines.  You should review those guidelines before proceding with the assignment.\n"
   ]
  },
  {
   "cell_type": "markdown",
   "metadata": {
    "colab_type": "text",
    "id": "Pr9WBUQyZY4V"
   },
   "source": [
    "## 0. Download the data from: \n",
    "- https://www.kaggle.com/heesoo37/120-years-of-olympic-history-athletes-and-results\n",
    "\n",
    "<span style=\"color:magenta\"> NOTE: You will only need the file named \"athlete_events.csv\" </span>"
   ]
  },
  {
   "cell_type": "code",
   "execution_count": 175,
   "metadata": {},
   "outputs": [],
   "source": [
    "MY_UNIQNAME = 'elenore' # please fill in your uniqname\n",
    "import pandas as pd\n",
    "import numpy as np"
   ]
  },
  {
   "cell_type": "markdown",
   "metadata": {
    "colab_type": "text",
    "id": "8EV1PilWtl0Z"
   },
   "source": [
    "## 1. Answer the questions below. \n",
    "For each question, you should\n",
    "1. Write code using Python and pandas that can help you answer the following questions, and\n",
    "2. Explain your answers in plain English. You should use complete sentences that would be understood by an educated professional who is not necessarily a data scientist (like a product manager)."
   ]
  },
  {
   "cell_type": "markdown",
   "metadata": {
    "colab_type": "text",
    "id": "PfjXDtHoabcS"
   },
   "source": [
    "### <span style=\"color:magenta\"> 5 pt: Describe the dataset. </span>\n",
    "- How many number rows and columns do you see in each data frame? \n",
    "- Are there any other interesting descriptive details?"
   ]
  },
  {
   "cell_type": "code",
   "execution_count": 176,
   "metadata": {},
   "outputs": [
    {
     "name": "stdout",
     "output_type": "stream",
     "text": [
      "The number of rows of the dataset is:  271116\n",
      "The number of columns of the dataset is:  15\n",
      "The shape of the dataset is:  (271116, 15)\n"
     ]
    },
    {
     "data": {
      "text/html": [
       "<div>\n",
       "<style scoped>\n",
       "    .dataframe tbody tr th:only-of-type {\n",
       "        vertical-align: middle;\n",
       "    }\n",
       "\n",
       "    .dataframe tbody tr th {\n",
       "        vertical-align: top;\n",
       "    }\n",
       "\n",
       "    .dataframe thead th {\n",
       "        text-align: right;\n",
       "    }\n",
       "</style>\n",
       "<table border=\"1\" class=\"dataframe\">\n",
       "  <thead>\n",
       "    <tr style=\"text-align: right;\">\n",
       "      <th></th>\n",
       "      <th>ID</th>\n",
       "      <th>Name</th>\n",
       "      <th>Sex</th>\n",
       "      <th>Age</th>\n",
       "      <th>Height</th>\n",
       "      <th>Weight</th>\n",
       "      <th>Team</th>\n",
       "      <th>NOC</th>\n",
       "      <th>Games</th>\n",
       "      <th>Year</th>\n",
       "      <th>Season</th>\n",
       "      <th>City</th>\n",
       "      <th>Sport</th>\n",
       "      <th>Event</th>\n",
       "      <th>Medal</th>\n",
       "    </tr>\n",
       "  </thead>\n",
       "  <tbody>\n",
       "    <tr>\n",
       "      <td>60908</td>\n",
       "      <td>31201</td>\n",
       "      <td>Earl Hamilton Richard Eastwood</td>\n",
       "      <td>M</td>\n",
       "      <td>26.0</td>\n",
       "      <td>NaN</td>\n",
       "      <td>NaN</td>\n",
       "      <td>Canada</td>\n",
       "      <td>CAN</td>\n",
       "      <td>1932 Summer</td>\n",
       "      <td>1932</td>\n",
       "      <td>Summer</td>\n",
       "      <td>Los Angeles</td>\n",
       "      <td>Rowing</td>\n",
       "      <td>Rowing Men's Coxed Eights</td>\n",
       "      <td>Bronze</td>\n",
       "    </tr>\n",
       "    <tr>\n",
       "      <td>34965</td>\n",
       "      <td>18023</td>\n",
       "      <td>Gilles Capelle</td>\n",
       "      <td>M</td>\n",
       "      <td>23.0</td>\n",
       "      <td>178.0</td>\n",
       "      <td>77.0</td>\n",
       "      <td>France</td>\n",
       "      <td>FRA</td>\n",
       "      <td>1972 Summer</td>\n",
       "      <td>1972</td>\n",
       "      <td>Summer</td>\n",
       "      <td>Munich</td>\n",
       "      <td>Hockey</td>\n",
       "      <td>Hockey Men's Hockey</td>\n",
       "      <td>NaN</td>\n",
       "    </tr>\n",
       "    <tr>\n",
       "      <td>205673</td>\n",
       "      <td>103244</td>\n",
       "      <td>Igor Aleksandrovich Rudakov</td>\n",
       "      <td>M</td>\n",
       "      <td>37.0</td>\n",
       "      <td>187.0</td>\n",
       "      <td>98.0</td>\n",
       "      <td>Soviet Union</td>\n",
       "      <td>URS</td>\n",
       "      <td>1972 Summer</td>\n",
       "      <td>1972</td>\n",
       "      <td>Summer</td>\n",
       "      <td>Munich</td>\n",
       "      <td>Rowing</td>\n",
       "      <td>Rowing Men's Coxed Fours</td>\n",
       "      <td>NaN</td>\n",
       "    </tr>\n",
       "    <tr>\n",
       "      <td>263553</td>\n",
       "      <td>131879</td>\n",
       "      <td>Harald Wurm</td>\n",
       "      <td>M</td>\n",
       "      <td>29.0</td>\n",
       "      <td>178.0</td>\n",
       "      <td>71.0</td>\n",
       "      <td>Austria</td>\n",
       "      <td>AUT</td>\n",
       "      <td>2014 Winter</td>\n",
       "      <td>2014</td>\n",
       "      <td>Winter</td>\n",
       "      <td>Sochi</td>\n",
       "      <td>Cross Country Skiing</td>\n",
       "      <td>Cross Country Skiing Men's Team Sprint</td>\n",
       "      <td>NaN</td>\n",
       "    </tr>\n",
       "    <tr>\n",
       "      <td>43390</td>\n",
       "      <td>22368</td>\n",
       "      <td>Alexandra Coletti</td>\n",
       "      <td>F</td>\n",
       "      <td>22.0</td>\n",
       "      <td>164.0</td>\n",
       "      <td>60.0</td>\n",
       "      <td>Monaco</td>\n",
       "      <td>MON</td>\n",
       "      <td>2006 Winter</td>\n",
       "      <td>2006</td>\n",
       "      <td>Winter</td>\n",
       "      <td>Torino</td>\n",
       "      <td>Alpine Skiing</td>\n",
       "      <td>Alpine Skiing Women's Slalom</td>\n",
       "      <td>NaN</td>\n",
       "    </tr>\n",
       "  </tbody>\n",
       "</table>\n",
       "</div>"
      ],
      "text/plain": [
       "            ID                            Name Sex   Age  Height  Weight  \\\n",
       "60908    31201  Earl Hamilton Richard Eastwood   M  26.0     NaN     NaN   \n",
       "34965    18023                  Gilles Capelle   M  23.0   178.0    77.0   \n",
       "205673  103244     Igor Aleksandrovich Rudakov   M  37.0   187.0    98.0   \n",
       "263553  131879                     Harald Wurm   M  29.0   178.0    71.0   \n",
       "43390    22368               Alexandra Coletti   F  22.0   164.0    60.0   \n",
       "\n",
       "                Team  NOC        Games  Year  Season         City  \\\n",
       "60908         Canada  CAN  1932 Summer  1932  Summer  Los Angeles   \n",
       "34965         France  FRA  1972 Summer  1972  Summer       Munich   \n",
       "205673  Soviet Union  URS  1972 Summer  1972  Summer       Munich   \n",
       "263553       Austria  AUT  2014 Winter  2014  Winter        Sochi   \n",
       "43390         Monaco  MON  2006 Winter  2006  Winter       Torino   \n",
       "\n",
       "                       Sport                                   Event   Medal  \n",
       "60908                 Rowing               Rowing Men's Coxed Eights  Bronze  \n",
       "34965                 Hockey                     Hockey Men's Hockey     NaN  \n",
       "205673                Rowing                Rowing Men's Coxed Fours     NaN  \n",
       "263553  Cross Country Skiing  Cross Country Skiing Men's Team Sprint     NaN  \n",
       "43390          Alpine Skiing            Alpine Skiing Women's Slalom     NaN  "
      ]
     },
     "execution_count": 176,
     "metadata": {},
     "output_type": "execute_result"
    }
   ],
   "source": [
    "df = pd.read_csv('athlete_events.csv')\n",
    "print(\"The number of rows of the dataset is: \", len(df))\n",
    "print(\"The number of columns of the dataset is: \", len(df.columns))\n",
    "print(\"The shape of the dataset is: \", df.shape)\n",
    "df.sample(5)"
   ]
  },
  {
   "cell_type": "markdown",
   "metadata": {},
   "source": [
    "There are 271116 rows and 15 columns in 'athlete_events.csv' dataset.\n",
    "Details I noticed:\n",
    "1. There are a lot of NaN value in Medal column, it might be hard for future analysis.\n",
    "2. Values in Games column has overlaps with values in Year column, it might be better to remove redundant information.\n",
    "3. I have no idea what's the column before ID column."
   ]
  },
  {
   "cell_type": "markdown",
   "metadata": {},
   "source": [
    "### <span style=\"color:magenta\"> 5 pt: Without using dataframe.describe(), calculate the mean age, height, and weight for athletes in the data. Round your answer to the nearest hundredths. </span>"
   ]
  },
  {
   "cell_type": "code",
   "execution_count": 177,
   "metadata": {},
   "outputs": [
    {
     "name": "stdout",
     "output_type": "stream",
     "text": [
      "mean age is 25.56\n",
      "mean height is 175.34\n",
      "mean weight is 70.7\n"
     ]
    }
   ],
   "source": [
    "print('mean age is',round(df['Age'].mean(),2))\n",
    "print('mean height is',round(df['Height'].mean(),2))\n",
    "print('mean weight is',round(df['Weight'].mean(),2))"
   ]
  },
  {
   "cell_type": "markdown",
   "metadata": {},
   "source": [
    "Athletes' average age is 25.56, average height is 175.34cm, average weight is 70.70kg. "
   ]
  },
  {
   "cell_type": "markdown",
   "metadata": {},
   "source": [
    "### <span style=\"color:magenta\"> 5 pt: According to the data, how many unique cities have hosted the Olympic games? How many cities have hosted mutliple times? Which ones? </span>\n",
    "You will likely want to use drop_duplicates() on some subset of your athlete dataframe."
   ]
  },
  {
   "cell_type": "code",
   "execution_count": 178,
   "metadata": {},
   "outputs": [
    {
     "name": "stdout",
     "output_type": "stream",
     "text": [
      "42 unique cities have hosted the olympic games\n"
     ]
    },
    {
     "data": {
      "text/plain": [
       "City\n",
       "Albertville               1\n",
       "Montreal                  1\n",
       "Moskva                    1\n",
       "Munich                    1\n",
       "Nagano                    1\n",
       "Oslo                      1\n",
       "Rio de Janeiro            1\n",
       "Roma                      1\n",
       "Torino                    1\n",
       "Salt Lake City            1\n",
       "Sarajevo                  1\n",
       "Seoul                     1\n",
       "Sochi                     1\n",
       "Squaw Valley              1\n",
       "St. Louis                 1\n",
       "Sydney                    1\n",
       "Tokyo                     1\n",
       "Sapporo                   1\n",
       "Melbourne                 1\n",
       "Mexico City               1\n",
       "Vancouver                 1\n",
       "Lillehammer               1\n",
       "Amsterdam                 1\n",
       "Antwerpen                 1\n",
       "Helsinki                  1\n",
       "Grenoble                  1\n",
       "Garmisch-Partenkirchen    1\n",
       "Cortina d'Ampezzo         1\n",
       "Chamonix                  1\n",
       "Atlanta                   1\n",
       "Calgary                   1\n",
       "Berlin                    1\n",
       "Beijing                   1\n",
       "Barcelona                 1\n",
       "Stockholm                 2\n",
       "Sankt Moritz              2\n",
       "Paris                     2\n",
       "Innsbruck                 2\n",
       "Lake Placid               2\n",
       "Los Angeles               2\n",
       "Athina                    3\n",
       "London                    3\n",
       "Name: Year, dtype: int64"
      ]
     },
     "execution_count": 178,
     "metadata": {},
     "output_type": "execute_result"
    }
   ],
   "source": [
    "print(len(df.City.value_counts()), 'unique cities have hosted the olympic games')\n",
    "df.groupby('City')['Year'].nunique().sort_values()\n"
   ]
  },
  {
   "cell_type": "markdown",
   "metadata": {},
   "source": [
    "42 unique cities have hosted the olympic games.\n",
    "8 cities have hosted mutliple times: \n",
    "1. Stockholm                 2\n",
    "2. Sankt Moritz              2\n",
    "3. Paris                     2\n",
    "4. Innsbruck                 2\n",
    "5. Lake Placid               2\n",
    "6. Los Angeles               2\n",
    "7. Athina                    3\n",
    "8. London                    3"
   ]
  },
  {
   "cell_type": "markdown",
   "metadata": {},
   "source": [
    "### <span style=\"color:magenta\"> 10 pt: Generate histogram plots for the age, weight, and height for Norwegian female athletes who competed in the 1970s. Describe the plots and point out any interesting aspects. </span>"
   ]
  },
  {
   "cell_type": "code",
   "execution_count": 179,
   "metadata": {},
   "outputs": [],
   "source": [
    "c=df.copy()"
   ]
  },
  {
   "cell_type": "code",
   "execution_count": 180,
   "metadata": {},
   "outputs": [
    {
     "data": {
      "text/plain": [
       "<matplotlib.axes._subplots.AxesSubplot at 0x131cd55d0>"
      ]
     },
     "execution_count": 180,
     "metadata": {},
     "output_type": "execute_result"
    },
    {
     "data": {
      "image/png": "[encoded data removed]",
      "text/plain": [
       "<Figure size 432x288 with 1 Axes>"
      ]
     },
     "metadata": {
      "needs_background": "light"
     },
     "output_type": "display_data"
    }
   ],
   "source": [
    "c=c[c.Year//10==197]\n",
    "\n",
    "c[(c.Sex=='F') & (c.Team=='Norway')].Age.plot.hist()"
   ]
  },
  {
   "cell_type": "code",
   "execution_count": 181,
   "metadata": {},
   "outputs": [
    {
     "data": {
      "text/plain": [
       "<matplotlib.axes._subplots.AxesSubplot at 0x12881a590>"
      ]
     },
     "execution_count": 181,
     "metadata": {},
     "output_type": "execute_result"
    },
    {
     "data": {
      "image/png": "[encoded data removed]",
      "text/plain": [
       "<Figure size 432x288 with 1 Axes>"
      ]
     },
     "metadata": {
      "needs_background": "light"
     },
     "output_type": "display_data"
    }
   ],
   "source": [
    "c[(c.Sex=='F') & (c.Team=='Norway')].Weight.plot.hist()"
   ]
  },
  {
   "cell_type": "code",
   "execution_count": 182,
   "metadata": {},
   "outputs": [
    {
     "data": {
      "text/plain": [
       "<matplotlib.axes._subplots.AxesSubplot at 0x12893d490>"
      ]
     },
     "execution_count": 182,
     "metadata": {},
     "output_type": "execute_result"
    },
    {
     "data": {
      "image/png": "[encoded data removed]",
      "text/plain": [
       "<Figure size 432x288 with 1 Axes>"
      ]
     },
     "metadata": {
      "needs_background": "light"
     },
     "output_type": "display_data"
    }
   ],
   "source": [
    "c[(c.Sex=='F') & (c.Team=='Norway')].Height.plot.hist()"
   ]
  },
  {
   "cell_type": "markdown",
   "metadata": {},
   "source": [
    "There are certain amount of very young female athelet who aged between 10-20, consisting the majority of athelets. The distribution of height of Norwegian female athletes is interesting: half of them are below 166cm and another half are above 168cm. "
   ]
  },
  {
   "cell_type": "markdown",
   "metadata": {
    "colab_type": "text",
    "id": "0u5VM5ksbCTm"
   },
   "source": [
    "### <span style=\"color:magenta\"> 10 pt: Which athlete competed in the most number of events? In which events did the athelete participate, and for what range of years? Which country did the athlete represent? </span>"
   ]
  },
  {
   "cell_type": "code",
   "execution_count": 183,
   "metadata": {},
   "outputs": [
    {
     "data": {
      "text/plain": [
       "Robert Tait McKenzie        58\n",
       "Heikki Ilmari Savolainen    39\n",
       "Joseph \"Josy\" Stoffel       38\n",
       "Ioannis Theofilakis         36\n",
       "Takashi Ono                 33\n",
       "                            ..\n",
       "Pavel Ivanovich Kavetsky     1\n",
       "Devery Karz                  1\n",
       "Luca Negri                   1\n",
       "Mark Webster Chatfield       1\n",
       "Juan Terrazas                1\n",
       "Name: Name, Length: 134732, dtype: int64"
      ]
     },
     "execution_count": 183,
     "metadata": {},
     "output_type": "execute_result"
    }
   ],
   "source": [
    "df.Name.value_counts()"
   ]
  },
  {
   "cell_type": "code",
   "execution_count": 184,
   "metadata": {},
   "outputs": [
    {
     "data": {
      "text/plain": [
       "array(['Art Competitions Mixed Sculpturing',\n",
       "       'Art Competitions Mixed Sculpturing, Statues',\n",
       "       'Art Competitions Mixed Sculpturing, Medals And Reliefs',\n",
       "       'Art Competitions Mixed Sculpturing, Unknown Event',\n",
       "       'Art Competitions Mixed Sculpturing, Medals'], dtype=object)"
      ]
     },
     "execution_count": 184,
     "metadata": {},
     "output_type": "execute_result"
    }
   ],
   "source": [
    "new_df=df[df.Name=='Robert Tait McKenzie']\n",
    "new_df.Event.unique()"
   ]
  },
  {
   "cell_type": "code",
   "execution_count": 185,
   "metadata": {},
   "outputs": [
    {
     "data": {
      "text/html": [
       "<div>\n",
       "<style scoped>\n",
       "    .dataframe tbody tr th:only-of-type {\n",
       "        vertical-align: middle;\n",
       "    }\n",
       "\n",
       "    .dataframe tbody tr th {\n",
       "        vertical-align: top;\n",
       "    }\n",
       "\n",
       "    .dataframe thead th {\n",
       "        text-align: right;\n",
       "    }\n",
       "</style>\n",
       "<table border=\"1\" class=\"dataframe\">\n",
       "  <thead>\n",
       "    <tr style=\"text-align: right;\">\n",
       "      <th></th>\n",
       "      <th>ID</th>\n",
       "      <th>Age</th>\n",
       "      <th>Height</th>\n",
       "      <th>Weight</th>\n",
       "      <th>Year</th>\n",
       "    </tr>\n",
       "  </thead>\n",
       "  <tbody>\n",
       "    <tr>\n",
       "      <td>count</td>\n",
       "      <td>58.0</td>\n",
       "      <td>58.000000</td>\n",
       "      <td>0.0</td>\n",
       "      <td>0.0</td>\n",
       "      <td>58.000000</td>\n",
       "    </tr>\n",
       "    <tr>\n",
       "      <td>mean</td>\n",
       "      <td>77710.0</td>\n",
       "      <td>64.655172</td>\n",
       "      <td>NaN</td>\n",
       "      <td>NaN</td>\n",
       "      <td>1931.793103</td>\n",
       "    </tr>\n",
       "    <tr>\n",
       "      <td>std</td>\n",
       "      <td>0.0</td>\n",
       "      <td>4.071948</td>\n",
       "      <td>NaN</td>\n",
       "      <td>NaN</td>\n",
       "      <td>3.851446</td>\n",
       "    </tr>\n",
       "    <tr>\n",
       "      <td>min</td>\n",
       "      <td>77710.0</td>\n",
       "      <td>44.000000</td>\n",
       "      <td>NaN</td>\n",
       "      <td>NaN</td>\n",
       "      <td>1912.000000</td>\n",
       "    </tr>\n",
       "    <tr>\n",
       "      <td>25%</td>\n",
       "      <td>77710.0</td>\n",
       "      <td>65.000000</td>\n",
       "      <td>NaN</td>\n",
       "      <td>NaN</td>\n",
       "      <td>1932.000000</td>\n",
       "    </tr>\n",
       "    <tr>\n",
       "      <td>50%</td>\n",
       "      <td>77710.0</td>\n",
       "      <td>65.000000</td>\n",
       "      <td>NaN</td>\n",
       "      <td>NaN</td>\n",
       "      <td>1932.000000</td>\n",
       "    </tr>\n",
       "    <tr>\n",
       "      <td>75%</td>\n",
       "      <td>77710.0</td>\n",
       "      <td>65.000000</td>\n",
       "      <td>NaN</td>\n",
       "      <td>NaN</td>\n",
       "      <td>1932.000000</td>\n",
       "    </tr>\n",
       "    <tr>\n",
       "      <td>max</td>\n",
       "      <td>77710.0</td>\n",
       "      <td>81.000000</td>\n",
       "      <td>NaN</td>\n",
       "      <td>NaN</td>\n",
       "      <td>1948.000000</td>\n",
       "    </tr>\n",
       "  </tbody>\n",
       "</table>\n",
       "</div>"
      ],
      "text/plain": [
       "            ID        Age  Height  Weight         Year\n",
       "count     58.0  58.000000     0.0     0.0    58.000000\n",
       "mean   77710.0  64.655172     NaN     NaN  1931.793103\n",
       "std        0.0   4.071948     NaN     NaN     3.851446\n",
       "min    77710.0  44.000000     NaN     NaN  1912.000000\n",
       "25%    77710.0  65.000000     NaN     NaN  1932.000000\n",
       "50%    77710.0  65.000000     NaN     NaN  1932.000000\n",
       "75%    77710.0  65.000000     NaN     NaN  1932.000000\n",
       "max    77710.0  81.000000     NaN     NaN  1948.000000"
      ]
     },
     "execution_count": 185,
     "metadata": {},
     "output_type": "execute_result"
    }
   ],
   "source": [
    "new_df.describe()"
   ]
  },
  {
   "cell_type": "code",
   "execution_count": 186,
   "metadata": {},
   "outputs": [
    {
     "data": {
      "text/html": [
       "<div>\n",
       "<style scoped>\n",
       "    .dataframe tbody tr th:only-of-type {\n",
       "        vertical-align: middle;\n",
       "    }\n",
       "\n",
       "    .dataframe tbody tr th {\n",
       "        vertical-align: top;\n",
       "    }\n",
       "\n",
       "    .dataframe thead th {\n",
       "        text-align: right;\n",
       "    }\n",
       "</style>\n",
       "<table border=\"1\" class=\"dataframe\">\n",
       "  <thead>\n",
       "    <tr style=\"text-align: right;\">\n",
       "      <th></th>\n",
       "      <th>ID</th>\n",
       "      <th>Name</th>\n",
       "      <th>Sex</th>\n",
       "      <th>Age</th>\n",
       "      <th>Height</th>\n",
       "      <th>Weight</th>\n",
       "      <th>Team</th>\n",
       "      <th>NOC</th>\n",
       "      <th>Games</th>\n",
       "      <th>Year</th>\n",
       "      <th>Season</th>\n",
       "      <th>City</th>\n",
       "      <th>Sport</th>\n",
       "      <th>Event</th>\n",
       "      <th>Medal</th>\n",
       "    </tr>\n",
       "  </thead>\n",
       "  <tbody>\n",
       "    <tr>\n",
       "      <td>154798</td>\n",
       "      <td>77710</td>\n",
       "      <td>Robert Tait McKenzie</td>\n",
       "      <td>M</td>\n",
       "      <td>44.0</td>\n",
       "      <td>NaN</td>\n",
       "      <td>NaN</td>\n",
       "      <td>Canada</td>\n",
       "      <td>CAN</td>\n",
       "      <td>1912 Summer</td>\n",
       "      <td>1912</td>\n",
       "      <td>Summer</td>\n",
       "      <td>Stockholm</td>\n",
       "      <td>Art Competitions</td>\n",
       "      <td>Art Competitions Mixed Sculpturing</td>\n",
       "      <td>NaN</td>\n",
       "    </tr>\n",
       "  </tbody>\n",
       "</table>\n",
       "</div>"
      ],
      "text/plain": [
       "           ID                  Name Sex   Age  Height  Weight    Team  NOC  \\\n",
       "154798  77710  Robert Tait McKenzie   M  44.0     NaN     NaN  Canada  CAN   \n",
       "\n",
       "              Games  Year  Season       City             Sport  \\\n",
       "154798  1912 Summer  1912  Summer  Stockholm  Art Competitions   \n",
       "\n",
       "                                     Event Medal  \n",
       "154798  Art Competitions Mixed Sculpturing   NaN  "
      ]
     },
     "execution_count": 186,
     "metadata": {},
     "output_type": "execute_result"
    }
   ],
   "source": [
    "new_df.head(1)"
   ]
  },
  {
   "cell_type": "markdown",
   "metadata": {
    "colab_type": "text",
    "id": "CCuxztg3uYPQ"
   },
   "source": [
    "Robert Tait McKenzie competed in the most number of events. He/She participated in 'Art Competitions Mixed Sculpturing','Art Competitions Mixed Sculpturing, Statues','Art Competitions Mixed Sculpturing, Medals And Reliefs','Art Competitions Mixed Sculpturing, Unknown Event','Art Competitions Mixed Sculpturing, Medals'. The range of years is from 1912 to 1948. The representing country is Canada. "
   ]
  },
  {
   "cell_type": "markdown",
   "metadata": {},
   "source": [
    "### <span style=\"color:magenta\"> 10 pt: How many gold, silver, and bronze medals did Sawao Kato, one of the most successful Olympic athletes of all time, win during his Olympic career? What is the breakdown of events and medal types won for each? </span>"
   ]
  },
  {
   "cell_type": "code",
   "execution_count": 187,
   "metadata": {},
   "outputs": [
    {
     "data": {
      "text/plain": [
       "Gold      8\n",
       "Silver    3\n",
       "Bronze    1\n",
       "Name: Medal, dtype: int64"
      ]
     },
     "execution_count": 187,
     "metadata": {},
     "output_type": "execute_result"
    }
   ],
   "source": [
    "df[df.Name=='Sawao Kato'].Medal.value_counts()"
   ]
  },
  {
   "cell_type": "code",
   "execution_count": 188,
   "metadata": {},
   "outputs": [
    {
     "data": {
      "text/plain": [
       "Event                                   Medal \n",
       "Gymnastics Men's Floor Exercise         Gold      1\n",
       "Gymnastics Men's Horizontal Bar         Silver    1\n",
       "Gymnastics Men's Individual All-Around  Gold      2\n",
       "                                        Silver    1\n",
       "Gymnastics Men's Parallel Bars          Gold      2\n",
       "Gymnastics Men's Pommelled Horse        Silver    1\n",
       "Gymnastics Men's Rings                  Bronze    1\n",
       "Gymnastics Men's Team All-Around        Gold      3\n",
       "dtype: int64"
      ]
     },
     "execution_count": 188,
     "metadata": {},
     "output_type": "execute_result"
    }
   ],
   "source": [
    "df[df.Name=='Sawao Kato'].groupby(['Event' , 'Medal']).size()"
   ]
  },
  {
   "cell_type": "markdown",
   "metadata": {
    "colab_type": "text",
    "id": "CCuxztg3uYPQ"
   },
   "source": [
    "Sawao Kato has won 8 gold medals, 3 silver medals and 1 bronze medal. \n",
    "Specifically, the breakdown of events and medal types won for each are:\n",
    "\n",
    "1. Gymnastics Men's Floor Exercise         Gold      1\n",
    "2. Gymnastics Men's Horizontal Bar         Silver    1\n",
    "3. Gymnastics Men's Individual All-Around  Gold      2 Silver    1\n",
    "5. Gymnastics Men's Parallel Bars          Gold      2\n",
    "6. Gymnastics Men's Pommelled Horse        Silver    1\n",
    "7. Gymnastics Men's Rings                  Bronze    1\n",
    "8. Gymnastics Men's Team All-Around        Gold      3"
   ]
  },
  {
   "cell_type": "markdown",
   "metadata": {
    "colab_type": "text",
    "id": "2wH5ikUcbb16"
   },
   "source": [
    "### <span style=\"color:magenta\"> 10 pt: Which sport has the lowest median athlete age? </span>\n",
    "To determine this, you might want to plot the median age for each sport. You may want to sort the axes appropriately for your analysis."
   ]
  },
  {
   "cell_type": "code",
   "execution_count": 189,
   "metadata": {
    "colab": {},
    "colab_type": "code",
    "id": "GneWWgFVt62N"
   },
   "outputs": [
    {
     "data": {
      "text/plain": [
       "Sport\n",
       "Rhythmic Gymnastics      18.0\n",
       "Swimming                 20.0\n",
       "Synchronized Swimming    22.0\n",
       "Figure Skating           22.0\n",
       "Diving                   22.0\n",
       "                         ... \n",
       "Shooting                 33.0\n",
       "Polo                     35.0\n",
       "Alpinism                 38.0\n",
       "Art Competitions         45.0\n",
       "Roque                    59.0\n",
       "Name: Age, Length: 66, dtype: float64"
      ]
     },
     "execution_count": 189,
     "metadata": {},
     "output_type": "execute_result"
    }
   ],
   "source": [
    "df.groupby('Sport').Age.median().sort_values()"
   ]
  },
  {
   "cell_type": "markdown",
   "metadata": {
    "colab_type": "text",
    "id": "WlWYu2_5uY7K"
   },
   "source": [
    "Rhythmic Gymnastics has the lowest median athlete age, 18 years old. "
   ]
  },
  {
   "cell_type": "markdown",
   "metadata": {
    "colab_type": "text",
    "id": "7n5ybXFQcR-g"
   },
   "source": [
    "### <span style=\"color:magenta\"> 10 pt: Which country won the most medal points in all of the games held in 1992? </span>\n",
    "Rank each country by a score, where 3 points are assigned for a gold medal, 2 points for silver, and 1 point for bronze."
   ]
  },
  {
   "cell_type": "code",
   "execution_count": 190,
   "metadata": {
    "colab": {},
    "colab_type": "code",
    "id": "FoWTh2ekt8Wp"
   },
   "outputs": [
    {
     "data": {
      "text/plain": [
       "Team\n",
       "Albania            0.0\n",
       "Mali               0.0\n",
       "Malta              0.0\n",
       "Mauritania         0.0\n",
       "Mauritius          0.0\n",
       "                 ...  \n",
       "Canada           175.0\n",
       "Spain            185.0\n",
       "Germany          476.0\n",
       "United States    477.0\n",
       "Unified Team     586.0\n",
       "Name: Medal, Length: 239, dtype: float64"
      ]
     },
     "execution_count": 190,
     "metadata": {},
     "output_type": "execute_result"
    }
   ],
   "source": [
    "df_score=df[df.Year == 1992].replace({'Medal':'Gold'},{'Medal':int(3)}).replace({'Medal':'Silver'},{'Medal':int(2)}).replace({'Medal':'Bronze'},{'Medal':int(1)})\n",
    "df_score = df_score.groupby('Team')['Medal'].sum().sort_values()\n",
    "df_score"
   ]
  },
  {
   "cell_type": "markdown",
   "metadata": {
    "colab_type": "text",
    "id": "yN5zlizIuZa8"
   },
   "source": [
    "Soviet Union won the most medal points in all of the games held in 1992. (Unified Team is Soviet Union's team. source:https://en.wikipedia.org/wiki/Unified_Team_at_the_Olympics).\n",
    "\n",
    "# I want to write a if statement for a pandas dataframe but I don't know how, hope teaching team could provide such solutions in next class :)"
   ]
  },
  {
   "cell_type": "markdown",
   "metadata": {
    "colab_type": "text",
    "id": "wGoiQk8XbqHw"
   },
   "source": [
    "### <span style=\"color:magenta\"> 15 pt: The Soviet–American Cold War was a period of tension between the two superpowers between approximately the end of WWII and the late 1980s with the latent ideological tension playing out in a variety of ways including the Olympic Games. Which of the two countries won the most medals during the Cold War? </span>"
   ]
  },
  {
   "cell_type": "markdown",
   "metadata": {},
   "source": [
    "Note that to answer this question you will need to determine reasonable values for the beginning and end years of the Cold War. There is no single correct answer and you should justify your choices, citing your sources as appropriate."
   ]
  },
  {
   "cell_type": "code",
   "execution_count": 191,
   "metadata": {
    "colab": {},
    "colab_type": "code",
    "id": "FoWTh2ekt8Wp"
   },
   "outputs": [
    {
     "data": {
      "text/plain": [
       "Team\n",
       "Soviet Union     2451\n",
       "United States    1888\n",
       "East Germany      941\n",
       "Hungary           676\n",
       "West Germany      558\n",
       "                 ... \n",
       "Monica              0\n",
       "Moorina             0\n",
       "Morena              0\n",
       "Mozambique          0\n",
       "30. Februar         0\n",
       "Name: Medal, Length: 575, dtype: int64"
      ]
     },
     "execution_count": 191,
     "metadata": {},
     "output_type": "execute_result"
    }
   ],
   "source": [
    "df[(df.Year>= 1947) & (df.Year<=1991)].groupby('Team').Medal.count().sort_values(ascending=False)"
   ]
  },
  {
   "cell_type": "markdown",
   "metadata": {
    "colab_type": "text",
    "id": "lGrRhr22uan4"
   },
   "source": [
    "Cold war period is from 1947 – 1991.\n",
    "source: https://en.wikipedia.org/wiki/Cold_War\n",
    "\n",
    "soviet Union and United States are the two countries won the most medals during the Cold War\n"
   ]
  },
  {
   "cell_type": "markdown",
   "metadata": {
    "colab_type": "text",
    "id": "zKkwrNfbJ9zN"
   },
   "source": [
    "## Please submit your completed notebook in .IPYNB and .HTML formats via Canvas"
   ]
  },
  {
   "cell_type": "code",
   "execution_count": null,
   "metadata": {
    "colab": {},
    "colab_type": "code",
    "id": "LwtJoLsVJ9zO"
   },
   "outputs": [],
   "source": []
  }
 ],
 "metadata": {
  "colab": {
   "collapsed_sections": [],
   "name": "SI 618 FA 2018 Homework 1.ipynb",
   "provenance": [],
   "version": "0.3.2"
  },
  "kernelspec": {
   "display_name": "Python 3",
   "language": "python",
   "name": "python3"
  },
  "language_info": {
   "codemirror_mode": {
    "name": "ipython",
    "version": 3
   },
   "file_extension": ".py",
   "mimetype": "text/x-python",
   "name": "python",
   "nbconvert_exporter": "python",
   "pygments_lexer": "ipython3",
   "version": "3.7.4"
  }
 },
 "nbformat": 4,
 "nbformat_minor": 4
}
