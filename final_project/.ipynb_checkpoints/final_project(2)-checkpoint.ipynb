{
  "nbformat": 4,
  "nbformat_minor": 0,
  "metadata": {
    "kernelspec": {
      "display_name": "Python 3",
      "language": "python",
      "name": "python3"
    },
    "language_info": {
      "codemirror_mode": {
        "name": "ipython",
        "version": 3
      },
      "file_extension": ".py",
      "mimetype": "text/x-python",
      "name": "python",
      "nbconvert_exporter": "python",
      "pygments_lexer": "ipython3",
      "version": "3.7.4"
    },
    "colab": {
      "name": "final_project(1).ipynb",
      "provenance": [],
      "toc_visible": true
    }
  },
  "cells": [
    {
      "cell_type": "markdown",
      "metadata": {
        "id": "8p9xwFFR0b3U",
        "colab_type": "text"
      },
      "source": [
        "# Dataset overview\n",
        "The dataset is downloaded from https://www.kaggle.com/crowdflower/twitter-user-gender-classification\n",
        "\n",
        "The dataset contains the following fields:<br>\n",
        "unitid: a unique id for user<br>\n",
        "_golden: whether the user was included in the gold standard for the model; TRUE or FALSE<br>\n",
        "unitstate: state of the observation; one of finalized (for contributor-judged) or golden (for gold standard observations)<br>\n",
        "trustedjudgments: number of trusted judgments (int); always 3 for non-golden, and what may be a unique id for gold standard observations<br>\n",
        "lastjudgment_at: date and time of last contributor judgment; blank for gold standard observations<br>\n",
        "gender: one of male, female, or brand (for non-human profiles)<br>\n",
        "gender:confidence: a float representing confidence in the provided gender<br>\n",
        "profile_yn: \"no\" here seems to mean that the profile was meant to be part of the dataset but was not available when contributors went to judge it<br>\n",
        "profile_yn:confidence: confidence in the existence/non-existence of the profile<br>\n",
        "created: date and time when the profile was created<br>\n",
        "description: the user's profile description<br>\n",
        "fav_number: number of tweets the user has favorited<br>\n",
        "gender_gold: if the profile is golden, what is the gender?<br>\n",
        "link_color: the link color on the profile, as a hex value<br>\n",
        "name: the user's name<br>\n",
        "profileyngold: whether the profile y/n value is golden<br>\n",
        "profileimage: a link to the profile image<br>\n",
        "retweet_count: number of times the user has retweeted (or possibly, been retweeted)<br>\n",
        "sidebar_color: color of the profile sidebar, as a hex value<br>\n",
        "text: text of a random one of the user's tweets<br>\n",
        "tweet_coord: if the user has location turned on, the coordinates as a string with the format \"[latitude, longitude]\"<br>\n",
        "tweet_count: number of tweets that the user has posted<br>\n",
        "tweet_created: when the random tweet (in the text column) was created<br>\n",
        "tweet_id: the tweet id of the random tweet<br>\n",
        "tweet_location: location of the tweet; seems to not be particularly normalized<br>\n",
        "user_timezone: the timezone of the user<br>"
      ]
    },
    {
      "cell_type": "code",
      "metadata": {
        "id": "H9GA5kz20b3W",
        "colab_type": "code",
        "colab": {}
      },
      "source": [
        "import pandas as pd\n",
        "import numpy as np\n",
        "from collections import Counter\n",
        "import scipy as sp\n",
        "import sklearn as sk\n",
        "from sklearn.model_selection import train_test_split\n",
        "from sklearn.model_selection import cross_val_score\n",
        "import sklearn.ensemble as skens\n",
        "import sklearn.metrics as skmetric\n",
        "import sklearn.naive_bayes as sknb\n",
        "import sklearn.tree as sktree\n",
        "import matplotlib.pyplot as plt\n",
        "import matplotlib\n",
        "%matplotlib inline\n",
        "import seaborn as sns\n",
        "sns.set(style='white', color_codes=True, font_scale=1.3)\n",
        "import sklearn.externals.six as sksix\n",
        "import IPython.display as ipd\n",
        "from sklearn.model_selection import cross_val_score\n",
        "from sklearn import metrics\n",
        "import os\n",
        "import warnings\n",
        "from sklearn.model_selection import GridSearchCV\n",
        "import datetime as dt\n",
        "from sklearn.metrics import accuracy_score\n",
        "import nltk\n",
        "from nltk.corpus import stopwords\n",
        "import re\n",
        "import os\n",
        "from os import path\n",
        "from wordcloud import WordCloud\n",
        "from PIL import Image\n",
        "from wordcloud import WordCloud, STOPWORDS, ImageColorGenerator\n",
        "from tqdm import tqdm\n",
        "tqdm.pandas(desc=\"progress-bar\")\n",
        "from gensim.models import Doc2Vec\n",
        "from sklearn import utils\n",
        "import gensim\n",
        "from sklearn.linear_model import LogisticRegression\n",
        "from gensim.models.doc2vec import TaggedDocument\n",
        "import multiprocessing\n",
        "warnings.filterwarnings('ignore')\n",
        "from gensim.models.doc2vec import TaggedDocument"
      ],
      "execution_count": 0,
      "outputs": []
    },
    {
      "cell_type": "code",
      "metadata": {
        "id": "v60XYRUy0b3d",
        "colab_type": "code",
        "colab": {}
      },
      "source": [
        "dataset=pd.read_csv('/content/gender-classifier-DFE-791531.csv', encoding = \"ISO-8859-1\")"
      ],
      "execution_count": 0,
      "outputs": []
    },
    {
      "cell_type": "markdown",
      "metadata": {
        "id": "eykObQaq0b3j",
        "colab_type": "text"
      },
      "source": [
        "# Data Cleaning and Exploration"
      ]
    },
    {
      "cell_type": "code",
      "metadata": {
        "id": "OuOKT6Wm0b3k",
        "colab_type": "code",
        "colab": {
          "base_uri": "https://localhost:8080/",
          "height": 484
        },
        "outputId": "e9890148-3b47-459a-c936-a36561b70af8"
      },
      "source": [
        "dataset.head()"
      ],
      "execution_count": 6,
      "outputs": [
        {
          "output_type": "execute_result",
          "data": {
            "text/html": [
              "<div>\n",
              "<style scoped>\n",
              "    .dataframe tbody tr th:only-of-type {\n",
              "        vertical-align: middle;\n",
              "    }\n",
              "\n",
              "    .dataframe tbody tr th {\n",
              "        vertical-align: top;\n",
              "    }\n",
              "\n",
              "    .dataframe thead th {\n",
              "        text-align: right;\n",
              "    }\n",
              "</style>\n",
              "<table border=\"1\" class=\"dataframe\">\n",
              "  <thead>\n",
              "    <tr style=\"text-align: right;\">\n",
              "      <th></th>\n",
              "      <th>_unit_id</th>\n",
              "      <th>_golden</th>\n",
              "      <th>_unit_state</th>\n",
              "      <th>_trusted_judgments</th>\n",
              "      <th>_last_judgment_at</th>\n",
              "      <th>gender</th>\n",
              "      <th>gender:confidence</th>\n",
              "      <th>profile_yn</th>\n",
              "      <th>profile_yn:confidence</th>\n",
              "      <th>created</th>\n",
              "      <th>description</th>\n",
              "      <th>fav_number</th>\n",
              "      <th>gender_gold</th>\n",
              "      <th>link_color</th>\n",
              "      <th>name</th>\n",
              "      <th>profile_yn_gold</th>\n",
              "      <th>profileimage</th>\n",
              "      <th>retweet_count</th>\n",
              "      <th>sidebar_color</th>\n",
              "      <th>text</th>\n",
              "      <th>tweet_coord</th>\n",
              "      <th>tweet_count</th>\n",
              "      <th>tweet_created</th>\n",
              "      <th>tweet_id</th>\n",
              "      <th>tweet_location</th>\n",
              "      <th>user_timezone</th>\n",
              "    </tr>\n",
              "  </thead>\n",
              "  <tbody>\n",
              "    <tr>\n",
              "      <th>0</th>\n",
              "      <td>815719226</td>\n",
              "      <td>False</td>\n",
              "      <td>finalized</td>\n",
              "      <td>3</td>\n",
              "      <td>10/26/15 23:24</td>\n",
              "      <td>male</td>\n",
              "      <td>1.0000</td>\n",
              "      <td>yes</td>\n",
              "      <td>1.0</td>\n",
              "      <td>12/5/13 1:48</td>\n",
              "      <td>i sing my own rhythm.</td>\n",
              "      <td>0</td>\n",
              "      <td>NaN</td>\n",
              "      <td>08C2C2</td>\n",
              "      <td>sheezy0</td>\n",
              "      <td>NaN</td>\n",
              "      <td>https://pbs.twimg.com/profile_images/414342229...</td>\n",
              "      <td>0</td>\n",
              "      <td>FFFFFF</td>\n",
              "      <td>Robbie E Responds To Critics After Win Against...</td>\n",
              "      <td>NaN</td>\n",
              "      <td>110964</td>\n",
              "      <td>10/26/15 12:40</td>\n",
              "      <td>6.587300e+17</td>\n",
              "      <td>main; @Kan1shk3</td>\n",
              "      <td>Chennai</td>\n",
              "    </tr>\n",
              "    <tr>\n",
              "      <th>1</th>\n",
              "      <td>815719227</td>\n",
              "      <td>False</td>\n",
              "      <td>finalized</td>\n",
              "      <td>3</td>\n",
              "      <td>10/26/15 23:30</td>\n",
              "      <td>male</td>\n",
              "      <td>1.0000</td>\n",
              "      <td>yes</td>\n",
              "      <td>1.0</td>\n",
              "      <td>10/1/12 13:51</td>\n",
              "      <td>I'm the author of novels filled with family dr...</td>\n",
              "      <td>68</td>\n",
              "      <td>NaN</td>\n",
              "      <td>0084B4</td>\n",
              "      <td>DavdBurnett</td>\n",
              "      <td>NaN</td>\n",
              "      <td>https://pbs.twimg.com/profile_images/539604221...</td>\n",
              "      <td>0</td>\n",
              "      <td>C0DEED</td>\n",
              "      <td>ÛÏIt felt like they were my friends and I was...</td>\n",
              "      <td>NaN</td>\n",
              "      <td>7471</td>\n",
              "      <td>10/26/15 12:40</td>\n",
              "      <td>6.587300e+17</td>\n",
              "      <td>NaN</td>\n",
              "      <td>Eastern Time (US &amp; Canada)</td>\n",
              "    </tr>\n",
              "    <tr>\n",
              "      <th>2</th>\n",
              "      <td>815719228</td>\n",
              "      <td>False</td>\n",
              "      <td>finalized</td>\n",
              "      <td>3</td>\n",
              "      <td>10/26/15 23:33</td>\n",
              "      <td>male</td>\n",
              "      <td>0.6625</td>\n",
              "      <td>yes</td>\n",
              "      <td>1.0</td>\n",
              "      <td>11/28/14 11:30</td>\n",
              "      <td>louis whining and squealing and all</td>\n",
              "      <td>7696</td>\n",
              "      <td>NaN</td>\n",
              "      <td>ABB8C2</td>\n",
              "      <td>lwtprettylaugh</td>\n",
              "      <td>NaN</td>\n",
              "      <td>https://pbs.twimg.com/profile_images/657330418...</td>\n",
              "      <td>1</td>\n",
              "      <td>C0DEED</td>\n",
              "      <td>i absolutely adore when louis starts the songs...</td>\n",
              "      <td>NaN</td>\n",
              "      <td>5617</td>\n",
              "      <td>10/26/15 12:40</td>\n",
              "      <td>6.587300e+17</td>\n",
              "      <td>clcncl</td>\n",
              "      <td>Belgrade</td>\n",
              "    </tr>\n",
              "    <tr>\n",
              "      <th>3</th>\n",
              "      <td>815719229</td>\n",
              "      <td>False</td>\n",
              "      <td>finalized</td>\n",
              "      <td>3</td>\n",
              "      <td>10/26/15 23:10</td>\n",
              "      <td>male</td>\n",
              "      <td>1.0000</td>\n",
              "      <td>yes</td>\n",
              "      <td>1.0</td>\n",
              "      <td>6/11/09 22:39</td>\n",
              "      <td>Mobile guy.  49ers, Shazam, Google, Kleiner Pe...</td>\n",
              "      <td>202</td>\n",
              "      <td>NaN</td>\n",
              "      <td>0084B4</td>\n",
              "      <td>douggarland</td>\n",
              "      <td>NaN</td>\n",
              "      <td>https://pbs.twimg.com/profile_images/259703936...</td>\n",
              "      <td>0</td>\n",
              "      <td>C0DEED</td>\n",
              "      <td>Hi @JordanSpieth - Looking at the url - do you...</td>\n",
              "      <td>NaN</td>\n",
              "      <td>1693</td>\n",
              "      <td>10/26/15 12:40</td>\n",
              "      <td>6.587300e+17</td>\n",
              "      <td>Palo Alto, CA</td>\n",
              "      <td>Pacific Time (US &amp; Canada)</td>\n",
              "    </tr>\n",
              "    <tr>\n",
              "      <th>4</th>\n",
              "      <td>815719230</td>\n",
              "      <td>False</td>\n",
              "      <td>finalized</td>\n",
              "      <td>3</td>\n",
              "      <td>10/27/15 1:15</td>\n",
              "      <td>female</td>\n",
              "      <td>1.0000</td>\n",
              "      <td>yes</td>\n",
              "      <td>1.0</td>\n",
              "      <td>4/16/14 13:23</td>\n",
              "      <td>Ricky Wilson The Best FRONTMAN/Kaiser Chiefs T...</td>\n",
              "      <td>37318</td>\n",
              "      <td>NaN</td>\n",
              "      <td>3B94D9</td>\n",
              "      <td>WilfordGemma</td>\n",
              "      <td>NaN</td>\n",
              "      <td>https://pbs.twimg.com/profile_images/564094871...</td>\n",
              "      <td>0</td>\n",
              "      <td>0</td>\n",
              "      <td>Watching Neighbours on Sky+ catching up with t...</td>\n",
              "      <td>NaN</td>\n",
              "      <td>31462</td>\n",
              "      <td>10/26/15 12:40</td>\n",
              "      <td>6.587300e+17</td>\n",
              "      <td>NaN</td>\n",
              "      <td>NaN</td>\n",
              "    </tr>\n",
              "  </tbody>\n",
              "</table>\n",
              "</div>"
            ],
            "text/plain": [
              "    _unit_id  _golden  ...   tweet_location               user_timezone\n",
              "0  815719226    False  ...  main; @Kan1shk3                     Chennai\n",
              "1  815719227    False  ...              NaN  Eastern Time (US & Canada)\n",
              "2  815719228    False  ...           clcncl                    Belgrade\n",
              "3  815719229    False  ...    Palo Alto, CA  Pacific Time (US & Canada)\n",
              "4  815719230    False  ...              NaN                         NaN\n",
              "\n",
              "[5 rows x 26 columns]"
            ]
          },
          "metadata": {
            "tags": []
          },
          "execution_count": 6
        }
      ]
    },
    {
      "cell_type": "code",
      "metadata": {
        "id": "BaC2GtIj0b3t",
        "colab_type": "code",
        "colab": {
          "base_uri": "https://localhost:8080/",
          "height": 34
        },
        "outputId": "58bb231e-f457-461a-b4e9-dfc22a24811e"
      },
      "source": [
        "dataset.shape"
      ],
      "execution_count": 7,
      "outputs": [
        {
          "output_type": "execute_result",
          "data": {
            "text/plain": [
              "(20050, 26)"
            ]
          },
          "metadata": {
            "tags": []
          },
          "execution_count": 7
        }
      ]
    },
    {
      "cell_type": "code",
      "metadata": {
        "id": "jGb_Z6Dq0b30",
        "colab_type": "code",
        "colab": {
          "base_uri": "https://localhost:8080/",
          "height": 134
        },
        "outputId": "fa2a57bb-873b-4e5a-f171-5e8f6e50efe2"
      },
      "source": [
        "dataset.columns"
      ],
      "execution_count": 8,
      "outputs": [
        {
          "output_type": "execute_result",
          "data": {
            "text/plain": [
              "Index(['_unit_id', '_golden', '_unit_state', '_trusted_judgments',\n",
              "       '_last_judgment_at', 'gender', 'gender:confidence', 'profile_yn',\n",
              "       'profile_yn:confidence', 'created', 'description', 'fav_number',\n",
              "       'gender_gold', 'link_color', 'name', 'profile_yn_gold', 'profileimage',\n",
              "       'retweet_count', 'sidebar_color', 'text', 'tweet_coord', 'tweet_count',\n",
              "       'tweet_created', 'tweet_id', 'tweet_location', 'user_timezone'],\n",
              "      dtype='object')"
            ]
          },
          "metadata": {
            "tags": []
          },
          "execution_count": 8
        }
      ]
    },
    {
      "cell_type": "code",
      "metadata": {
        "id": "FJ-hBi7G0b36",
        "colab_type": "code",
        "colab": {}
      },
      "source": [
        "# After checked the variables, I decide to drop some columns that I think are irrelevant to my analysis or with too many n/a values.\n",
        "dataset_clean=dataset.drop(columns=['_unit_id','_golden','_unit_state','_trusted_judgments','_last_judgment_at','profile_yn', 'profile_yn:confidence', 'created', 'gender_gold', 'name','profile_yn_gold','profileimage','tweet_coord','tweet_created','tweet_id','tweet_location','user_timezone'])"
      ],
      "execution_count": 0,
      "outputs": []
    },
    {
      "cell_type": "code",
      "metadata": {
        "id": "QBEG4rWZ0b4A",
        "colab_type": "code",
        "colab": {
          "base_uri": "https://localhost:8080/",
          "height": 101
        },
        "outputId": "0eff1602-362d-44e6-e4a1-15a9660df68d"
      },
      "source": [
        "# Check gender distribution\n",
        "# I don't want to drop unknown since it has large data, and it could becuase people find it's difficult to find their identity\n",
        "dataset_clean.gender.value_counts()"
      ],
      "execution_count": 10,
      "outputs": [
        {
          "output_type": "execute_result",
          "data": {
            "text/plain": [
              "female     6700\n",
              "male       6194\n",
              "brand      5942\n",
              "unknown    1117\n",
              "Name: gender, dtype: int64"
            ]
          },
          "metadata": {
            "tags": []
          },
          "execution_count": 10
        }
      ]
    },
    {
      "cell_type": "code",
      "metadata": {
        "id": "UYnh0ftK0b4I",
        "colab_type": "code",
        "colab": {
          "base_uri": "https://localhost:8080/",
          "height": 185
        },
        "outputId": "e397929c-3bad-410d-914e-c4264605e625"
      },
      "source": [
        "dataset_clean.isnull().sum()"
      ],
      "execution_count": 11,
      "outputs": [
        {
          "output_type": "execute_result",
          "data": {
            "text/plain": [
              "gender                 97\n",
              "gender:confidence      26\n",
              "description          3744\n",
              "fav_number              0\n",
              "link_color              0\n",
              "retweet_count           0\n",
              "sidebar_color           0\n",
              "text                    0\n",
              "tweet_count             0\n",
              "dtype: int64"
            ]
          },
          "metadata": {
            "tags": []
          },
          "execution_count": 11
        }
      ]
    },
    {
      "cell_type": "code",
      "metadata": {
        "id": "i5Hvr9rU0b4N",
        "colab_type": "code",
        "colab": {
          "base_uri": "https://localhost:8080/",
          "height": 185
        },
        "outputId": "5097d674-7d9e-4c8d-efc7-f7c5d66b6045"
      },
      "source": [
        "dataset_clean.nunique()"
      ],
      "execution_count": 12,
      "outputs": [
        {
          "output_type": "execute_result",
          "data": {
            "text/plain": [
              "gender                   4\n",
              "gender:confidence      923\n",
              "description          15140\n",
              "fav_number            6784\n",
              "link_color            3001\n",
              "retweet_count           22\n",
              "sidebar_color          561\n",
              "text                 18412\n",
              "tweet_count          14280\n",
              "dtype: int64"
            ]
          },
          "metadata": {
            "tags": []
          },
          "execution_count": 12
        }
      ]
    },
    {
      "cell_type": "code",
      "metadata": {
        "id": "iAXQ94la0b4S",
        "colab_type": "code",
        "colab": {}
      },
      "source": [
        "# since the null value amount is relatively small for gender and gender:confidence columns, so I decide to drop them\n",
        "dataset_clean=dataset_clean.dropna(subset=['gender', 'gender:confidence'])"
      ],
      "execution_count": 0,
      "outputs": []
    },
    {
      "cell_type": "code",
      "metadata": {
        "id": "9aIpIjVK0b4Y",
        "colab_type": "code",
        "colab": {
          "base_uri": "https://localhost:8080/",
          "height": 339
        },
        "outputId": "e0bee92e-e206-429d-d740-0c9da5d6d70c"
      },
      "source": [
        "# visualize gender column\n",
        "cnt_pro = dataset_clean['gender'].value_counts()\n",
        "plt.figure(figsize=(12,4))\n",
        "sns.barplot(cnt_pro.index, cnt_pro.values, alpha=0.8)\n",
        "plt.ylabel('Number of Occurrences', fontsize=12)\n",
        "plt.xlabel('Gender', fontsize=12)\n",
        "plt.xticks(rotation=90)\n",
        "plt.show();"
      ],
      "execution_count": 14,
      "outputs": [
        {
          "output_type": "display_data",
          "data": {
            "image/png": "[encoded data removed]",
            "text/plain": [
              "<Figure size 864x288 with 1 Axes>"
            ]
          },
          "metadata": {
            "tags": []
          }
        }
      ]
    },
    {
      "cell_type": "code",
      "metadata": {
        "id": "mlyi7MgW0b4g",
        "colab_type": "code",
        "colab": {
          "base_uri": "https://localhost:8080/",
          "height": 289
        },
        "outputId": "43381071-862b-4f8d-9065-4272b3eaa742"
      },
      "source": [
        "dataset_clean['gender:confidence'].hist()"
      ],
      "execution_count": 15,
      "outputs": [
        {
          "output_type": "execute_result",
          "data": {
            "text/plain": [
              "<matplotlib.axes._subplots.AxesSubplot at 0x7f681ad19e10>"
            ]
          },
          "metadata": {
            "tags": []
          },
          "execution_count": 15
        },
        {
          "output_type": "display_data",
          "data": {
            "image/png": "[encoded data removed]",
            "text/plain": [
              "<Figure size 432x288 with 1 Axes>"
            ]
          },
          "metadata": {
            "tags": []
          }
        }
      ]
    },
    {
      "cell_type": "code",
      "metadata": {
        "id": "2oD3G3e40b4l",
        "colab_type": "code",
        "colab": {
          "base_uri": "https://localhost:8080/",
          "height": 373
        },
        "outputId": "074d20ad-bfd4-49c4-9e24-d977c776b50c"
      },
      "source": [
        "dataset_clean.fav_number.hist(range=[1,500],bins=50)\n",
        "dataset_clean.fav_number.value_counts().head()"
      ],
      "execution_count": 16,
      "outputs": [
        {
          "output_type": "execute_result",
          "data": {
            "text/plain": [
              "0    3326\n",
              "1     393\n",
              "2     253\n",
              "3     193\n",
              "5     162\n",
              "Name: fav_number, dtype: int64"
            ]
          },
          "metadata": {
            "tags": []
          },
          "execution_count": 16
        },
        {
          "output_type": "display_data",
          "data": {
            "image/png": "[encoded data removed]",
            "text/plain": [
              "<Figure size 432x288 with 1 Axes>"
            ]
          },
          "metadata": {
            "tags": []
          }
        }
      ]
    },
    {
      "cell_type": "code",
      "metadata": {
        "id": "RVRvnLOR0b4p",
        "colab_type": "code",
        "colab": {
          "base_uri": "https://localhost:8080/",
          "height": 363
        },
        "outputId": "6fa77cf2-f2cf-4a78-a18b-77022b3acf48"
      },
      "source": [
        "dataset_clean.head()"
      ],
      "execution_count": 17,
      "outputs": [
        {
          "output_type": "execute_result",
          "data": {
            "text/html": [
              "<div>\n",
              "<style scoped>\n",
              "    .dataframe tbody tr th:only-of-type {\n",
              "        vertical-align: middle;\n",
              "    }\n",
              "\n",
              "    .dataframe tbody tr th {\n",
              "        vertical-align: top;\n",
              "    }\n",
              "\n",
              "    .dataframe thead th {\n",
              "        text-align: right;\n",
              "    }\n",
              "</style>\n",
              "<table border=\"1\" class=\"dataframe\">\n",
              "  <thead>\n",
              "    <tr style=\"text-align: right;\">\n",
              "      <th></th>\n",
              "      <th>gender</th>\n",
              "      <th>gender:confidence</th>\n",
              "      <th>description</th>\n",
              "      <th>fav_number</th>\n",
              "      <th>link_color</th>\n",
              "      <th>retweet_count</th>\n",
              "      <th>sidebar_color</th>\n",
              "      <th>text</th>\n",
              "      <th>tweet_count</th>\n",
              "    </tr>\n",
              "  </thead>\n",
              "  <tbody>\n",
              "    <tr>\n",
              "      <th>0</th>\n",
              "      <td>male</td>\n",
              "      <td>1.0000</td>\n",
              "      <td>i sing my own rhythm.</td>\n",
              "      <td>0</td>\n",
              "      <td>08C2C2</td>\n",
              "      <td>0</td>\n",
              "      <td>FFFFFF</td>\n",
              "      <td>Robbie E Responds To Critics After Win Against...</td>\n",
              "      <td>110964</td>\n",
              "    </tr>\n",
              "    <tr>\n",
              "      <th>1</th>\n",
              "      <td>male</td>\n",
              "      <td>1.0000</td>\n",
              "      <td>I'm the author of novels filled with family dr...</td>\n",
              "      <td>68</td>\n",
              "      <td>0084B4</td>\n",
              "      <td>0</td>\n",
              "      <td>C0DEED</td>\n",
              "      <td>ÛÏIt felt like they were my friends and I was...</td>\n",
              "      <td>7471</td>\n",
              "    </tr>\n",
              "    <tr>\n",
              "      <th>2</th>\n",
              "      <td>male</td>\n",
              "      <td>0.6625</td>\n",
              "      <td>louis whining and squealing and all</td>\n",
              "      <td>7696</td>\n",
              "      <td>ABB8C2</td>\n",
              "      <td>1</td>\n",
              "      <td>C0DEED</td>\n",
              "      <td>i absolutely adore when louis starts the songs...</td>\n",
              "      <td>5617</td>\n",
              "    </tr>\n",
              "    <tr>\n",
              "      <th>3</th>\n",
              "      <td>male</td>\n",
              "      <td>1.0000</td>\n",
              "      <td>Mobile guy.  49ers, Shazam, Google, Kleiner Pe...</td>\n",
              "      <td>202</td>\n",
              "      <td>0084B4</td>\n",
              "      <td>0</td>\n",
              "      <td>C0DEED</td>\n",
              "      <td>Hi @JordanSpieth - Looking at the url - do you...</td>\n",
              "      <td>1693</td>\n",
              "    </tr>\n",
              "    <tr>\n",
              "      <th>4</th>\n",
              "      <td>female</td>\n",
              "      <td>1.0000</td>\n",
              "      <td>Ricky Wilson The Best FRONTMAN/Kaiser Chiefs T...</td>\n",
              "      <td>37318</td>\n",
              "      <td>3B94D9</td>\n",
              "      <td>0</td>\n",
              "      <td>0</td>\n",
              "      <td>Watching Neighbours on Sky+ catching up with t...</td>\n",
              "      <td>31462</td>\n",
              "    </tr>\n",
              "  </tbody>\n",
              "</table>\n",
              "</div>"
            ],
            "text/plain": [
              "   gender  ...  tweet_count\n",
              "0    male  ...       110964\n",
              "1    male  ...         7471\n",
              "2    male  ...         5617\n",
              "3    male  ...         1693\n",
              "4  female  ...        31462\n",
              "\n",
              "[5 rows x 9 columns]"
            ]
          },
          "metadata": {
            "tags": []
          },
          "execution_count": 17
        }
      ]
    },
    {
      "cell_type": "code",
      "metadata": {
        "id": "dpqdmeTZ0b4s",
        "colab_type": "code",
        "colab": {
          "base_uri": "https://localhost:8080/",
          "height": 185
        },
        "outputId": "92d3abc1-e819-4f17-9673-a6f9eebf7e1a"
      },
      "source": [
        "# handle the text data, since there are many n/a value in description column, but it's a important feature, so I will put special text for the n/a values\n",
        "dataset_clean['description'].fillna('no_description',inplace=True)\n",
        "dataset_clean.isnull().sum()"
      ],
      "execution_count": 18,
      "outputs": [
        {
          "output_type": "execute_result",
          "data": {
            "text/plain": [
              "gender               0\n",
              "gender:confidence    0\n",
              "description          0\n",
              "fav_number           0\n",
              "link_color           0\n",
              "retweet_count        0\n",
              "sidebar_color        0\n",
              "text                 0\n",
              "tweet_count          0\n",
              "dtype: int64"
            ]
          },
          "metadata": {
            "tags": []
          },
          "execution_count": 18
        }
      ]
    },
    {
      "cell_type": "code",
      "metadata": {
        "id": "M2fz3YAo0b4w",
        "colab_type": "code",
        "colab": {
          "base_uri": "https://localhost:8080/",
          "height": 34
        },
        "outputId": "bcb6b7e2-4524-40b4-c7be-16cabbd7fa81"
      },
      "source": [
        "dataset_clean['text'].apply(lambda x: len(x.split(' '))).sum()"
      ],
      "execution_count": 19,
      "outputs": [
        {
          "output_type": "execute_result",
          "data": {
            "text/plain": [
              "309434"
            ]
          },
          "metadata": {
            "tags": []
          },
          "execution_count": 19
        }
      ]
    },
    {
      "cell_type": "code",
      "metadata": {
        "id": "51nKUx6p0b41",
        "colab_type": "code",
        "colab": {
          "base_uri": "https://localhost:8080/",
          "height": 34
        },
        "outputId": "183e8f8f-a0a8-4a4f-c8d9-53a3761d7bbd"
      },
      "source": [
        "dataset_clean['description'].apply(lambda x: len(x.split(' '))).sum()"
      ],
      "execution_count": 20,
      "outputs": [
        {
          "output_type": "execute_result",
          "data": {
            "text/plain": [
              "221999"
            ]
          },
          "metadata": {
            "tags": []
          },
          "execution_count": 20
        }
      ]
    },
    {
      "cell_type": "code",
      "metadata": {
        "id": "rm2c8F-30b44",
        "colab_type": "code",
        "colab": {}
      },
      "source": [
        ""
      ],
      "execution_count": 0,
      "outputs": []
    },
    {
      "cell_type": "code",
      "metadata": {
        "id": "wZg5YqHz0b48",
        "colab_type": "code",
        "colab": {
          "base_uri": "https://localhost:8080/",
          "height": 118
        },
        "outputId": "ab2ac15b-16d7-4afe-adf5-1915a9a44433"
      },
      "source": [
        "tweet_length = np.array(list(map(len, dataset_clean.text.str.split(' '))))\n",
        "description_length = np.array(list(map(len, dataset_clean.description.str.split(' '))))\n",
        "\n",
        "    \n",
        "print(\"The average number of words in a tweet is: {}.\".format(np.mean(tweet_length)))\n",
        "print(\"The minimum number of words in a tweet is: {}.\".format(min(tweet_length)))\n",
        "print(\"The maximum number of words in a tweet is: {}.\".format(max(tweet_length)))\n",
        "\n",
        "print(\"The average number of words in a description is: {}.\".format(np.mean(description_length)))\n",
        "print(\"The minimum number of words in a description is: {}.\".format(min(description_length)))\n",
        "print(\"The maximum number of words in a description is: {}.\".format(max(description_length)))"
      ],
      "execution_count": 21,
      "outputs": [
        {
          "output_type": "stream",
          "text": [
            "The average number of words in a tweet is: 15.508144138726006.\n",
            "The minimum number of words in a tweet is: 1.\n",
            "The maximum number of words in a tweet is: 45.\n",
            "The average number of words in a description is: 11.126096326366962.\n",
            "The minimum number of words in a description is: 1.\n",
            "The maximum number of words in a description is: 129.\n"
          ],
          "name": "stdout"
        }
      ]
    },
    {
      "cell_type": "code",
      "metadata": {
        "id": "Z8yrjfOQ0b5C",
        "colab_type": "code",
        "colab": {
          "base_uri": "https://localhost:8080/",
          "height": 50
        },
        "outputId": "f16cc158-8d10-4d8e-fc6c-033584d31ac3"
      },
      "source": [
        "print(\"There are {} tweets with over 15 words.\".format(sum(dataset_clean[\"text_length\"] > 15)))\n",
        "print(\"There are {} description with over 11 words.\".format(sum(dataset_clean[\"description_length\"] > 11)))"
      ],
      "execution_count": 28,
      "outputs": [
        {
          "output_type": "stream",
          "text": [
            "There are 9875 tweets with over 15 words.\n",
            "There are 8809 description with over 11 words.\n"
          ],
          "name": "stdout"
        }
      ]
    },
    {
      "cell_type": "code",
      "metadata": {
        "id": "B-AIp4Rb0b5F",
        "colab_type": "code",
        "colab": {}
      },
      "source": [
        "dataset_clean[\"text_length\"]=dataset_clean[\"text\"].apply(lambda x: len(x.split(' ')))\n",
        "dataset_clean[\"description_length\"]=dataset_clean[\"description\"].apply(lambda x: len(x.split(' ')))"
      ],
      "execution_count": 0,
      "outputs": []
    },
    {
      "cell_type": "code",
      "metadata": {
        "id": "G4EHh02F0b5J",
        "colab_type": "code",
        "colab": {
          "base_uri": "https://localhost:8080/",
          "height": 909
        },
        "outputId": "0011c8fb-6a95-4f0e-d842-c99d9d591862"
      },
      "source": [
        "dataset_clean"
      ],
      "execution_count": 29,
      "outputs": [
        {
          "output_type": "execute_result",
          "data": {
            "text/html": [
              "<div>\n",
              "<style scoped>\n",
              "    .dataframe tbody tr th:only-of-type {\n",
              "        vertical-align: middle;\n",
              "    }\n",
              "\n",
              "    .dataframe tbody tr th {\n",
              "        vertical-align: top;\n",
              "    }\n",
              "\n",
              "    .dataframe thead th {\n",
              "        text-align: right;\n",
              "    }\n",
              "</style>\n",
              "<table border=\"1\" class=\"dataframe\">\n",
              "  <thead>\n",
              "    <tr style=\"text-align: right;\">\n",
              "      <th></th>\n",
              "      <th>gender</th>\n",
              "      <th>gender:confidence</th>\n",
              "      <th>description</th>\n",
              "      <th>fav_number</th>\n",
              "      <th>link_color</th>\n",
              "      <th>retweet_count</th>\n",
              "      <th>sidebar_color</th>\n",
              "      <th>text</th>\n",
              "      <th>tweet_count</th>\n",
              "      <th>text_length</th>\n",
              "      <th>description_length</th>\n",
              "    </tr>\n",
              "  </thead>\n",
              "  <tbody>\n",
              "    <tr>\n",
              "      <th>0</th>\n",
              "      <td>male</td>\n",
              "      <td>1.0000</td>\n",
              "      <td>i sing my own rhythm.</td>\n",
              "      <td>0</td>\n",
              "      <td>08C2C2</td>\n",
              "      <td>0</td>\n",
              "      <td>FFFFFF</td>\n",
              "      <td>Robbie E Responds To Critics After Win Against...</td>\n",
              "      <td>110964</td>\n",
              "      <td>14</td>\n",
              "      <td>5</td>\n",
              "    </tr>\n",
              "    <tr>\n",
              "      <th>1</th>\n",
              "      <td>male</td>\n",
              "      <td>1.0000</td>\n",
              "      <td>I'm the author of novels filled with family dr...</td>\n",
              "      <td>68</td>\n",
              "      <td>0084B4</td>\n",
              "      <td>0</td>\n",
              "      <td>C0DEED</td>\n",
              "      <td>ÛÏIt felt like they were my friends and I was...</td>\n",
              "      <td>7471</td>\n",
              "      <td>19</td>\n",
              "      <td>11</td>\n",
              "    </tr>\n",
              "    <tr>\n",
              "      <th>2</th>\n",
              "      <td>male</td>\n",
              "      <td>0.6625</td>\n",
              "      <td>louis whining and squealing and all</td>\n",
              "      <td>7696</td>\n",
              "      <td>ABB8C2</td>\n",
              "      <td>1</td>\n",
              "      <td>C0DEED</td>\n",
              "      <td>i absolutely adore when louis starts the songs...</td>\n",
              "      <td>5617</td>\n",
              "      <td>16</td>\n",
              "      <td>6</td>\n",
              "    </tr>\n",
              "    <tr>\n",
              "      <th>3</th>\n",
              "      <td>male</td>\n",
              "      <td>1.0000</td>\n",
              "      <td>Mobile guy.  49ers, Shazam, Google, Kleiner Pe...</td>\n",
              "      <td>202</td>\n",
              "      <td>0084B4</td>\n",
              "      <td>0</td>\n",
              "      <td>C0DEED</td>\n",
              "      <td>Hi @JordanSpieth - Looking at the url - do you...</td>\n",
              "      <td>1693</td>\n",
              "      <td>23</td>\n",
              "      <td>24</td>\n",
              "    </tr>\n",
              "    <tr>\n",
              "      <th>4</th>\n",
              "      <td>female</td>\n",
              "      <td>1.0000</td>\n",
              "      <td>Ricky Wilson The Best FRONTMAN/Kaiser Chiefs T...</td>\n",
              "      <td>37318</td>\n",
              "      <td>3B94D9</td>\n",
              "      <td>0</td>\n",
              "      <td>0</td>\n",
              "      <td>Watching Neighbours on Sky+ catching up with t...</td>\n",
              "      <td>31462</td>\n",
              "      <td>12</td>\n",
              "      <td>27</td>\n",
              "    </tr>\n",
              "    <tr>\n",
              "      <th>...</th>\n",
              "      <td>...</td>\n",
              "      <td>...</td>\n",
              "      <td>...</td>\n",
              "      <td>...</td>\n",
              "      <td>...</td>\n",
              "      <td>...</td>\n",
              "      <td>...</td>\n",
              "      <td>...</td>\n",
              "      <td>...</td>\n",
              "      <td>...</td>\n",
              "      <td>...</td>\n",
              "    </tr>\n",
              "    <tr>\n",
              "      <th>20045</th>\n",
              "      <td>female</td>\n",
              "      <td>1.0000</td>\n",
              "      <td>(rp)</td>\n",
              "      <td>302</td>\n",
              "      <td>0084B4</td>\n",
              "      <td>0</td>\n",
              "      <td>C0DEED</td>\n",
              "      <td>@lookupondeath ...Fine, and I'll drink tea too...</td>\n",
              "      <td>783</td>\n",
              "      <td>10</td>\n",
              "      <td>1</td>\n",
              "    </tr>\n",
              "    <tr>\n",
              "      <th>20046</th>\n",
              "      <td>male</td>\n",
              "      <td>1.0000</td>\n",
              "      <td>Whatever you like, it's not a problem at all. ...</td>\n",
              "      <td>2513</td>\n",
              "      <td>CFB929</td>\n",
              "      <td>0</td>\n",
              "      <td>0</td>\n",
              "      <td>Greg Hardy you a good player and all but don't...</td>\n",
              "      <td>13523</td>\n",
              "      <td>21</td>\n",
              "      <td>16</td>\n",
              "    </tr>\n",
              "    <tr>\n",
              "      <th>20047</th>\n",
              "      <td>male</td>\n",
              "      <td>1.0000</td>\n",
              "      <td>#TeamBarcelona ..You look lost so you should f...</td>\n",
              "      <td>50</td>\n",
              "      <td>0084B4</td>\n",
              "      <td>0</td>\n",
              "      <td>C0DEED</td>\n",
              "      <td>You can miss people and still never want to se...</td>\n",
              "      <td>26419</td>\n",
              "      <td>12</td>\n",
              "      <td>18</td>\n",
              "    </tr>\n",
              "    <tr>\n",
              "      <th>20048</th>\n",
              "      <td>female</td>\n",
              "      <td>0.8489</td>\n",
              "      <td>Anti-statist; I homeschool my kids. Aspiring t...</td>\n",
              "      <td>70804</td>\n",
              "      <td>9266CC</td>\n",
              "      <td>0</td>\n",
              "      <td>0</td>\n",
              "      <td>@bitemyapp i had noticed your tendency to pee ...</td>\n",
              "      <td>56073</td>\n",
              "      <td>19</td>\n",
              "      <td>18</td>\n",
              "    </tr>\n",
              "    <tr>\n",
              "      <th>20049</th>\n",
              "      <td>female</td>\n",
              "      <td>1.0000</td>\n",
              "      <td>Teamwork makes the dream work.</td>\n",
              "      <td>3348</td>\n",
              "      <td>0084B4</td>\n",
              "      <td>0</td>\n",
              "      <td>C0DEED</td>\n",
              "      <td>I think for my APUSH creative project I'm goin...</td>\n",
              "      <td>2922</td>\n",
              "      <td>21</td>\n",
              "      <td>5</td>\n",
              "    </tr>\n",
              "  </tbody>\n",
              "</table>\n",
              "<p>19953 rows × 11 columns</p>\n",
              "</div>"
            ],
            "text/plain": [
              "       gender  gender:confidence  ... text_length  description_length\n",
              "0        male             1.0000  ...          14                   5\n",
              "1        male             1.0000  ...          19                  11\n",
              "2        male             0.6625  ...          16                   6\n",
              "3        male             1.0000  ...          23                  24\n",
              "4      female             1.0000  ...          12                  27\n",
              "...       ...                ...  ...         ...                 ...\n",
              "20045  female             1.0000  ...          10                   1\n",
              "20046    male             1.0000  ...          21                  16\n",
              "20047    male             1.0000  ...          12                  18\n",
              "20048  female             0.8489  ...          19                  18\n",
              "20049  female             1.0000  ...          21                   5\n",
              "\n",
              "[19953 rows x 11 columns]"
            ]
          },
          "metadata": {
            "tags": []
          },
          "execution_count": 29
        }
      ]
    },
    {
      "cell_type": "markdown",
      "metadata": {
        "id": "EpdHDARn0b5N",
        "colab_type": "text"
      },
      "source": [
        "# Q1: What are the words in tweets that strongly dinstinguish male or female gender?"
      ]
    },
    {
      "cell_type": "code",
      "metadata": {
        "id": "y2vdjFgn0b5N",
        "colab_type": "code",
        "colab": {}
      },
      "source": [
        "from bs4 import BeautifulSoup\n",
        "def cleanText(text):\n",
        "    text = BeautifulSoup(text, \"lxml\").text\n",
        "    text = re.sub(r'\\|\\|\\|', r' ', text) \n",
        "    text = re.sub(r'http\\S+', r'<URL>|<url>', text)\n",
        "    text = re.sub(r'ù*|÷*|ä*|ô*|î*|è*|â*|x89û_*|ã*|_*|x8*',r'', text)\n",
        "    text = text.lower()\n",
        "    text = text.replace('x', '')\n",
        "    return text\n",
        "dataset_clean['text'] = dataset_clean['text'].apply(cleanText)\n",
        "dataset_clean['description'] = dataset_clean['description'].apply(cleanText)"
      ],
      "execution_count": 0,
      "outputs": []
    },
    {
      "cell_type": "code",
      "metadata": {
        "id": "RZ0ucryH0b5R",
        "colab_type": "code",
        "colab": {
          "base_uri": "https://localhost:8080/",
          "height": 50
        },
        "outputId": "cdeca08c-01df-4001-d3d8-86b844efdd42"
      },
      "source": [
        "nltk.download('stopwords')\n",
        "customize_words=['.',',','the','-','’','#','@','!']\n",
        "S = set(stopwords.words('english'))\n",
        "new_list = S.union(customize_words)\n",
        "tokens_stop_removed = []\n",
        "def tokenize_text(text):\n",
        "    tokens = []\n",
        "    for sent in nltk.sent_tokenize(text):\n",
        "        for word in nltk.word_tokenize(sent):\n",
        "            if not word.lower() in new_list:\n",
        "                if word.isalpha():\n",
        "                \n",
        "                    tokens.append(word.lower())\n",
        "    return tokens"
      ],
      "execution_count": 32,
      "outputs": [
        {
          "output_type": "stream",
          "text": [
            "[nltk_data] Downloading package stopwords to /root/nltk_data...\n",
            "[nltk_data]   Unzipping corpora/stopwords.zip.\n"
          ],
          "name": "stdout"
        }
      ]
    },
    {
      "cell_type": "code",
      "metadata": {
        "id": "8mTEn4-K0b5W",
        "colab_type": "code",
        "colab": {
          "base_uri": "https://localhost:8080/",
          "height": 50
        },
        "outputId": "86634d84-528d-4a78-9b8f-cd4cc299d367"
      },
      "source": [
        "nltk.download('punkt')\n",
        "dataset_clean['text_token']=dataset_clean.text.apply(tokenize_text)\n",
        "dataset_clean['description_token']=dataset_clean.description.apply(tokenize_text)"
      ],
      "execution_count": 36,
      "outputs": [
        {
          "output_type": "stream",
          "text": [
            "[nltk_data] Downloading package punkt to /root/nltk_data...\n",
            "[nltk_data]   Unzipping tokenizers/punkt.zip.\n"
          ],
          "name": "stdout"
        }
      ]
    },
    {
      "cell_type": "code",
      "metadata": {
        "id": "3yZx-UXL0b5d",
        "colab_type": "code",
        "colab": {
          "base_uri": "https://localhost:8080/",
          "height": 909
        },
        "outputId": "227540b0-2c3f-441b-9fec-78c6715892df"
      },
      "source": [
        "dataset_clean"
      ],
      "execution_count": 37,
      "outputs": [
        {
          "output_type": "execute_result",
          "data": {
            "text/html": [
              "<div>\n",
              "<style scoped>\n",
              "    .dataframe tbody tr th:only-of-type {\n",
              "        vertical-align: middle;\n",
              "    }\n",
              "\n",
              "    .dataframe tbody tr th {\n",
              "        vertical-align: top;\n",
              "    }\n",
              "\n",
              "    .dataframe thead th {\n",
              "        text-align: right;\n",
              "    }\n",
              "</style>\n",
              "<table border=\"1\" class=\"dataframe\">\n",
              "  <thead>\n",
              "    <tr style=\"text-align: right;\">\n",
              "      <th></th>\n",
              "      <th>gender</th>\n",
              "      <th>gender:confidence</th>\n",
              "      <th>description</th>\n",
              "      <th>fav_number</th>\n",
              "      <th>link_color</th>\n",
              "      <th>retweet_count</th>\n",
              "      <th>sidebar_color</th>\n",
              "      <th>text</th>\n",
              "      <th>tweet_count</th>\n",
              "      <th>text_length</th>\n",
              "      <th>description_length</th>\n",
              "      <th>text_token</th>\n",
              "      <th>description_token</th>\n",
              "    </tr>\n",
              "  </thead>\n",
              "  <tbody>\n",
              "    <tr>\n",
              "      <th>0</th>\n",
              "      <td>male</td>\n",
              "      <td>1.0000</td>\n",
              "      <td>i sing my own rhythm.</td>\n",
              "      <td>0</td>\n",
              "      <td>08C2C2</td>\n",
              "      <td>0</td>\n",
              "      <td>FFFFFF</td>\n",
              "      <td>robbie e responds to critics after win against...</td>\n",
              "      <td>110964</td>\n",
              "      <td>14</td>\n",
              "      <td>5</td>\n",
              "      <td>[robbie, e, responds, critics, win, eddie, edw...</td>\n",
              "      <td>[sing, rhythm]</td>\n",
              "    </tr>\n",
              "    <tr>\n",
              "      <th>1</th>\n",
              "      <td>male</td>\n",
              "      <td>1.0000</td>\n",
              "      <td>i'm the author of novels filled with family dr...</td>\n",
              "      <td>68</td>\n",
              "      <td>0084B4</td>\n",
              "      <td>0</td>\n",
              "      <td>C0DEED</td>\n",
              "      <td>ûïit felt like they were my friends and i was...</td>\n",
              "      <td>7471</td>\n",
              "      <td>19</td>\n",
              "      <td>11</td>\n",
              "      <td>[felt, like, friends, living, story, url, url,...</td>\n",
              "      <td>[author, novels, filled, family, drama, romance]</td>\n",
              "    </tr>\n",
              "    <tr>\n",
              "      <th>2</th>\n",
              "      <td>male</td>\n",
              "      <td>0.6625</td>\n",
              "      <td>louis whining and squealing and all</td>\n",
              "      <td>7696</td>\n",
              "      <td>ABB8C2</td>\n",
              "      <td>1</td>\n",
              "      <td>C0DEED</td>\n",
              "      <td>i absolutely adore when louis starts the songs...</td>\n",
              "      <td>5617</td>\n",
              "      <td>16</td>\n",
              "      <td>6</td>\n",
              "      <td>[absolutely, adore, louis, starts, songs, hits...</td>\n",
              "      <td>[louis, whining, squealing]</td>\n",
              "    </tr>\n",
              "    <tr>\n",
              "      <th>3</th>\n",
              "      <td>male</td>\n",
              "      <td>1.0000</td>\n",
              "      <td>mobile guy.  49ers, shazam, google, kleiner pe...</td>\n",
              "      <td>202</td>\n",
              "      <td>0084B4</td>\n",
              "      <td>0</td>\n",
              "      <td>C0DEED</td>\n",
              "      <td>hi @jordanspieth - looking at the url - do you...</td>\n",
              "      <td>1693</td>\n",
              "      <td>23</td>\n",
              "      <td>24</td>\n",
              "      <td>[hi, jordanspieth, looking, url, use, ifttt, t...</td>\n",
              "      <td>[mobile, guy, shazam, google, kleiner, perkins...</td>\n",
              "    </tr>\n",
              "    <tr>\n",
              "      <th>4</th>\n",
              "      <td>female</td>\n",
              "      <td>1.0000</td>\n",
              "      <td>ricky wilson the best frontman/kaiser chiefs t...</td>\n",
              "      <td>37318</td>\n",
              "      <td>3B94D9</td>\n",
              "      <td>0</td>\n",
              "      <td>0</td>\n",
              "      <td>watching neighbours on sky+ catching up with t...</td>\n",
              "      <td>31462</td>\n",
              "      <td>12</td>\n",
              "      <td>27</td>\n",
              "      <td>[watching, neighbours, catching, neighbs]</td>\n",
              "      <td>[ricky, wilson, best, chiefs, best, band, than...</td>\n",
              "    </tr>\n",
              "    <tr>\n",
              "      <th>...</th>\n",
              "      <td>...</td>\n",
              "      <td>...</td>\n",
              "      <td>...</td>\n",
              "      <td>...</td>\n",
              "      <td>...</td>\n",
              "      <td>...</td>\n",
              "      <td>...</td>\n",
              "      <td>...</td>\n",
              "      <td>...</td>\n",
              "      <td>...</td>\n",
              "      <td>...</td>\n",
              "      <td>...</td>\n",
              "      <td>...</td>\n",
              "    </tr>\n",
              "    <tr>\n",
              "      <th>20045</th>\n",
              "      <td>female</td>\n",
              "      <td>1.0000</td>\n",
              "      <td>(rp)</td>\n",
              "      <td>302</td>\n",
              "      <td>0084B4</td>\n",
              "      <td>0</td>\n",
              "      <td>C0DEED</td>\n",
              "      <td>@lookupondeath ...fine, and i'll drink tea too...</td>\n",
              "      <td>783</td>\n",
              "      <td>10</td>\n",
              "      <td>1</td>\n",
              "      <td>[lookupondeath, fine, drink, tea, love]</td>\n",
              "      <td>[rp]</td>\n",
              "    </tr>\n",
              "    <tr>\n",
              "      <th>20046</th>\n",
              "      <td>male</td>\n",
              "      <td>1.0000</td>\n",
              "      <td>whatever you like, it's not a problem at all. ...</td>\n",
              "      <td>2513</td>\n",
              "      <td>CFB929</td>\n",
              "      <td>0</td>\n",
              "      <td>0</td>\n",
              "      <td>greg hardy you a good player and all but don't...</td>\n",
              "      <td>13523</td>\n",
              "      <td>21</td>\n",
              "      <td>16</td>\n",
              "      <td>[greg, hardy, good, player, get, face, dez, br...</td>\n",
              "      <td>[whatever, like, problem, chargernation, forev...</td>\n",
              "    </tr>\n",
              "    <tr>\n",
              "      <th>20047</th>\n",
              "      <td>male</td>\n",
              "      <td>1.0000</td>\n",
              "      <td>#teambarcelona ..you look lost so you should f...</td>\n",
              "      <td>50</td>\n",
              "      <td>0084B4</td>\n",
              "      <td>0</td>\n",
              "      <td>C0DEED</td>\n",
              "      <td>you can miss people and still never want to se...</td>\n",
              "      <td>26419</td>\n",
              "      <td>12</td>\n",
              "      <td>18</td>\n",
              "      <td>[miss, people, still, never, want, see]</td>\n",
              "      <td>[teambarcelona, look, lost, follow, follow, he...</td>\n",
              "    </tr>\n",
              "    <tr>\n",
              "      <th>20048</th>\n",
              "      <td>female</td>\n",
              "      <td>0.8489</td>\n",
              "      <td>anti-statist; i homeschool my kids. aspiring t...</td>\n",
              "      <td>70804</td>\n",
              "      <td>9266CC</td>\n",
              "      <td>0</td>\n",
              "      <td>0</td>\n",
              "      <td>@bitemyapp i had noticed your tendency to pee ...</td>\n",
              "      <td>56073</td>\n",
              "      <td>19</td>\n",
              "      <td>18</td>\n",
              "      <td>[bitemyapp, noticed, tendency, pee, carpet, wa...</td>\n",
              "      <td>[homeschool, kids, aspiring, thoughtleader, fi...</td>\n",
              "    </tr>\n",
              "    <tr>\n",
              "      <th>20049</th>\n",
              "      <td>female</td>\n",
              "      <td>1.0000</td>\n",
              "      <td>teamwork makes the dream work.</td>\n",
              "      <td>3348</td>\n",
              "      <td>0084B4</td>\n",
              "      <td>0</td>\n",
              "      <td>C0DEED</td>\n",
              "      <td>i think for my apush creative project i'm goin...</td>\n",
              "      <td>2922</td>\n",
              "      <td>21</td>\n",
              "      <td>5</td>\n",
              "      <td>[think, apush, creative, project, going, bring...</td>\n",
              "      <td>[teamwork, makes, dream, work]</td>\n",
              "    </tr>\n",
              "  </tbody>\n",
              "</table>\n",
              "<p>19953 rows × 13 columns</p>\n",
              "</div>"
            ],
            "text/plain": [
              "       gender  ...                                  description_token\n",
              "0        male  ...                                     [sing, rhythm]\n",
              "1        male  ...   [author, novels, filled, family, drama, romance]\n",
              "2        male  ...                        [louis, whining, squealing]\n",
              "3        male  ...  [mobile, guy, shazam, google, kleiner, perkins...\n",
              "4      female  ...  [ricky, wilson, best, chiefs, best, band, than...\n",
              "...       ...  ...                                                ...\n",
              "20045  female  ...                                               [rp]\n",
              "20046    male  ...  [whatever, like, problem, chargernation, forev...\n",
              "20047    male  ...  [teambarcelona, look, lost, follow, follow, he...\n",
              "20048  female  ...  [homeschool, kids, aspiring, thoughtleader, fi...\n",
              "20049  female  ...                     [teamwork, makes, dream, work]\n",
              "\n",
              "[19953 rows x 13 columns]"
            ]
          },
          "metadata": {
            "tags": []
          },
          "execution_count": 37
        }
      ]
    },
    {
      "cell_type": "code",
      "metadata": {
        "id": "8pfMUFxl0b5h",
        "colab_type": "code",
        "colab": {}
      },
      "source": [
        "female = dataset_clean[dataset_clean['gender']=='female'].text_token.sum()\n",
        "male = dataset_clean[dataset_clean['gender']=='male'].text_token.sum()"
      ],
      "execution_count": 0,
      "outputs": []
    },
    {
      "cell_type": "code",
      "metadata": {
        "id": "SOnG5Bmy0b5n",
        "colab_type": "code",
        "colab": {}
      },
      "source": [
        "female_str=' '.join(female)\n",
        "male_str=' '.join(male)"
      ],
      "execution_count": 0,
      "outputs": []
    },
    {
      "cell_type": "code",
      "metadata": {
        "id": "fjnQBs9G0b5s",
        "colab_type": "code",
        "colab": {
          "base_uri": "https://localhost:8080/",
          "height": 297
        },
        "outputId": "4b8a0d22-eee4-4eb3-e4ff-81bcd9bcde32"
      },
      "source": [
        "mask_female = np.array(Image.open(\"female.jpeg\"))\n",
        "mask_male = np.array(Image.open(\"male.jpg\"))"
      ],
      "execution_count": 40,
      "outputs": [
        {
          "output_type": "error",
          "ename": "FileNotFoundError",
          "evalue": "ignored",
          "traceback": [
            "\u001b[0;31m---------------------------------------------------------------------------\u001b[0m",
            "\u001b[0;31mFileNotFoundError\u001b[0m                         Traceback (most recent call last)",
            "\u001b[0;32m<ipython-input-40-a680b9021038>\u001b[0m in \u001b[0;36m<module>\u001b[0;34m()\u001b[0m\n\u001b[0;32m----> 1\u001b[0;31m \u001b[0mmask_female\u001b[0m \u001b[0;34m=\u001b[0m \u001b[0mnp\u001b[0m\u001b[0;34m.\u001b[0m\u001b[0marray\u001b[0m\u001b[0;34m(\u001b[0m\u001b[0mImage\u001b[0m\u001b[0;34m.\u001b[0m\u001b[0mopen\u001b[0m\u001b[0;34m(\u001b[0m\u001b[0;34m\"female.jpeg\"\u001b[0m\u001b[0;34m)\u001b[0m\u001b[0;34m)\u001b[0m\u001b[0;34m\u001b[0m\u001b[0;34m\u001b[0m\u001b[0m\n\u001b[0m\u001b[1;32m      2\u001b[0m \u001b[0mmask_male\u001b[0m \u001b[0;34m=\u001b[0m \u001b[0mnp\u001b[0m\u001b[0;34m.\u001b[0m\u001b[0marray\u001b[0m\u001b[0;34m(\u001b[0m\u001b[0mImage\u001b[0m\u001b[0;34m.\u001b[0m\u001b[0mopen\u001b[0m\u001b[0;34m(\u001b[0m\u001b[0;34m\"male.jpg\"\u001b[0m\u001b[0;34m)\u001b[0m\u001b[0;34m)\u001b[0m\u001b[0;34m\u001b[0m\u001b[0;34m\u001b[0m\u001b[0m\n",
            "\u001b[0;32m/usr/local/lib/python3.6/dist-packages/PIL/Image.py\u001b[0m in \u001b[0;36mopen\u001b[0;34m(fp, mode)\u001b[0m\n\u001b[1;32m   2807\u001b[0m \u001b[0;34m\u001b[0m\u001b[0m\n\u001b[1;32m   2808\u001b[0m     \u001b[0;32mif\u001b[0m \u001b[0mfilename\u001b[0m\u001b[0;34m:\u001b[0m\u001b[0;34m\u001b[0m\u001b[0;34m\u001b[0m\u001b[0m\n\u001b[0;32m-> 2809\u001b[0;31m         \u001b[0mfp\u001b[0m \u001b[0;34m=\u001b[0m \u001b[0mbuiltins\u001b[0m\u001b[0;34m.\u001b[0m\u001b[0mopen\u001b[0m\u001b[0;34m(\u001b[0m\u001b[0mfilename\u001b[0m\u001b[0;34m,\u001b[0m \u001b[0;34m\"rb\"\u001b[0m\u001b[0;34m)\u001b[0m\u001b[0;34m\u001b[0m\u001b[0;34m\u001b[0m\u001b[0m\n\u001b[0m\u001b[1;32m   2810\u001b[0m         \u001b[0mexclusive_fp\u001b[0m \u001b[0;34m=\u001b[0m \u001b[0;32mTrue\u001b[0m\u001b[0;34m\u001b[0m\u001b[0;34m\u001b[0m\u001b[0m\n\u001b[1;32m   2811\u001b[0m \u001b[0;34m\u001b[0m\u001b[0m\n",
            "\u001b[0;31mFileNotFoundError\u001b[0m: [Errno 2] No such file or directory: 'female.jpeg'"
          ]
        }
      ]
    },
    {
      "cell_type": "code",
      "metadata": {
        "id": "T_C-UDL90b5y",
        "colab_type": "code",
        "colab": {}
      },
      "source": [
        "wc1 = WordCloud(background_color=\"white\",  mask=mask_female,\n",
        "                contour_width=1, contour_color='rosybrown')\n",
        "# Generate a wordcloud\n",
        "wc1.generate(female_str)\n",
        "\n",
        "# show\n",
        "plt.figure(figsize=[20,10])\n",
        "plt.imshow(wc1, interpolation='bilinear')\n",
        "plt.axis(\"off\")\n",
        "plt.show()"
      ],
      "execution_count": 0,
      "outputs": []
    },
    {
      "cell_type": "code",
      "metadata": {
        "id": "lBqJRoYS0b53",
        "colab_type": "code",
        "colab": {}
      },
      "source": [
        "#https://www.datacamp.com/community/tutorials/wordcloud-python\n",
        "wc2 = WordCloud(background_color=\"white\",  mask=mask_male,\n",
        "                contour_width=1, contour_color='gray')\n",
        "\n",
        "# Generate a wordcloud\n",
        "wc2.generate(male_str)\n",
        "\n",
        "# show\n",
        "plt.figure(figsize=[22,12])\n",
        "plt.imshow(wc2, interpolation='bilinear')\n",
        "plt.axis(\"off\")\n",
        "plt.show()"
      ],
      "execution_count": 0,
      "outputs": []
    },
    {
      "cell_type": "code",
      "metadata": {
        "id": "a8YIalJa0b58",
        "colab_type": "code",
        "colab": {}
      },
      "source": [
        "f_common=Counter(female).most_common(100)\n",
        "m_common=Counter(male).most_common(100)"
      ],
      "execution_count": 0,
      "outputs": []
    },
    {
      "cell_type": "code",
      "metadata": {
        "id": "pQ_okniC0b6C",
        "colab_type": "code",
        "colab": {}
      },
      "source": [
        "# def generate_from_frequencies(self, frequencies):\n",
        " \n",
        "#         # make sure frequencies are sorted and normalized\n",
        "#         frequencies = sorted(frequencies, key=item1, reverse=True)\n",
        "#         frequencies = frequencies[:self.max_words]\n",
        "#         # largest entry will be 1\n",
        "#         max_frequency = float(frequencies[0][1])\n",
        "\n",
        "#         frequencies = [(word, freq / max_frequency) for word, freq in frequencies]"
      ],
      "execution_count": 0,
      "outputs": []
    },
    {
      "cell_type": "code",
      "metadata": {
        "id": "eCd7BC3r0b6H",
        "colab_type": "code",
        "colab": {}
      },
      "source": [
        "def remove_overlap_common_words(m,f):\n",
        "    f = dict(f)\n",
        "    m = dict(m)\n",
        "    f_ = []\n",
        "    m_ = []\n",
        "    \n",
        "    for k in f:\n",
        "        if k not in m:\n",
        "            f_.append((k,f[k]))\n",
        "    for k in m:\n",
        "        if k not in f:\n",
        "            m_.append((k,m[k]))\n",
        "            \n",
        "    f = dict(f_)\n",
        "    m = dict(m_)\n",
        "    \n",
        "    wordcloud_f = WordCloud(width=1600,height=900, max_words=1628,relative_scaling=1,normalize_plurals=False).generate_from_frequencies(f)\n",
        "    wordcloud_m = WordCloud(width=1600,height=900, max_words=1628,relative_scaling=1,normalize_plurals=False).generate_from_frequencies(m)\n",
        "    f, (ax1, ax2) = plt.subplots(2)\n",
        "    ax1.imshow(wordcloud_f, interpolation='bilinear')\n",
        "    ax2.imshow(wordcloud_m, interpolation='bilinear')\n",
        "    ax1.axis(\"off\")\n",
        "    ax2.axis(\"off\")\n",
        "    plt.figure(figsize=(30,12))\n",
        "    plt.show()\n",
        "    return print(f'Most common word of women: {f_}, \\n \\nMost common word of man: {m_}')"
      ],
      "execution_count": 0,
      "outputs": []
    },
    {
      "cell_type": "code",
      "metadata": {
        "id": "9zsTb4sN0b6N",
        "colab_type": "code",
        "colab": {}
      },
      "source": [
        "remove_overlap_common_words(f_common,m_common)"
      ],
      "execution_count": 0,
      "outputs": []
    },
    {
      "cell_type": "markdown",
      "metadata": {
        "id": "LuptWN7I0b6S",
        "colab_type": "text"
      },
      "source": [
        "# Q2 What are the important features to predict gender label?"
      ]
    },
    {
      "cell_type": "code",
      "metadata": {
        "id": "NH-ZSUFf0b6T",
        "colab_type": "code",
        "colab": {
          "base_uri": "https://localhost:8080/",
          "height": 909
        },
        "outputId": "f98a9731-603a-41fc-9eaa-d1a90ac28d36"
      },
      "source": [
        "# https://towardsdatascience.com/multi-class-text-classification-with-doc2vec-logistic-regression-9da9947b43f4\n",
        "dataset_clean"
      ],
      "execution_count": 41,
      "outputs": [
        {
          "output_type": "execute_result",
          "data": {
            "text/html": [
              "<div>\n",
              "<style scoped>\n",
              "    .dataframe tbody tr th:only-of-type {\n",
              "        vertical-align: middle;\n",
              "    }\n",
              "\n",
              "    .dataframe tbody tr th {\n",
              "        vertical-align: top;\n",
              "    }\n",
              "\n",
              "    .dataframe thead th {\n",
              "        text-align: right;\n",
              "    }\n",
              "</style>\n",
              "<table border=\"1\" class=\"dataframe\">\n",
              "  <thead>\n",
              "    <tr style=\"text-align: right;\">\n",
              "      <th></th>\n",
              "      <th>gender</th>\n",
              "      <th>gender:confidence</th>\n",
              "      <th>description</th>\n",
              "      <th>fav_number</th>\n",
              "      <th>link_color</th>\n",
              "      <th>retweet_count</th>\n",
              "      <th>sidebar_color</th>\n",
              "      <th>text</th>\n",
              "      <th>tweet_count</th>\n",
              "      <th>text_length</th>\n",
              "      <th>description_length</th>\n",
              "      <th>text_token</th>\n",
              "      <th>description_token</th>\n",
              "    </tr>\n",
              "  </thead>\n",
              "  <tbody>\n",
              "    <tr>\n",
              "      <th>0</th>\n",
              "      <td>male</td>\n",
              "      <td>1.0000</td>\n",
              "      <td>i sing my own rhythm.</td>\n",
              "      <td>0</td>\n",
              "      <td>08C2C2</td>\n",
              "      <td>0</td>\n",
              "      <td>FFFFFF</td>\n",
              "      <td>robbie e responds to critics after win against...</td>\n",
              "      <td>110964</td>\n",
              "      <td>14</td>\n",
              "      <td>5</td>\n",
              "      <td>[robbie, e, responds, critics, win, eddie, edw...</td>\n",
              "      <td>[sing, rhythm]</td>\n",
              "    </tr>\n",
              "    <tr>\n",
              "      <th>1</th>\n",
              "      <td>male</td>\n",
              "      <td>1.0000</td>\n",
              "      <td>i'm the author of novels filled with family dr...</td>\n",
              "      <td>68</td>\n",
              "      <td>0084B4</td>\n",
              "      <td>0</td>\n",
              "      <td>C0DEED</td>\n",
              "      <td>ûïit felt like they were my friends and i was...</td>\n",
              "      <td>7471</td>\n",
              "      <td>19</td>\n",
              "      <td>11</td>\n",
              "      <td>[felt, like, friends, living, story, url, url,...</td>\n",
              "      <td>[author, novels, filled, family, drama, romance]</td>\n",
              "    </tr>\n",
              "    <tr>\n",
              "      <th>2</th>\n",
              "      <td>male</td>\n",
              "      <td>0.6625</td>\n",
              "      <td>louis whining and squealing and all</td>\n",
              "      <td>7696</td>\n",
              "      <td>ABB8C2</td>\n",
              "      <td>1</td>\n",
              "      <td>C0DEED</td>\n",
              "      <td>i absolutely adore when louis starts the songs...</td>\n",
              "      <td>5617</td>\n",
              "      <td>16</td>\n",
              "      <td>6</td>\n",
              "      <td>[absolutely, adore, louis, starts, songs, hits...</td>\n",
              "      <td>[louis, whining, squealing]</td>\n",
              "    </tr>\n",
              "    <tr>\n",
              "      <th>3</th>\n",
              "      <td>male</td>\n",
              "      <td>1.0000</td>\n",
              "      <td>mobile guy.  49ers, shazam, google, kleiner pe...</td>\n",
              "      <td>202</td>\n",
              "      <td>0084B4</td>\n",
              "      <td>0</td>\n",
              "      <td>C0DEED</td>\n",
              "      <td>hi @jordanspieth - looking at the url - do you...</td>\n",
              "      <td>1693</td>\n",
              "      <td>23</td>\n",
              "      <td>24</td>\n",
              "      <td>[hi, jordanspieth, looking, url, use, ifttt, t...</td>\n",
              "      <td>[mobile, guy, shazam, google, kleiner, perkins...</td>\n",
              "    </tr>\n",
              "    <tr>\n",
              "      <th>4</th>\n",
              "      <td>female</td>\n",
              "      <td>1.0000</td>\n",
              "      <td>ricky wilson the best frontman/kaiser chiefs t...</td>\n",
              "      <td>37318</td>\n",
              "      <td>3B94D9</td>\n",
              "      <td>0</td>\n",
              "      <td>0</td>\n",
              "      <td>watching neighbours on sky+ catching up with t...</td>\n",
              "      <td>31462</td>\n",
              "      <td>12</td>\n",
              "      <td>27</td>\n",
              "      <td>[watching, neighbours, catching, neighbs]</td>\n",
              "      <td>[ricky, wilson, best, chiefs, best, band, than...</td>\n",
              "    </tr>\n",
              "    <tr>\n",
              "      <th>...</th>\n",
              "      <td>...</td>\n",
              "      <td>...</td>\n",
              "      <td>...</td>\n",
              "      <td>...</td>\n",
              "      <td>...</td>\n",
              "      <td>...</td>\n",
              "      <td>...</td>\n",
              "      <td>...</td>\n",
              "      <td>...</td>\n",
              "      <td>...</td>\n",
              "      <td>...</td>\n",
              "      <td>...</td>\n",
              "      <td>...</td>\n",
              "    </tr>\n",
              "    <tr>\n",
              "      <th>20045</th>\n",
              "      <td>female</td>\n",
              "      <td>1.0000</td>\n",
              "      <td>(rp)</td>\n",
              "      <td>302</td>\n",
              "      <td>0084B4</td>\n",
              "      <td>0</td>\n",
              "      <td>C0DEED</td>\n",
              "      <td>@lookupondeath ...fine, and i'll drink tea too...</td>\n",
              "      <td>783</td>\n",
              "      <td>10</td>\n",
              "      <td>1</td>\n",
              "      <td>[lookupondeath, fine, drink, tea, love]</td>\n",
              "      <td>[rp]</td>\n",
              "    </tr>\n",
              "    <tr>\n",
              "      <th>20046</th>\n",
              "      <td>male</td>\n",
              "      <td>1.0000</td>\n",
              "      <td>whatever you like, it's not a problem at all. ...</td>\n",
              "      <td>2513</td>\n",
              "      <td>CFB929</td>\n",
              "      <td>0</td>\n",
              "      <td>0</td>\n",
              "      <td>greg hardy you a good player and all but don't...</td>\n",
              "      <td>13523</td>\n",
              "      <td>21</td>\n",
              "      <td>16</td>\n",
              "      <td>[greg, hardy, good, player, get, face, dez, br...</td>\n",
              "      <td>[whatever, like, problem, chargernation, forev...</td>\n",
              "    </tr>\n",
              "    <tr>\n",
              "      <th>20047</th>\n",
              "      <td>male</td>\n",
              "      <td>1.0000</td>\n",
              "      <td>#teambarcelona ..you look lost so you should f...</td>\n",
              "      <td>50</td>\n",
              "      <td>0084B4</td>\n",
              "      <td>0</td>\n",
              "      <td>C0DEED</td>\n",
              "      <td>you can miss people and still never want to se...</td>\n",
              "      <td>26419</td>\n",
              "      <td>12</td>\n",
              "      <td>18</td>\n",
              "      <td>[miss, people, still, never, want, see]</td>\n",
              "      <td>[teambarcelona, look, lost, follow, follow, he...</td>\n",
              "    </tr>\n",
              "    <tr>\n",
              "      <th>20048</th>\n",
              "      <td>female</td>\n",
              "      <td>0.8489</td>\n",
              "      <td>anti-statist; i homeschool my kids. aspiring t...</td>\n",
              "      <td>70804</td>\n",
              "      <td>9266CC</td>\n",
              "      <td>0</td>\n",
              "      <td>0</td>\n",
              "      <td>@bitemyapp i had noticed your tendency to pee ...</td>\n",
              "      <td>56073</td>\n",
              "      <td>19</td>\n",
              "      <td>18</td>\n",
              "      <td>[bitemyapp, noticed, tendency, pee, carpet, wa...</td>\n",
              "      <td>[homeschool, kids, aspiring, thoughtleader, fi...</td>\n",
              "    </tr>\n",
              "    <tr>\n",
              "      <th>20049</th>\n",
              "      <td>female</td>\n",
              "      <td>1.0000</td>\n",
              "      <td>teamwork makes the dream work.</td>\n",
              "      <td>3348</td>\n",
              "      <td>0084B4</td>\n",
              "      <td>0</td>\n",
              "      <td>C0DEED</td>\n",
              "      <td>i think for my apush creative project i'm goin...</td>\n",
              "      <td>2922</td>\n",
              "      <td>21</td>\n",
              "      <td>5</td>\n",
              "      <td>[think, apush, creative, project, going, bring...</td>\n",
              "      <td>[teamwork, makes, dream, work]</td>\n",
              "    </tr>\n",
              "  </tbody>\n",
              "</table>\n",
              "<p>19953 rows × 13 columns</p>\n",
              "</div>"
            ],
            "text/plain": [
              "       gender  ...                                  description_token\n",
              "0        male  ...                                     [sing, rhythm]\n",
              "1        male  ...   [author, novels, filled, family, drama, romance]\n",
              "2        male  ...                        [louis, whining, squealing]\n",
              "3        male  ...  [mobile, guy, shazam, google, kleiner, perkins...\n",
              "4      female  ...  [ricky, wilson, best, chiefs, best, band, than...\n",
              "...       ...  ...                                                ...\n",
              "20045  female  ...                                               [rp]\n",
              "20046    male  ...  [whatever, like, problem, chargernation, forev...\n",
              "20047    male  ...  [teambarcelona, look, lost, follow, follow, he...\n",
              "20048  female  ...  [homeschool, kids, aspiring, thoughtleader, fi...\n",
              "20049  female  ...                     [teamwork, makes, dream, work]\n",
              "\n",
              "[19953 rows x 13 columns]"
            ]
          },
          "metadata": {
            "tags": []
          },
          "execution_count": 41
        }
      ]
    },
    {
      "cell_type": "code",
      "metadata": {
        "id": "f9bI-hsi0b6Y",
        "colab_type": "code",
        "colab": {}
      },
      "source": [
        "cores = multiprocessing.cpu_count()"
      ],
      "execution_count": 0,
      "outputs": []
    },
    {
      "cell_type": "code",
      "metadata": {
        "id": "QGxt47Qp0b6d",
        "colab_type": "code",
        "colab": {}
      },
      "source": [
        "train, test = train_test_split(dataset_clean, test_size=0.3, random_state=42)"
      ],
      "execution_count": 0,
      "outputs": []
    },
    {
      "cell_type": "code",
      "metadata": {
        "id": "GH8Vlxwe0b6i",
        "colab_type": "code",
        "colab": {}
      },
      "source": [
        "text_train_tagged = train.apply(lambda r: TaggedDocument(words=r.text_token, tags=r.gender), axis=1)\n",
        "text_test_tagged = test.apply(lambda r: TaggedDocument(words=r.text_token, tags=r.gender), axis=1)\n",
        "description_train_tagged = train.apply(lambda r: TaggedDocument(words=r.description_token, tags=r.gender), axis=1)\n",
        "description_test_tagged = test.apply(lambda r: TaggedDocument(words=r.description_token, tags=r.gender), axis=1)"
      ],
      "execution_count": 0,
      "outputs": []
    },
    {
      "cell_type": "code",
      "metadata": {
        "id": "17YVPDCM0b6z",
        "colab_type": "code",
        "colab": {
          "base_uri": "https://localhost:8080/",
          "height": 34
        },
        "outputId": "681b8153-44a6-4932-9eca-06b9fa494769"
      },
      "source": [
        "text_model_dbow = Doc2Vec(dm=0, vector_size=300, negative=5, hs=0, min_count=2, sample = 0, workers=cores)\n",
        "text_model_dbow.build_vocab([x for x in tqdm(text_train_tagged.values)])"
      ],
      "execution_count": 46,
      "outputs": [
        {
          "output_type": "stream",
          "text": [
            "100%|██████████| 13967/13967 [00:00<00:00, 1431164.19it/s]\n"
          ],
          "name": "stderr"
        }
      ]
    },
    {
      "cell_type": "code",
      "metadata": {
        "id": "h9pH3ntg0b64",
        "colab_type": "code",
        "colab": {
          "base_uri": "https://localhost:8080/",
          "height": 34
        },
        "outputId": "fe8fb0eb-a4e3-4dd4-f8ab-71ee1abd36bf"
      },
      "source": [
        "description_model_dbow = Doc2Vec(dm=0, vector_size=300, negative=5, hs=0, min_count=2, sample = 0, workers=cores)\n",
        "description_model_dbow.build_vocab([x for x in tqdm(description_train_tagged.values)])"
      ],
      "execution_count": 47,
      "outputs": [
        {
          "output_type": "stream",
          "text": [
            "100%|██████████| 13967/13967 [00:00<00:00, 884614.77it/s]\n"
          ],
          "name": "stderr"
        }
      ]
    },
    {
      "cell_type": "code",
      "metadata": {
        "id": "4CbAa95u0b69",
        "colab_type": "code",
        "colab": {
          "base_uri": "https://localhost:8080/",
          "height": 554
        },
        "outputId": "363e4f35-d3a6-4079-ef29-e8e2d4f1514a"
      },
      "source": [
        "%%time\n",
        "for epoch in range(30):\n",
        "    text_model_dbow.train(utils.shuffle([x for x in tqdm(text_train_tagged.values)]), total_examples=len(text_train_tagged.values), epochs=1)\n",
        "    text_model_dbow.alpha -= 0.002\n",
        "    text_model_dbow.min_alpha = text_model_dbow.alpha"
      ],
      "execution_count": 48,
      "outputs": [
        {
          "output_type": "stream",
          "text": [
            "100%|██████████| 13967/13967 [00:00<00:00, 1087588.07it/s]\n",
            "100%|██████████| 13967/13967 [00:00<00:00, 1880757.80it/s]\n",
            "100%|██████████| 13967/13967 [00:00<00:00, 1776014.67it/s]\n",
            "100%|██████████| 13967/13967 [00:00<00:00, 2506067.93it/s]\n",
            "100%|██████████| 13967/13967 [00:00<00:00, 1841096.33it/s]\n",
            "100%|██████████| 13967/13967 [00:00<00:00, 1901760.94it/s]\n",
            "100%|██████████| 13967/13967 [00:00<00:00, 2828264.57it/s]\n",
            "100%|██████████| 13967/13967 [00:00<00:00, 1879731.88it/s]\n",
            "100%|██████████| 13967/13967 [00:00<00:00, 1737714.88it/s]\n",
            "100%|██████████| 13967/13967 [00:00<00:00, 2430882.77it/s]\n",
            "100%|██████████| 13967/13967 [00:00<00:00, 2775996.02it/s]\n",
            "100%|██████████| 13967/13967 [00:00<00:00, 1923996.45it/s]\n",
            "100%|██████████| 13967/13967 [00:00<00:00, 1939282.44it/s]\n",
            "100%|██████████| 13967/13967 [00:00<00:00, 1543862.01it/s]\n",
            "100%|██████████| 13967/13967 [00:00<00:00, 1863468.01it/s]\n",
            "100%|██████████| 13967/13967 [00:00<00:00, 2252801.26it/s]\n",
            "100%|██████████| 13967/13967 [00:00<00:00, 2165927.61it/s]\n",
            "100%|██████████| 13967/13967 [00:00<00:00, 2025441.48it/s]\n",
            "100%|██████████| 13967/13967 [00:00<00:00, 2023762.18it/s]\n",
            "100%|██████████| 13967/13967 [00:00<00:00, 1982733.50it/s]\n",
            "100%|██████████| 13967/13967 [00:00<00:00, 2732871.99it/s]\n",
            "100%|██████████| 13967/13967 [00:00<00:00, 1691405.92it/s]\n",
            "100%|██████████| 13967/13967 [00:00<00:00, 1669331.32it/s]\n",
            "100%|██████████| 13967/13967 [00:00<00:00, 2848064.76it/s]\n",
            "100%|██████████| 13967/13967 [00:00<00:00, 2880696.50it/s]\n",
            "100%|██████████| 13967/13967 [00:00<00:00, 2795735.61it/s]\n",
            "100%|██████████| 13967/13967 [00:00<00:00, 2601325.22it/s]\n",
            "100%|██████████| 13967/13967 [00:00<00:00, 2016378.48it/s]\n",
            "100%|██████████| 13967/13967 [00:00<00:00, 2775338.45it/s]\n",
            "100%|██████████| 13967/13967 [00:00<00:00, 1679814.30it/s]\n"
          ],
          "name": "stderr"
        },
        {
          "output_type": "stream",
          "text": [
            "CPU times: user 1min 6s, sys: 2.61 s, total: 1min 9s\n",
            "Wall time: 38.3 s\n"
          ],
          "name": "stdout"
        }
      ]
    },
    {
      "cell_type": "code",
      "metadata": {
        "id": "onPY0p8O0b7B",
        "colab_type": "code",
        "colab": {
          "base_uri": "https://localhost:8080/",
          "height": 554
        },
        "outputId": "60077b04-b6fe-44fa-a5e5-73c10df3aa0e"
      },
      "source": [
        "%%time\n",
        "for epoch in range(30):\n",
        "    description_model_dbow.train(utils.shuffle([x for x in tqdm(description_train_tagged.values)]), total_examples=len(description_train_tagged.values), epochs=1)\n",
        "    description_model_dbow.alpha -= 0.002\n",
        "    description_model_dbow.min_alpha = description_model_dbow.alpha"
      ],
      "execution_count": 49,
      "outputs": [
        {
          "output_type": "stream",
          "text": [
            "100%|██████████| 13967/13967 [00:00<00:00, 978925.59it/s]\n",
            "100%|██████████| 13967/13967 [00:00<00:00, 2079951.85it/s]\n",
            "100%|██████████| 13967/13967 [00:00<00:00, 2771661.81it/s]\n",
            "100%|██████████| 13967/13967 [00:00<00:00, 2826626.97it/s]\n",
            "100%|██████████| 13967/13967 [00:00<00:00, 1754735.48it/s]\n",
            "100%|██████████| 13967/13967 [00:00<00:00, 2906277.92it/s]\n",
            "100%|██████████| 13967/13967 [00:00<00:00, 1839650.92it/s]\n",
            "100%|██████████| 13967/13967 [00:00<00:00, 2819416.88it/s]\n",
            "100%|██████████| 13967/13967 [00:00<00:00, 2822677.27it/s]\n",
            "100%|██████████| 13967/13967 [00:00<00:00, 2027965.66it/s]\n",
            "100%|██████████| 13967/13967 [00:00<00:00, 1981459.29it/s]\n",
            "100%|██████████| 13967/13967 [00:00<00:00, 2364459.31it/s]\n",
            "100%|██████████| 13967/13967 [00:00<00:00, 2005609.37it/s]\n",
            "100%|██████████| 13967/13967 [00:00<00:00, 2001839.94it/s]\n",
            "100%|██████████| 13967/13967 [00:00<00:00, 2774549.78it/s]\n",
            "100%|██████████| 13967/13967 [00:00<00:00, 2880979.84it/s]\n",
            "100%|██████████| 13967/13967 [00:00<00:00, 1797650.79it/s]\n",
            "100%|██████████| 13967/13967 [00:00<00:00, 1982398.02it/s]\n",
            "100%|██████████| 13967/13967 [00:00<00:00, 1896220.75it/s]\n",
            "100%|██████████| 13967/13967 [00:00<00:00, 2881263.23it/s]\n",
            "100%|██████████| 13967/13967 [00:00<00:00, 2822541.27it/s]\n",
            "100%|██████████| 13967/13967 [00:00<00:00, 2806719.24it/s]\n",
            "100%|██████████| 13967/13967 [00:00<00:00, 2753164.96it/s]\n",
            "100%|██████████| 13967/13967 [00:00<00:00, 2400600.09it/s]\n",
            "100%|██████████| 13967/13967 [00:00<00:00, 2704235.05it/s]\n",
            "100%|██████████| 13967/13967 [00:00<00:00, 1856029.02it/s]\n",
            "100%|██████████| 13967/13967 [00:00<00:00, 2856118.37it/s]\n",
            "100%|██████████| 13967/13967 [00:00<00:00, 2623576.69it/s]\n",
            "100%|██████████| 13967/13967 [00:00<00:00, 2770220.08it/s]\n",
            "100%|██████████| 13967/13967 [00:00<00:00, 2782456.73it/s]\n"
          ],
          "name": "stderr"
        },
        {
          "output_type": "stream",
          "text": [
            "CPU times: user 51.5 s, sys: 2.42 s, total: 53.9 s\n",
            "Wall time: 31.8 s\n"
          ],
          "name": "stdout"
        }
      ]
    },
    {
      "cell_type": "code",
      "metadata": {
        "id": "KwfHUSPQ0b7G",
        "colab_type": "code",
        "colab": {}
      },
      "source": [
        "def vec_for_learning(model, tagged_docs):\n",
        "    sents = tagged_docs.values\n",
        "    targets, regressors = zip(*[(doc.tags[0], model.infer_vector(doc.words, steps=20)) for doc in sents])\n",
        "    return targets, regressors"
      ],
      "execution_count": 0,
      "outputs": []
    },
    {
      "cell_type": "code",
      "metadata": {
        "id": "YBPRu5I90b7M",
        "colab_type": "code",
        "colab": {}
      },
      "source": [
        "text_y_train, text_X_train = vec_for_learning(text_model_dbow, text_train_tagged)\n",
        "text_y_test, text_X_test = vec_for_learning(text_model_dbow, text_test_tagged)\n",
        "description_y_train, description_X_train = vec_for_learning(description_model_dbow, description_train_tagged)\n",
        "description_y_test, description_X_test = vec_for_learning(description_model_dbow, description_test_tagged)"
      ],
      "execution_count": 0,
      "outputs": []
    },
    {
      "cell_type": "code",
      "metadata": {
        "id": "P47I_aRV0b7V",
        "colab_type": "code",
        "colab": {
          "base_uri": "https://localhost:8080/",
          "height": 534
        },
        "outputId": "0a7c0366-8227-4598-d43a-aea1f8247ee3"
      },
      "source": [
        "train.head()"
      ],
      "execution_count": 53,
      "outputs": [
        {
          "output_type": "execute_result",
          "data": {
            "text/html": [
              "<div>\n",
              "<style scoped>\n",
              "    .dataframe tbody tr th:only-of-type {\n",
              "        vertical-align: middle;\n",
              "    }\n",
              "\n",
              "    .dataframe tbody tr th {\n",
              "        vertical-align: top;\n",
              "    }\n",
              "\n",
              "    .dataframe thead th {\n",
              "        text-align: right;\n",
              "    }\n",
              "</style>\n",
              "<table border=\"1\" class=\"dataframe\">\n",
              "  <thead>\n",
              "    <tr style=\"text-align: right;\">\n",
              "      <th></th>\n",
              "      <th>gender</th>\n",
              "      <th>gender:confidence</th>\n",
              "      <th>description</th>\n",
              "      <th>fav_number</th>\n",
              "      <th>link_color</th>\n",
              "      <th>retweet_count</th>\n",
              "      <th>sidebar_color</th>\n",
              "      <th>text</th>\n",
              "      <th>tweet_count</th>\n",
              "      <th>text_length</th>\n",
              "      <th>description_length</th>\n",
              "      <th>text_token</th>\n",
              "      <th>description_token</th>\n",
              "      <th>embedding_text</th>\n",
              "      <th>embedding_description</th>\n",
              "    </tr>\n",
              "  </thead>\n",
              "  <tbody>\n",
              "    <tr>\n",
              "      <th>16554</th>\n",
              "      <td>unknown</td>\n",
              "      <td>0.3475</td>\n",
              "      <td>gamer, youtuber, king (not) and book lover. th...</td>\n",
              "      <td>44</td>\n",
              "      <td>0084B4</td>\n",
              "      <td>0</td>\n",
              "      <td>C0DEED</td>\n",
              "      <td>@universalorl #askuniversal how would you rate...</td>\n",
              "      <td>416</td>\n",
              "      <td>14</td>\n",
              "      <td>23</td>\n",
              "      <td>[universalorl, askuniversal, would, rate, food...</td>\n",
              "      <td>[gamer, youtuber, king, book, lover, offficial...</td>\n",
              "      <td>(-0.09718655, -0.36611506, -0.16580349, 0.0357...</td>\n",
              "      <td>(-0.32591096, -0.73179716, -0.15878731, -0.101...</td>\n",
              "    </tr>\n",
              "    <tr>\n",
              "      <th>13796</th>\n",
              "      <td>male</td>\n",
              "      <td>0.6699</td>\n",
              "      <td>smol unsuccessful version of dan howell _ü...</td>\n",
              "      <td>19592</td>\n",
              "      <td>0</td>\n",
              "      <td>0</td>\n",
              "      <td>0</td>\n",
              "      <td>kiss me on the dick and set me free but plz do...</td>\n",
              "      <td>14580</td>\n",
              "      <td>14</td>\n",
              "      <td>19</td>\n",
              "      <td>[kiss, dick, set, free, plz, bite, url, url]</td>\n",
              "      <td>[smol, unsuccessful, version, dan, howell, phi...</td>\n",
              "      <td>(-0.105689496, -0.3903948, -0.17836586, 0.0505...</td>\n",
              "      <td>(-0.295816, -0.6953305, -0.14762656, -0.091157...</td>\n",
              "    </tr>\n",
              "    <tr>\n",
              "      <th>5657</th>\n",
              "      <td>brand</td>\n",
              "      <td>1.0000</td>\n",
              "      <td>the map game is a free geography quiz based on...</td>\n",
              "      <td>1</td>\n",
              "      <td>386B1E</td>\n",
              "      <td>0</td>\n",
              "      <td>EEEEEE</td>\n",
              "      <td>where is crawley on the map? play the game at ...</td>\n",
              "      <td>2372591</td>\n",
              "      <td>12</td>\n",
              "      <td>26</td>\n",
              "      <td>[crawley, map, play, game, url, url, crawley]</td>\n",
              "      <td>[map, game, free, geography, quiz, based, goog...</td>\n",
              "      <td>(-0.09550489, -0.35639912, -0.17863747, 0.0516...</td>\n",
              "      <td>(-0.3418718, -0.72950035, -0.15635312, -0.1132...</td>\n",
              "    </tr>\n",
              "    <tr>\n",
              "      <th>8140</th>\n",
              "      <td>brand</td>\n",
              "      <td>1.0000</td>\n",
              "      <td>soul food restaurant</td>\n",
              "      <td>159</td>\n",
              "      <td>ABB8C2</td>\n",
              "      <td>0</td>\n",
              "      <td>0</td>\n",
              "      <td>#potliquor : a southern tip to save nutritious...</td>\n",
              "      <td>82</td>\n",
              "      <td>18</td>\n",
              "      <td>3</td>\n",
              "      <td>[potliquor, southern, tip, save, nutritious, b...</td>\n",
              "      <td>[soul, food, restaurant]</td>\n",
              "      <td>(-0.09844901, -0.40882576, -0.18306777, 0.0594...</td>\n",
              "      <td>(-0.29250473, -0.6428825, -0.14677744, -0.0781...</td>\n",
              "    </tr>\n",
              "    <tr>\n",
              "      <th>4886</th>\n",
              "      <td>brand</td>\n",
              "      <td>0.6674</td>\n",
              "      <td>no_description</td>\n",
              "      <td>0</td>\n",
              "      <td>0084B4</td>\n",
              "      <td>0</td>\n",
              "      <td>C0DEED</td>\n",
              "      <td>get weather updates from the weather channel. ...</td>\n",
              "      <td>36504</td>\n",
              "      <td>8</td>\n",
              "      <td>1</td>\n",
              "      <td>[get, weather, updates, weather, channel]</td>\n",
              "      <td>[]</td>\n",
              "      <td>(-0.11655352, -0.38828146, -0.17455798, 0.0294...</td>\n",
              "      <td>(0.00016271167, 0.0007172979, 0.00034254458, 0...</td>\n",
              "    </tr>\n",
              "  </tbody>\n",
              "</table>\n",
              "</div>"
            ],
            "text/plain": [
              "        gender  ...                              embedding_description\n",
              "16554  unknown  ...  (-0.32591096, -0.73179716, -0.15878731, -0.101...\n",
              "13796     male  ...  (-0.295816, -0.6953305, -0.14762656, -0.091157...\n",
              "5657     brand  ...  (-0.3418718, -0.72950035, -0.15635312, -0.1132...\n",
              "8140     brand  ...  (-0.29250473, -0.6428825, -0.14677744, -0.0781...\n",
              "4886     brand  ...  (0.00016271167, 0.0007172979, 0.00034254458, 0...\n",
              "\n",
              "[5 rows x 15 columns]"
            ]
          },
          "metadata": {
            "tags": []
          },
          "execution_count": 53
        }
      ]
    },
    {
      "cell_type": "code",
      "metadata": {
        "id": "Wvl6qpNa0b7Z",
        "colab_type": "code",
        "colab": {}
      },
      "source": [
        "X_train = train.loc[:, train.columns != 'gender']\n",
        "X_test = test.loc[:, test.columns != 'gender']\n",
        "y_train = train.loc[:, train.columns == 'gender']\n",
        "y_test = test.loc[:, test.columns == 'gender']"
      ],
      "execution_count": 0,
      "outputs": []
    },
    {
      "cell_type": "code",
      "metadata": {
        "id": "GfGjnLE90b7e",
        "colab_type": "code",
        "colab": {}
      },
      "source": [
        "X_train=X_train.drop(columns=['description','text','text_token','description_token','embedding_text','embedding_description'])\n",
        "X_test=X_test.drop(columns=['description','text','text_token','description_token','embedding_text','embedding_description'])"
      ],
      "execution_count": 0,
      "outputs": []
    },
    {
      "cell_type": "code",
      "metadata": {
        "id": "Df_DIUMi7Eqe",
        "colab_type": "code",
        "colab": {}
      },
      "source": [
        "X_train['link_color'] = X_train['link_color'].astype('category')\n",
        "X_train['sidebar_color'] = X_train['sidebar_color'].astype('category')"
      ],
      "execution_count": 0,
      "outputs": []
    },
    {
      "cell_type": "code",
      "metadata": {
        "id": "Mluo9JNq8Vi1",
        "colab_type": "code",
        "colab": {}
      },
      "source": [
        "X_test['link_color'] = X_test['link_color'].astype('category')\n",
        "X_test['sidebar_color'] = X_test['sidebar_color'].astype('category')"
      ],
      "execution_count": 0,
      "outputs": []
    },
    {
      "cell_type": "code",
      "metadata": {
        "id": "-ANr8DBq8DS3",
        "colab_type": "code",
        "colab": {}
      },
      "source": [
        "cat_columns = X_train.select_dtypes(['category']).columns\n",
        "X_train[cat_columns] = X_train[cat_columns].apply(lambda x: x.cat.codes)"
      ],
      "execution_count": 0,
      "outputs": []
    },
    {
      "cell_type": "code",
      "metadata": {
        "id": "KPYv90dS8j_R",
        "colab_type": "code",
        "colab": {}
      },
      "source": [
        "cat_columns = X_test.select_dtypes(['category']).columns\n",
        "X_test[cat_columns] = X_test[cat_columns].apply(lambda x: x.cat.codes)"
      ],
      "execution_count": 0,
      "outputs": []
    },
    {
      "cell_type": "code",
      "metadata": {
        "id": "GoTPmrK549e8",
        "colab_type": "code",
        "colab": {
          "base_uri": "https://localhost:8080/",
          "height": 402
        },
        "outputId": "2d655edd-dd5e-4e0d-de64-2f9c554084b1"
      },
      "source": [
        "X_train"
      ],
      "execution_count": 73,
      "outputs": [
        {
          "output_type": "execute_result",
          "data": {
            "text/html": [
              "<div>\n",
              "<style scoped>\n",
              "    .dataframe tbody tr th:only-of-type {\n",
              "        vertical-align: middle;\n",
              "    }\n",
              "\n",
              "    .dataframe tbody tr th {\n",
              "        vertical-align: top;\n",
              "    }\n",
              "\n",
              "    .dataframe thead th {\n",
              "        text-align: right;\n",
              "    }\n",
              "</style>\n",
              "<table border=\"1\" class=\"dataframe\">\n",
              "  <thead>\n",
              "    <tr style=\"text-align: right;\">\n",
              "      <th></th>\n",
              "      <th>gender:confidence</th>\n",
              "      <th>fav_number</th>\n",
              "      <th>link_color</th>\n",
              "      <th>retweet_count</th>\n",
              "      <th>sidebar_color</th>\n",
              "      <th>tweet_count</th>\n",
              "      <th>text_length</th>\n",
              "      <th>description_length</th>\n",
              "    </tr>\n",
              "  </thead>\n",
              "  <tbody>\n",
              "    <tr>\n",
              "      <th>16554</th>\n",
              "      <td>0.3475</td>\n",
              "      <td>44</td>\n",
              "      <td>60</td>\n",
              "      <td>0</td>\n",
              "      <td>271</td>\n",
              "      <td>416</td>\n",
              "      <td>14</td>\n",
              "      <td>23</td>\n",
              "    </tr>\n",
              "    <tr>\n",
              "      <th>13796</th>\n",
              "      <td>0.6699</td>\n",
              "      <td>19592</td>\n",
              "      <td>0</td>\n",
              "      <td>0</td>\n",
              "      <td>0</td>\n",
              "      <td>14580</td>\n",
              "      <td>14</td>\n",
              "      <td>19</td>\n",
              "    </tr>\n",
              "    <tr>\n",
              "      <th>5657</th>\n",
              "      <td>1.0000</td>\n",
              "      <td>1</td>\n",
              "      <td>720</td>\n",
              "      <td>0</td>\n",
              "      <td>350</td>\n",
              "      <td>2372591</td>\n",
              "      <td>12</td>\n",
              "      <td>26</td>\n",
              "    </tr>\n",
              "    <tr>\n",
              "      <th>8140</th>\n",
              "      <td>1.0000</td>\n",
              "      <td>159</td>\n",
              "      <td>1445</td>\n",
              "      <td>0</td>\n",
              "      <td>0</td>\n",
              "      <td>82</td>\n",
              "      <td>18</td>\n",
              "      <td>3</td>\n",
              "    </tr>\n",
              "    <tr>\n",
              "      <th>4886</th>\n",
              "      <td>0.6674</td>\n",
              "      <td>0</td>\n",
              "      <td>60</td>\n",
              "      <td>0</td>\n",
              "      <td>271</td>\n",
              "      <td>36504</td>\n",
              "      <td>8</td>\n",
              "      <td>1</td>\n",
              "    </tr>\n",
              "    <tr>\n",
              "      <th>...</th>\n",
              "      <td>...</td>\n",
              "      <td>...</td>\n",
              "      <td>...</td>\n",
              "      <td>...</td>\n",
              "      <td>...</td>\n",
              "      <td>...</td>\n",
              "      <td>...</td>\n",
              "      <td>...</td>\n",
              "    </tr>\n",
              "    <tr>\n",
              "      <th>11349</th>\n",
              "      <td>1.0000</td>\n",
              "      <td>5</td>\n",
              "      <td>922</td>\n",
              "      <td>0</td>\n",
              "      <td>0</td>\n",
              "      <td>9825</td>\n",
              "      <td>22</td>\n",
              "      <td>8</td>\n",
              "    </tr>\n",
              "    <tr>\n",
              "      <th>12031</th>\n",
              "      <td>1.0000</td>\n",
              "      <td>4</td>\n",
              "      <td>60</td>\n",
              "      <td>0</td>\n",
              "      <td>271</td>\n",
              "      <td>1584</td>\n",
              "      <td>13</td>\n",
              "      <td>15</td>\n",
              "    </tr>\n",
              "    <tr>\n",
              "      <th>5427</th>\n",
              "      <td>1.0000</td>\n",
              "      <td>40054</td>\n",
              "      <td>2068</td>\n",
              "      <td>0</td>\n",
              "      <td>163</td>\n",
              "      <td>39806</td>\n",
              "      <td>19</td>\n",
              "      <td>18</td>\n",
              "    </tr>\n",
              "    <tr>\n",
              "      <th>866</th>\n",
              "      <td>1.0000</td>\n",
              "      <td>179</td>\n",
              "      <td>60</td>\n",
              "      <td>0</td>\n",
              "      <td>271</td>\n",
              "      <td>108</td>\n",
              "      <td>11</td>\n",
              "      <td>8</td>\n",
              "    </tr>\n",
              "    <tr>\n",
              "      <th>15872</th>\n",
              "      <td>1.0000</td>\n",
              "      <td>40</td>\n",
              "      <td>1337</td>\n",
              "      <td>0</td>\n",
              "      <td>406</td>\n",
              "      <td>427</td>\n",
              "      <td>21</td>\n",
              "      <td>21</td>\n",
              "    </tr>\n",
              "  </tbody>\n",
              "</table>\n",
              "<p>13967 rows × 8 columns</p>\n",
              "</div>"
            ],
            "text/plain": [
              "       gender:confidence  fav_number  ...  text_length  description_length\n",
              "16554             0.3475          44  ...           14                  23\n",
              "13796             0.6699       19592  ...           14                  19\n",
              "5657              1.0000           1  ...           12                  26\n",
              "8140              1.0000         159  ...           18                   3\n",
              "4886              0.6674           0  ...            8                   1\n",
              "...                  ...         ...  ...          ...                 ...\n",
              "11349             1.0000           5  ...           22                   8\n",
              "12031             1.0000           4  ...           13                  15\n",
              "5427              1.0000       40054  ...           19                  18\n",
              "866               1.0000         179  ...           11                   8\n",
              "15872             1.0000          40  ...           21                  21\n",
              "\n",
              "[13967 rows x 8 columns]"
            ]
          },
          "metadata": {
            "tags": []
          },
          "execution_count": 73
        }
      ]
    },
    {
      "cell_type": "code",
      "metadata": {
        "id": "5UA-mFQi-Pld",
        "colab_type": "code",
        "colab": {
          "base_uri": "https://localhost:8080/",
          "height": 926
        },
        "outputId": "9150bf93-f536-406c-cd8e-852b377431eb"
      },
      "source": [
        "X_train"
      ],
      "execution_count": 81,
      "outputs": [
        {
          "output_type": "execute_result",
          "data": {
            "text/html": [
              "<div>\n",
              "<style scoped>\n",
              "    .dataframe tbody tr th:only-of-type {\n",
              "        vertical-align: middle;\n",
              "    }\n",
              "\n",
              "    .dataframe tbody tr th {\n",
              "        vertical-align: top;\n",
              "    }\n",
              "\n",
              "    .dataframe thead th {\n",
              "        text-align: right;\n",
              "    }\n",
              "</style>\n",
              "<table border=\"1\" class=\"dataframe\">\n",
              "  <thead>\n",
              "    <tr style=\"text-align: right;\">\n",
              "      <th></th>\n",
              "      <th>gender:confidence</th>\n",
              "      <th>fav_number</th>\n",
              "      <th>link_color</th>\n",
              "      <th>retweet_count</th>\n",
              "      <th>sidebar_color</th>\n",
              "      <th>tweet_count</th>\n",
              "      <th>text_length</th>\n",
              "      <th>description_length</th>\n",
              "      <th>embedding_text</th>\n",
              "      <th>embedding_description</th>\n",
              "    </tr>\n",
              "  </thead>\n",
              "  <tbody>\n",
              "    <tr>\n",
              "      <th>16554</th>\n",
              "      <td>0.3475</td>\n",
              "      <td>44</td>\n",
              "      <td>60</td>\n",
              "      <td>0</td>\n",
              "      <td>271</td>\n",
              "      <td>416</td>\n",
              "      <td>14</td>\n",
              "      <td>23</td>\n",
              "      <td>(-0.09718655, -0.36611506, -0.16580349, 0.0357...</td>\n",
              "      <td>(-0.32591096, -0.73179716, -0.15878731, -0.101...</td>\n",
              "    </tr>\n",
              "    <tr>\n",
              "      <th>13796</th>\n",
              "      <td>0.6699</td>\n",
              "      <td>19592</td>\n",
              "      <td>0</td>\n",
              "      <td>0</td>\n",
              "      <td>0</td>\n",
              "      <td>14580</td>\n",
              "      <td>14</td>\n",
              "      <td>19</td>\n",
              "      <td>(-0.105689496, -0.3903948, -0.17836586, 0.0505...</td>\n",
              "      <td>(-0.295816, -0.6953305, -0.14762656, -0.091157...</td>\n",
              "    </tr>\n",
              "    <tr>\n",
              "      <th>5657</th>\n",
              "      <td>1.0000</td>\n",
              "      <td>1</td>\n",
              "      <td>720</td>\n",
              "      <td>0</td>\n",
              "      <td>350</td>\n",
              "      <td>2372591</td>\n",
              "      <td>12</td>\n",
              "      <td>26</td>\n",
              "      <td>(-0.09550489, -0.35639912, -0.17863747, 0.0516...</td>\n",
              "      <td>(-0.3418718, -0.72950035, -0.15635312, -0.1132...</td>\n",
              "    </tr>\n",
              "    <tr>\n",
              "      <th>8140</th>\n",
              "      <td>1.0000</td>\n",
              "      <td>159</td>\n",
              "      <td>1445</td>\n",
              "      <td>0</td>\n",
              "      <td>0</td>\n",
              "      <td>82</td>\n",
              "      <td>18</td>\n",
              "      <td>3</td>\n",
              "      <td>(-0.09844901, -0.40882576, -0.18306777, 0.0594...</td>\n",
              "      <td>(-0.29250473, -0.6428825, -0.14677744, -0.0781...</td>\n",
              "    </tr>\n",
              "    <tr>\n",
              "      <th>4886</th>\n",
              "      <td>0.6674</td>\n",
              "      <td>0</td>\n",
              "      <td>60</td>\n",
              "      <td>0</td>\n",
              "      <td>271</td>\n",
              "      <td>36504</td>\n",
              "      <td>8</td>\n",
              "      <td>1</td>\n",
              "      <td>(-0.11655352, -0.38828146, -0.17455798, 0.0294...</td>\n",
              "      <td>(0.00016271167, 0.0007172979, 0.00034254458, 0...</td>\n",
              "    </tr>\n",
              "    <tr>\n",
              "      <th>...</th>\n",
              "      <td>...</td>\n",
              "      <td>...</td>\n",
              "      <td>...</td>\n",
              "      <td>...</td>\n",
              "      <td>...</td>\n",
              "      <td>...</td>\n",
              "      <td>...</td>\n",
              "      <td>...</td>\n",
              "      <td>...</td>\n",
              "      <td>...</td>\n",
              "    </tr>\n",
              "    <tr>\n",
              "      <th>4458</th>\n",
              "      <td>1.0000</td>\n",
              "      <td>7040</td>\n",
              "      <td>60</td>\n",
              "      <td>0</td>\n",
              "      <td>271</td>\n",
              "      <td>24590</td>\n",
              "      <td>7</td>\n",
              "      <td>3</td>\n",
              "      <td>(-0.076295145, -0.28966245, -0.16897227, 0.080...</td>\n",
              "      <td>(-0.21650492, -0.5113539, -0.1146364, -0.06211...</td>\n",
              "    </tr>\n",
              "    <tr>\n",
              "      <th>16932</th>\n",
              "      <td>0.6791</td>\n",
              "      <td>0</td>\n",
              "      <td>60</td>\n",
              "      <td>0</td>\n",
              "      <td>271</td>\n",
              "      <td>48149</td>\n",
              "      <td>15</td>\n",
              "      <td>3</td>\n",
              "      <td>(-0.10989647, -0.39745206, -0.18663317, 0.0369...</td>\n",
              "      <td>(-0.21080847, -0.479593, -0.10490142, -0.05698...</td>\n",
              "    </tr>\n",
              "    <tr>\n",
              "      <th>6304</th>\n",
              "      <td>1.0000</td>\n",
              "      <td>244</td>\n",
              "      <td>70</td>\n",
              "      <td>0</td>\n",
              "      <td>404</td>\n",
              "      <td>70</td>\n",
              "      <td>19</td>\n",
              "      <td>5</td>\n",
              "      <td>(-0.12722132, -0.39357212, -0.17175043, 0.0433...</td>\n",
              "      <td>(-0.32150766, -0.6695669, -0.15993059, -0.0861...</td>\n",
              "    </tr>\n",
              "    <tr>\n",
              "      <th>11349</th>\n",
              "      <td>1.0000</td>\n",
              "      <td>5</td>\n",
              "      <td>922</td>\n",
              "      <td>0</td>\n",
              "      <td>0</td>\n",
              "      <td>9825</td>\n",
              "      <td>22</td>\n",
              "      <td>8</td>\n",
              "      <td>(-0.10131384, -0.3958843, -0.17243743, 0.04259...</td>\n",
              "      <td>(-0.22701095, -0.49929538, -0.109509476, -0.06...</td>\n",
              "    </tr>\n",
              "    <tr>\n",
              "      <th>12031</th>\n",
              "      <td>1.0000</td>\n",
              "      <td>4</td>\n",
              "      <td>60</td>\n",
              "      <td>0</td>\n",
              "      <td>271</td>\n",
              "      <td>1584</td>\n",
              "      <td>13</td>\n",
              "      <td>15</td>\n",
              "      <td>(-0.08983328, -0.37408242, -0.16621247, 0.0454...</td>\n",
              "      <td>(-0.32213908, -0.70113206, -0.16311975, -0.088...</td>\n",
              "    </tr>\n",
              "  </tbody>\n",
              "</table>\n",
              "<p>13964 rows × 10 columns</p>\n",
              "</div>"
            ],
            "text/plain": [
              "       gender:confidence  ...                              embedding_description\n",
              "16554             0.3475  ...  (-0.32591096, -0.73179716, -0.15878731, -0.101...\n",
              "13796             0.6699  ...  (-0.295816, -0.6953305, -0.14762656, -0.091157...\n",
              "5657              1.0000  ...  (-0.3418718, -0.72950035, -0.15635312, -0.1132...\n",
              "8140              1.0000  ...  (-0.29250473, -0.6428825, -0.14677744, -0.0781...\n",
              "4886              0.6674  ...  (0.00016271167, 0.0007172979, 0.00034254458, 0...\n",
              "...                  ...  ...                                                ...\n",
              "4458              1.0000  ...  (-0.21650492, -0.5113539, -0.1146364, -0.06211...\n",
              "16932             0.6791  ...  (-0.21080847, -0.479593, -0.10490142, -0.05698...\n",
              "6304              1.0000  ...  (-0.32150766, -0.6695669, -0.15993059, -0.0861...\n",
              "11349             1.0000  ...  (-0.22701095, -0.49929538, -0.109509476, -0.06...\n",
              "12031             1.0000  ...  (-0.32213908, -0.70113206, -0.16311975, -0.088...\n",
              "\n",
              "[13964 rows x 10 columns]"
            ]
          },
          "metadata": {
            "tags": []
          },
          "execution_count": 81
        }
      ]
    },
    {
      "cell_type": "code",
      "metadata": {
        "id": "DBnfmMOP0b7s",
        "colab_type": "code",
        "colab": {
          "base_uri": "https://localhost:8080/",
          "height": 455
        },
        "outputId": "8521e5e3-c591-4c42-e023-87fe68eed29a"
      },
      "source": [
        "tweet_rf_model = skens.RandomForestClassifier(n_estimators=10,oob_score=True, criterion='entropy')\n",
        "tweet_rf_model.fit(X_train,y_train)\n",
        "\n",
        "predicted_labels = tweet_rf_model.predict(X_test)\n",
        "X_test['predicted_rf_tree'] = predicted_labels\n",
        "\n",
        "accuracy = accuracy_score(y_test,predicted_labels)\n",
        "print('Accuracy: {0: .2%}'.format(accuracy))"
      ],
      "execution_count": 78,
      "outputs": [
        {
          "output_type": "error",
          "ename": "ValueError",
          "evalue": "ignored",
          "traceback": [
            "\u001b[0;31m---------------------------------------------------------------------------\u001b[0m",
            "\u001b[0;31mTypeError\u001b[0m                                 Traceback (most recent call last)",
            "\u001b[0;31mTypeError\u001b[0m: float() argument must be a string or a number, not 'tuple'",
            "\nThe above exception was the direct cause of the following exception:\n",
            "\u001b[0;31mValueError\u001b[0m                                Traceback (most recent call last)",
            "\u001b[0;32m<ipython-input-78-3f134ddf3d98>\u001b[0m in \u001b[0;36m<module>\u001b[0;34m()\u001b[0m\n\u001b[1;32m      1\u001b[0m \u001b[0mtweet_rf_model\u001b[0m \u001b[0;34m=\u001b[0m \u001b[0mskens\u001b[0m\u001b[0;34m.\u001b[0m\u001b[0mRandomForestClassifier\u001b[0m\u001b[0;34m(\u001b[0m\u001b[0mn_estimators\u001b[0m\u001b[0;34m=\u001b[0m\u001b[0;36m10\u001b[0m\u001b[0;34m,\u001b[0m\u001b[0moob_score\u001b[0m\u001b[0;34m=\u001b[0m\u001b[0;32mTrue\u001b[0m\u001b[0;34m,\u001b[0m \u001b[0mcriterion\u001b[0m\u001b[0;34m=\u001b[0m\u001b[0;34m'entropy'\u001b[0m\u001b[0;34m)\u001b[0m\u001b[0;34m\u001b[0m\u001b[0;34m\u001b[0m\u001b[0m\n\u001b[0;32m----> 2\u001b[0;31m \u001b[0mtweet_rf_model\u001b[0m\u001b[0;34m.\u001b[0m\u001b[0mfit\u001b[0m\u001b[0;34m(\u001b[0m\u001b[0mX_train\u001b[0m\u001b[0;34m,\u001b[0m\u001b[0my_train\u001b[0m\u001b[0;34m)\u001b[0m\u001b[0;34m\u001b[0m\u001b[0;34m\u001b[0m\u001b[0m\n\u001b[0m\u001b[1;32m      3\u001b[0m \u001b[0;34m\u001b[0m\u001b[0m\n\u001b[1;32m      4\u001b[0m \u001b[0mpredicted_labels\u001b[0m \u001b[0;34m=\u001b[0m \u001b[0mtweet_rf_model\u001b[0m\u001b[0;34m.\u001b[0m\u001b[0mpredict\u001b[0m\u001b[0;34m(\u001b[0m\u001b[0mX_test\u001b[0m\u001b[0;34m)\u001b[0m\u001b[0;34m\u001b[0m\u001b[0;34m\u001b[0m\u001b[0m\n\u001b[1;32m      5\u001b[0m \u001b[0mX_test\u001b[0m\u001b[0;34m[\u001b[0m\u001b[0;34m'predicted_rf_tree'\u001b[0m\u001b[0;34m]\u001b[0m \u001b[0;34m=\u001b[0m \u001b[0mpredicted_labels\u001b[0m\u001b[0;34m\u001b[0m\u001b[0;34m\u001b[0m\u001b[0m\n",
            "\u001b[0;32m/usr/local/lib/python3.6/dist-packages/sklearn/ensemble/_forest.py\u001b[0m in \u001b[0;36mfit\u001b[0;34m(self, X, y, sample_weight)\u001b[0m\n\u001b[1;32m    293\u001b[0m         \"\"\"\n\u001b[1;32m    294\u001b[0m         \u001b[0;31m# Validate or convert input data\u001b[0m\u001b[0;34m\u001b[0m\u001b[0;34m\u001b[0m\u001b[0;34m\u001b[0m\u001b[0m\n\u001b[0;32m--> 295\u001b[0;31m         \u001b[0mX\u001b[0m \u001b[0;34m=\u001b[0m \u001b[0mcheck_array\u001b[0m\u001b[0;34m(\u001b[0m\u001b[0mX\u001b[0m\u001b[0;34m,\u001b[0m \u001b[0maccept_sparse\u001b[0m\u001b[0;34m=\u001b[0m\u001b[0;34m\"csc\"\u001b[0m\u001b[0;34m,\u001b[0m \u001b[0mdtype\u001b[0m\u001b[0;34m=\u001b[0m\u001b[0mDTYPE\u001b[0m\u001b[0;34m)\u001b[0m\u001b[0;34m\u001b[0m\u001b[0;34m\u001b[0m\u001b[0m\n\u001b[0m\u001b[1;32m    296\u001b[0m         \u001b[0my\u001b[0m \u001b[0;34m=\u001b[0m \u001b[0mcheck_array\u001b[0m\u001b[0;34m(\u001b[0m\u001b[0my\u001b[0m\u001b[0;34m,\u001b[0m \u001b[0maccept_sparse\u001b[0m\u001b[0;34m=\u001b[0m\u001b[0;34m'csc'\u001b[0m\u001b[0;34m,\u001b[0m \u001b[0mensure_2d\u001b[0m\u001b[0;34m=\u001b[0m\u001b[0;32mFalse\u001b[0m\u001b[0;34m,\u001b[0m \u001b[0mdtype\u001b[0m\u001b[0;34m=\u001b[0m\u001b[0;32mNone\u001b[0m\u001b[0;34m)\u001b[0m\u001b[0;34m\u001b[0m\u001b[0;34m\u001b[0m\u001b[0m\n\u001b[1;32m    297\u001b[0m         \u001b[0;32mif\u001b[0m \u001b[0msample_weight\u001b[0m \u001b[0;32mis\u001b[0m \u001b[0;32mnot\u001b[0m \u001b[0;32mNone\u001b[0m\u001b[0;34m:\u001b[0m\u001b[0;34m\u001b[0m\u001b[0;34m\u001b[0m\u001b[0m\n",
            "\u001b[0;32m/usr/local/lib/python3.6/dist-packages/sklearn/utils/validation.py\u001b[0m in \u001b[0;36mcheck_array\u001b[0;34m(array, accept_sparse, accept_large_sparse, dtype, order, copy, force_all_finite, ensure_2d, allow_nd, ensure_min_samples, ensure_min_features, warn_on_dtype, estimator)\u001b[0m\n\u001b[1;32m    529\u001b[0m                     \u001b[0marray\u001b[0m \u001b[0;34m=\u001b[0m \u001b[0marray\u001b[0m\u001b[0;34m.\u001b[0m\u001b[0mastype\u001b[0m\u001b[0;34m(\u001b[0m\u001b[0mdtype\u001b[0m\u001b[0;34m,\u001b[0m \u001b[0mcasting\u001b[0m\u001b[0;34m=\u001b[0m\u001b[0;34m\"unsafe\"\u001b[0m\u001b[0;34m,\u001b[0m \u001b[0mcopy\u001b[0m\u001b[0;34m=\u001b[0m\u001b[0;32mFalse\u001b[0m\u001b[0;34m)\u001b[0m\u001b[0;34m\u001b[0m\u001b[0;34m\u001b[0m\u001b[0m\n\u001b[1;32m    530\u001b[0m                 \u001b[0;32melse\u001b[0m\u001b[0;34m:\u001b[0m\u001b[0;34m\u001b[0m\u001b[0;34m\u001b[0m\u001b[0m\n\u001b[0;32m--> 531\u001b[0;31m                     \u001b[0marray\u001b[0m \u001b[0;34m=\u001b[0m \u001b[0mnp\u001b[0m\u001b[0;34m.\u001b[0m\u001b[0masarray\u001b[0m\u001b[0;34m(\u001b[0m\u001b[0marray\u001b[0m\u001b[0;34m,\u001b[0m \u001b[0morder\u001b[0m\u001b[0;34m=\u001b[0m\u001b[0morder\u001b[0m\u001b[0;34m,\u001b[0m \u001b[0mdtype\u001b[0m\u001b[0;34m=\u001b[0m\u001b[0mdtype\u001b[0m\u001b[0;34m)\u001b[0m\u001b[0;34m\u001b[0m\u001b[0;34m\u001b[0m\u001b[0m\n\u001b[0m\u001b[1;32m    532\u001b[0m             \u001b[0;32mexcept\u001b[0m \u001b[0mComplexWarning\u001b[0m\u001b[0;34m:\u001b[0m\u001b[0;34m\u001b[0m\u001b[0;34m\u001b[0m\u001b[0m\n\u001b[1;32m    533\u001b[0m                 raise ValueError(\"Complex data not supported\\n\"\n",
            "\u001b[0;32m/usr/local/lib/python3.6/dist-packages/numpy/core/_asarray.py\u001b[0m in \u001b[0;36masarray\u001b[0;34m(a, dtype, order)\u001b[0m\n\u001b[1;32m     83\u001b[0m \u001b[0;34m\u001b[0m\u001b[0m\n\u001b[1;32m     84\u001b[0m     \"\"\"\n\u001b[0;32m---> 85\u001b[0;31m     \u001b[0;32mreturn\u001b[0m \u001b[0marray\u001b[0m\u001b[0;34m(\u001b[0m\u001b[0ma\u001b[0m\u001b[0;34m,\u001b[0m \u001b[0mdtype\u001b[0m\u001b[0;34m,\u001b[0m \u001b[0mcopy\u001b[0m\u001b[0;34m=\u001b[0m\u001b[0;32mFalse\u001b[0m\u001b[0;34m,\u001b[0m \u001b[0morder\u001b[0m\u001b[0;34m=\u001b[0m\u001b[0morder\u001b[0m\u001b[0;34m)\u001b[0m\u001b[0;34m\u001b[0m\u001b[0;34m\u001b[0m\u001b[0m\n\u001b[0m\u001b[1;32m     86\u001b[0m \u001b[0;34m\u001b[0m\u001b[0m\n\u001b[1;32m     87\u001b[0m \u001b[0;34m\u001b[0m\u001b[0m\n",
            "\u001b[0;31mValueError\u001b[0m: setting an array element with a sequence."
          ]
        }
      ]
    },
    {
      "cell_type": "markdown",
      "metadata": {
        "id": "FasTIZ7Y0b70",
        "colab_type": "text"
      },
      "source": [
        "# Q3 How well do text features to predict gender label?"
      ]
    },
    {
      "cell_type": "code",
      "metadata": {
        "id": "JkEHr17P0b71",
        "colab_type": "code",
        "colab": {}
      },
      "source": [
        ""
      ],
      "execution_count": 0,
      "outputs": []
    },
    {
      "cell_type": "code",
      "metadata": {
        "id": "tfZ62vIu0b77",
        "colab_type": "code",
        "colab": {}
      },
      "source": [
        ""
      ],
      "execution_count": 0,
      "outputs": []
    },
    {
      "cell_type": "code",
      "metadata": {
        "id": "T3oPZHwF0b7_",
        "colab_type": "code",
        "colab": {}
      },
      "source": [
        ""
      ],
      "execution_count": 0,
      "outputs": []
    },
    {
      "cell_type": "markdown",
      "metadata": {
        "id": "9mVjOp_B0b8J",
        "colab_type": "text"
      },
      "source": [
        "# Q4 How well do stylistic features to predict gender label?"
      ]
    },
    {
      "cell_type": "code",
      "metadata": {
        "id": "xJgZyZSr0b8K",
        "colab_type": "code",
        "colab": {}
      },
      "source": [
        ""
      ],
      "execution_count": 0,
      "outputs": []
    }
  ]
}